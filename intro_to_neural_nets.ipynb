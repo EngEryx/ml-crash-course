{
 "cells": [
  {
   "cell_type": "code",
   "execution_count": 0,
   "metadata": {
    "cellView": "form",
    "colab": {},
    "colab_type": "code",
    "id": "wDlWLbfkJtvu"
   },
   "outputs": [],
   "source": [
    "#@title Copyright 2020 Google LLC. Double-click here for license information.\n",
    "# Licensed under the Apache License, Version 2.0 (the \"License\");\n",
    "# you may not use this file except in compliance with the License.\n",
    "# You may obtain a copy of the License at\n",
    "#\n",
    "# https://www.apache.org/licenses/LICENSE-2.0\n",
    "#\n",
    "# Unless required by applicable law or agreed to in writing, software\n",
    "# distributed under the License is distributed on an \"AS IS\" BASIS,\n",
    "# WITHOUT WARRANTIES OR CONDITIONS OF ANY KIND, either express or implied.\n",
    "# See the License for the specific language governing permissions and\n",
    "# limitations under the License."
   ]
  },
  {
   "cell_type": "markdown",
   "metadata": {
    "colab_type": "text",
    "id": "TL5y5fY9Jy_x"
   },
   "source": [
    "# Introduction to Neural Nets\n",
    "\n",
    "This Colab builds a deep neural network to perform more sophisticated linear regression than the earlier Colabs."
   ]
  },
  {
   "cell_type": "markdown",
   "metadata": {
    "colab_type": "text",
    "id": "7RDY3EeAluPd"
   },
   "source": [
    "## Learning Objectives:\n",
    "\n",
    "After doing this Colab, you'll know how to do the following:\n",
    "\n",
    "  * Create a simple deep neural network.\n",
    "  * Tune the hyperparameters for a simple deep neural network."
   ]
  },
  {
   "cell_type": "markdown",
   "metadata": {
    "colab_type": "text",
    "id": "XGj0PNaJlubZ"
   },
   "source": [
    "## The Dataset\n",
    "  \n",
    "Like several of the previous Colabs, this Colab uses the [California Housing Dataset](https://developers.google.com/machine-learning/crash-course/california-housing-data-description)."
   ]
  },
  {
   "cell_type": "markdown",
   "metadata": {
    "colab_type": "text",
    "id": "tX_umRMMsa3z"
   },
   "source": [
    "## Use the right version of TensorFlow\n",
    "\n",
    "The following hidden code cell ensures that the Colab will run on TensorFlow 2.X."
   ]
  },
  {
   "cell_type": "code",
   "execution_count": 1,
   "metadata": {
    "cellView": "form",
    "colab": {},
    "colab_type": "code",
    "id": "lM75uNH-sTv2"
   },
   "outputs": [],
   "source": [
    "#@title Run on TensorFlow 2.x\n",
    "\n",
    "from __future__ import absolute_import, division, print_function, unicode_literals"
   ]
  },
  {
   "cell_type": "markdown",
   "metadata": {
    "colab_type": "text",
    "id": "xchnxAsaKKqO"
   },
   "source": [
    "## Import relevant modules\n",
    "\n",
    "The following hidden code cell imports the necessary code to run the code in the rest of this Colaboratory."
   ]
  },
  {
   "cell_type": "code",
   "execution_count": 4,
   "metadata": {},
   "outputs": [
    {
     "name": "stdout",
     "output_type": "stream",
     "text": [
      "Collecting seaborn\n",
      "  Downloading seaborn-0.10.1-py3-none-any.whl (215 kB)\n",
      "\u001B[K     |████████████████████████████████| 215 kB 498 kB/s eta 0:00:01\n",
      "\u001B[?25hRequirement already satisfied: numpy>=1.13.3 in /Users/eric/.conda/envs/mlbase/lib/python3.8/site-packages (from seaborn) (1.19.1)\n",
      "Requirement already satisfied: pandas>=0.22.0 in /Users/eric/.conda/envs/mlbase/lib/python3.8/site-packages (from seaborn) (1.1.0)\n",
      "Requirement already satisfied: scipy>=1.0.1 in /Users/eric/.conda/envs/mlbase/lib/python3.8/site-packages (from seaborn) (1.4.1)\n",
      "Requirement already satisfied: matplotlib>=2.1.2 in /Users/eric/.conda/envs/mlbase/lib/python3.8/site-packages (from seaborn) (3.3.1)\n",
      "Requirement already satisfied: pytz>=2017.2 in /Users/eric/.conda/envs/mlbase/lib/python3.8/site-packages (from pandas>=0.22.0->seaborn) (2020.1)\n",
      "Requirement already satisfied: python-dateutil>=2.7.3 in /Users/eric/.conda/envs/mlbase/lib/python3.8/site-packages (from pandas>=0.22.0->seaborn) (2.8.1)\n",
      "Requirement already satisfied: cycler>=0.10 in /Users/eric/.conda/envs/mlbase/lib/python3.8/site-packages (from matplotlib>=2.1.2->seaborn) (0.10.0)\n",
      "Requirement already satisfied: kiwisolver>=1.0.1 in /Users/eric/.conda/envs/mlbase/lib/python3.8/site-packages (from matplotlib>=2.1.2->seaborn) (1.2.0)\n",
      "Requirement already satisfied: pillow>=6.2.0 in /Users/eric/.conda/envs/mlbase/lib/python3.8/site-packages (from matplotlib>=2.1.2->seaborn) (7.2.0)\n",
      "Requirement already satisfied: certifi>=2020.06.20 in /Users/eric/.conda/envs/mlbase/lib/python3.8/site-packages (from matplotlib>=2.1.2->seaborn) (2020.6.20)\n",
      "Requirement already satisfied: pyparsing!=2.0.4,!=2.1.2,!=2.1.6,>=2.0.3 in /Users/eric/.conda/envs/mlbase/lib/python3.8/site-packages (from matplotlib>=2.1.2->seaborn) (2.4.7)\n",
      "Requirement already satisfied: six>=1.5 in /Users/eric/.conda/envs/mlbase/lib/python3.8/site-packages (from python-dateutil>=2.7.3->pandas>=0.22.0->seaborn) (1.15.0)\n",
      "Installing collected packages: seaborn\n",
      "Successfully installed seaborn-0.10.1\n"
     ]
    }
   ],
   "source": [
    "!pip install seaborn"
   ]
  },
  {
   "cell_type": "code",
   "execution_count": null,
   "outputs": [],
   "source": [
    "#@title Import relevant modules\n",
    "import numpy as np\n",
    "import pandas as pd\n",
    "import tensorflow as tf\n",
    "from tensorflow.keras import layers\n",
    "from matplotlib import pyplot as plt\n",
    "import seaborn as sns\n",
    "\n",
    "# The following lines adjust the granularity of reporting. \n",
    "pd.options.display.max_rows = 10\n",
    "pd.options.display.float_format = \"{:.1f}\".format\n",
    "\n",
    "print(f\"Using tensorflow version {tf.__version__}\")\n",
    "\n",
    "print(\"Imported modules.\")"
   ],
   "metadata": {
    "collapsed": false,
    "pycharm": {
     "name": "#%%\n"
    }
   }
  },
  {
   "cell_type": "code",
   "execution_count": 5,
   "metadata": {
    "cellView": "form",
    "colab": {},
    "colab_type": "code",
    "id": "9n9_cTveKmse"
   },
   "outputs": [
    {
     "name": "stdout",
     "output_type": "stream",
     "text": [
      "Using tensorflow version 2.3.0\n",
      "Imported modules.\n"
     ]
    }
   ],
   "source": [
    "## Load the dataset\n",
    "\n",
    "Like most of the previous Colab exercises, this exercise uses the California Housing Dataset.  The following code cell loads the separate .csv files and creates the following two pandas DataFrames:\n",
    "\n",
    "* `train_df`, which contains the training set\n",
    "* `test_df`, which contains the test set\n",
    "   "
   ]
  },
  {
   "cell_type": "markdown",
   "metadata": {
    "colab_type": "text",
    "id": "X_TaJhU4KcuY"
   },
   "source": [
    "## Load the dataset\n",
    "\n",
    "Like most of the previous Colab exercises, this exercise uses the California Housing Dataset.  The following code cell loads the separate .csv files and creates the following two pandas DataFrames:\n",
    "\n",
    "* `train_df`, which contains the training set\n",
    "* `test_df`, which contains the test set\n",
    "   "
   ]
  },
  {
   "cell_type": "code",
   "execution_count": 6,
   "metadata": {
    "colab": {},
    "colab_type": "code",
    "id": "JZlvdpyYKx7V"
   },
   "outputs": [],
   "source": [
    "train_df = pd.read_csv(\"https://download.mlcc.google.com/mledu-datasets/california_housing_train.csv\")\n",
    "train_df = train_df.reindex(np.random.permutation(train_df.index)) # shuffle the examples\n",
    "test_df = pd.read_csv(\"https://download.mlcc.google.com/mledu-datasets/california_housing_test.csv\")"
   ]
  },
  {
   "cell_type": "markdown",
   "metadata": {
    "colab_type": "text",
    "id": "8ldP-5z1B2vL"
   },
   "source": [
    "## Normalize values\n",
    "\n",
    "When building a model with multiple features, the values of each feature should cover roughly the same range.  The following code cell normalizes datasets by converting each raw value to its Z-score. (For more information about Z-scores, see the Classification exercise.)"
   ]
  },
  {
   "cell_type": "code",
   "execution_count": 7,
   "metadata": {
    "cellView": "form",
    "colab": {},
    "colab_type": "code",
    "id": "g8HC-TDgB1D1"
   },
   "outputs": [
    {
     "name": "stdout",
     "output_type": "stream",
     "text": [
      "Normalized the values.\n"
     ]
    }
   ],
   "source": [
    "#@title Convert raw values to their Z-scores \n",
    "\n",
    "# Calculate the Z-scores of each column in the training set:\n",
    "train_df_mean = train_df.mean()\n",
    "train_df_std = train_df.std()\n",
    "train_df_norm = (train_df - train_df_mean)/train_df_std\n",
    "\n",
    "# Calculate the Z-scores of each column in the test set.\n",
    "test_df_mean = test_df.mean()\n",
    "test_df_std = test_df.std()\n",
    "test_df_norm = (test_df - test_df_mean)/test_df_std\n",
    "\n",
    "print(\"Normalized the values.\")"
   ]
  },
  {
   "cell_type": "markdown",
   "metadata": {
    "colab_type": "text",
    "id": "b9ehCgIRjTxy"
   },
   "source": [
    "## Represent data\n",
    "\n",
    "The following code cell creates a feature layer containing three features:\n",
    "\n",
    "* `latitude` X `longitude` (a feature cross)\n",
    "* `median_income`\n",
    "* `population`\n",
    "\n",
    "This code cell specifies the features that you'll ultimately train the model on and how each of those features will be represented. The transformations (collected in `my_feature_layer`) don't actually get applied until you pass a DataFrame to it, which will happen when we train the model. "
   ]
  },
  {
   "cell_type": "code",
   "execution_count": 8,
   "metadata": {
    "colab": {},
    "colab_type": "code",
    "id": "8EkNAQhnjSu-"
   },
   "outputs": [],
   "source": [
    "# Create an empty list that will eventually hold all created feature columns.\n",
    "feature_columns = []\n",
    "\n",
    "# We scaled all the columns, including latitude and longitude, into their\n",
    "# Z scores. So, instead of picking a resolution in degrees, we're going\n",
    "# to use resolution_in_Zs.  A resolution_in_Zs of 1 corresponds to \n",
    "# a full standard deviation. \n",
    "resolution_in_Zs = 0.3  # 3/10 of a standard deviation.\n",
    "\n",
    "# Create a bucket feature column for latitude.\n",
    "latitude_as_a_numeric_column = tf.feature_column.numeric_column(\"latitude\")\n",
    "latitude_boundaries = list(np.arange(int(min(train_df_norm['latitude'])), \n",
    "                                     int(max(train_df_norm['latitude'])), \n",
    "                                     resolution_in_Zs))\n",
    "latitude = tf.feature_column.bucketized_column(latitude_as_a_numeric_column, latitude_boundaries)\n",
    "\n",
    "# Create a bucket feature column for longitude.\n",
    "longitude_as_a_numeric_column = tf.feature_column.numeric_column(\"longitude\")\n",
    "longitude_boundaries = list(np.arange(int(min(train_df_norm['longitude'])), \n",
    "                                      int(max(train_df_norm['longitude'])), \n",
    "                                      resolution_in_Zs))\n",
    "longitude = tf.feature_column.bucketized_column(longitude_as_a_numeric_column, \n",
    "                                                longitude_boundaries)\n",
    "\n",
    "# Create a feature cross of latitude and longitude.\n",
    "latitude_x_longitude = tf.feature_column.crossed_column([latitude, longitude], hash_bucket_size=100)\n",
    "crossed_feature = tf.feature_column.indicator_column(latitude_x_longitude)\n",
    "feature_columns.append(crossed_feature)  \n",
    "\n",
    "# Represent median_income as a floating-point value.\n",
    "median_income = tf.feature_column.numeric_column(\"median_income\")\n",
    "feature_columns.append(median_income)\n",
    "\n",
    "# Represent population as a floating-point value.\n",
    "population = tf.feature_column.numeric_column(\"population\")\n",
    "feature_columns.append(population)\n",
    "\n",
    "# Convert the list of feature columns into a layer that will later be fed into\n",
    "# the model. \n",
    "my_feature_layer = tf.keras.layers.DenseFeatures(feature_columns)"
   ]
  },
  {
   "cell_type": "markdown",
   "metadata": {
    "colab_type": "text",
    "id": "Ak_TMAzGOIFq"
   },
   "source": [
    "## Build a linear regression model as a baseline\n",
    "\n",
    "Before creating a deep neural net, find a [baseline](https://developers.google.com/machine-learning/glossary/#baseline) loss by running a simple linear regression model that uses the feature layer you just created. \n"
   ]
  },
  {
   "cell_type": "code",
   "execution_count": 9,
   "metadata": {
    "cellView": "form",
    "colab": {},
    "colab_type": "code",
    "id": "QF0BFRXTOeR3"
   },
   "outputs": [
    {
     "name": "stdout",
     "output_type": "stream",
     "text": [
      "Defined the plot_the_loss_curve function.\n"
     ]
    }
   ],
   "source": [
    "#@title Define the plotting function.\n",
    "\n",
    "def plot_the_loss_curve(epochs, mse):\n",
    "  \"\"\"Plot a curve of loss vs. epoch.\"\"\"\n",
    "\n",
    "  plt.figure()\n",
    "  plt.xlabel(\"Epoch\")\n",
    "  plt.ylabel(\"Mean Squared Error\")\n",
    "\n",
    "  plt.plot(epochs, mse, label=\"Loss\")\n",
    "  plt.legend()\n",
    "  plt.ylim([mse.min()*0.95, mse.max() * 1.03])\n",
    "  plt.show()  \n",
    "\n",
    "print(\"Defined the plot_the_loss_curve function.\")"
   ]
  },
  {
   "cell_type": "code",
   "execution_count": 10,
   "metadata": {
    "cellView": "form",
    "colab": {},
    "colab_type": "code",
    "id": "RW4Qe710LgnG"
   },
   "outputs": [
    {
     "name": "stdout",
     "output_type": "stream",
     "text": [
      "Defined the create_model and train_model functions.\n"
     ]
    }
   ],
   "source": [
    "#@title Define functions to create and train a linear regression model\n",
    "def create_model(my_learning_rate, feature_layer):\n",
    "  \"\"\"Create and compile a simple linear regression model.\"\"\"\n",
    "  # Most simple tf.keras models are sequential.\n",
    "  model = tf.keras.models.Sequential()\n",
    "\n",
    "  # Add the layer containing the feature columns to the model.\n",
    "  model.add(feature_layer)\n",
    "\n",
    "  # Add one linear layer to the model to yield a simple linear regressor.\n",
    "  model.add(tf.keras.layers.Dense(units=1, input_shape=(1,)))\n",
    "\n",
    "  # Construct the layers into a model that TensorFlow can execute.\n",
    "  model.compile(optimizer=tf.keras.optimizers.RMSprop(lr=my_learning_rate),\n",
    "                loss=\"mean_squared_error\",\n",
    "                metrics=[tf.keras.metrics.MeanSquaredError()])\n",
    "\n",
    "  return model           \n",
    "\n",
    "\n",
    "def train_model(model, dataset, epochs, batch_size, label_name):\n",
    "  \"\"\"Feed a dataset into the model in order to train it.\"\"\"\n",
    "\n",
    "  # Split the dataset into features and label.\n",
    "  features = {name:np.array(value) for name, value in dataset.items()}\n",
    "  label = np.array(features.pop(label_name))\n",
    "  history = model.fit(x=features, y=label, batch_size=batch_size,\n",
    "                      epochs=epochs, shuffle=True)\n",
    "\n",
    "  # Get details that will be useful for plotting the loss curve.\n",
    "  epochs = history.epoch\n",
    "  hist = pd.DataFrame(history.history)\n",
    "  rmse = hist[\"mean_squared_error\"]\n",
    "\n",
    "  return epochs, rmse   \n",
    "\n",
    "print(\"Defined the create_model and train_model functions.\")"
   ]
  },
  {
   "cell_type": "markdown",
   "metadata": {
    "colab_type": "text",
    "id": "f47LmxF5X_pu"
   },
   "source": [
    "Run the following code cell to invoke the the functions defined in the preceding two code cells. (Ignore the warning messages.)\n",
    "\n",
    "**Note:** Because we've scaled all the input data, **including the label**, the resulting loss values will be *much less* than previous models. \n",
    "\n",
    "**Note:** Depending on the version of TensorFlow, running this cell might generate WARNING messages. Please ignore these warnings. "
   ]
  },
  {
   "cell_type": "code",
   "execution_count": 11,
   "metadata": {
    "colab": {},
    "colab_type": "code",
    "id": "tsfE4ujDL4ju"
   },
   "outputs": [
    {
     "name": "stdout",
     "output_type": "stream",
     "text": [
      "Epoch 1/15\n",
      "WARNING:tensorflow:Layers in a Sequential model should only have a single input tensor, but we receive a <class 'dict'> input: {'longitude': <tf.Tensor 'ExpandDims_3:0' shape=(1000, 1) dtype=float32>, 'latitude': <tf.Tensor 'ExpandDims_2:0' shape=(1000, 1) dtype=float32>, 'housing_median_age': <tf.Tensor 'ExpandDims_1:0' shape=(1000, 1) dtype=float32>, 'total_rooms': <tf.Tensor 'ExpandDims_7:0' shape=(1000, 1) dtype=float32>, 'total_bedrooms': <tf.Tensor 'ExpandDims_6:0' shape=(1000, 1) dtype=float32>, 'population': <tf.Tensor 'ExpandDims_5:0' shape=(1000, 1) dtype=float32>, 'households': <tf.Tensor 'ExpandDims:0' shape=(1000, 1) dtype=float32>, 'median_income': <tf.Tensor 'ExpandDims_4:0' shape=(1000, 1) dtype=float32>}\n",
      "Consider rewriting this model with the Functional API.\n",
      "WARNING:tensorflow:Layers in a Sequential model should only have a single input tensor, but we receive a <class 'dict'> input: {'longitude': <tf.Tensor 'ExpandDims_3:0' shape=(1000, 1) dtype=float32>, 'latitude': <tf.Tensor 'ExpandDims_2:0' shape=(1000, 1) dtype=float32>, 'housing_median_age': <tf.Tensor 'ExpandDims_1:0' shape=(1000, 1) dtype=float32>, 'total_rooms': <tf.Tensor 'ExpandDims_7:0' shape=(1000, 1) dtype=float32>, 'total_bedrooms': <tf.Tensor 'ExpandDims_6:0' shape=(1000, 1) dtype=float32>, 'population': <tf.Tensor 'ExpandDims_5:0' shape=(1000, 1) dtype=float32>, 'households': <tf.Tensor 'ExpandDims:0' shape=(1000, 1) dtype=float32>, 'median_income': <tf.Tensor 'ExpandDims_4:0' shape=(1000, 1) dtype=float32>}\n",
      "Consider rewriting this model with the Functional API.\n",
      "17/17 [==============================] - 0s 1ms/step - loss: 0.7673 - mean_squared_error: 0.7673\n",
      "Epoch 2/15\n",
      "17/17 [==============================] - 0s 1ms/step - loss: 0.5347 - mean_squared_error: 0.5347\n",
      "Epoch 3/15\n",
      "17/17 [==============================] - 0s 1ms/step - loss: 0.4321 - mean_squared_error: 0.4321\n",
      "Epoch 4/15\n",
      "17/17 [==============================] - 0s 1ms/step - loss: 0.3866 - mean_squared_error: 0.3866\n",
      "Epoch 5/15\n",
      "17/17 [==============================] - 0s 1ms/step - loss: 0.3709 - mean_squared_error: 0.3709\n",
      "Epoch 6/15\n",
      "17/17 [==============================] - 0s 1ms/step - loss: 0.3645 - mean_squared_error: 0.3645\n",
      "Epoch 7/15\n",
      "17/17 [==============================] - 0s 1ms/step - loss: 0.3616 - mean_squared_error: 0.3616\n",
      "Epoch 8/15\n",
      "17/17 [==============================] - 0s 1ms/step - loss: 0.3606 - mean_squared_error: 0.3606\n",
      "Epoch 9/15\n",
      "17/17 [==============================] - 0s 1ms/step - loss: 0.3599 - mean_squared_error: 0.3599\n",
      "Epoch 10/15\n",
      "17/17 [==============================] - 0s 996us/step - loss: 0.3600 - mean_squared_error: 0.3600\n",
      "Epoch 11/15\n",
      "17/17 [==============================] - 0s 1ms/step - loss: 0.3600 - mean_squared_error: 0.3600\n",
      "Epoch 12/15\n",
      "17/17 [==============================] - 0s 1ms/step - loss: 0.3598 - mean_squared_error: 0.3598\n",
      "Epoch 13/15\n",
      "17/17 [==============================] - 0s 1ms/step - loss: 0.3598 - mean_squared_error: 0.3598\n",
      "Epoch 14/15\n",
      "17/17 [==============================] - 0s 1ms/step - loss: 0.3598 - mean_squared_error: 0.3598\n",
      "Epoch 15/15\n",
      "17/17 [==============================] - 0s 1ms/step - loss: 0.3599 - mean_squared_error: 0.3599\n"
     ]
    },
    {
     "data": {
      "image/png": "[encoded data removed]",
      "text/plain": [
       "<Figure size 432x288 with 1 Axes>"
      ]
     },
     "metadata": {
      "needs_background": "light"
     },
     "output_type": "display_data"
    },
    {
     "name": "stdout",
     "output_type": "stream",
     "text": [
      "\n",
      " Evaluate the linear regression model against the test set:\n",
      "WARNING:tensorflow:Layers in a Sequential model should only have a single input tensor, but we receive a <class 'dict'> input: {'longitude': <tf.Tensor 'ExpandDims_3:0' shape=(1000, 1) dtype=float32>, 'latitude': <tf.Tensor 'ExpandDims_2:0' shape=(1000, 1) dtype=float32>, 'housing_median_age': <tf.Tensor 'ExpandDims_1:0' shape=(1000, 1) dtype=float32>, 'total_rooms': <tf.Tensor 'ExpandDims_7:0' shape=(1000, 1) dtype=float32>, 'total_bedrooms': <tf.Tensor 'ExpandDims_6:0' shape=(1000, 1) dtype=float32>, 'population': <tf.Tensor 'ExpandDims_5:0' shape=(1000, 1) dtype=float32>, 'households': <tf.Tensor 'ExpandDims:0' shape=(1000, 1) dtype=float32>, 'median_income': <tf.Tensor 'ExpandDims_4:0' shape=(1000, 1) dtype=float32>}\n",
      "Consider rewriting this model with the Functional API.\n",
      "3/3 [==============================] - 0s 1ms/step - loss: 0.3950 - mean_squared_error: 0.3950\n"
     ]
    },
    {
     "data": {
      "text/plain": [
       "[0.3950304388999939, 0.3950304388999939]"
      ]
     },
     "execution_count": 11,
     "metadata": {},
     "output_type": "execute_result"
    }
   ],
   "source": [
    "# The following variables are the hyperparameters.\n",
    "learning_rate = 0.01\n",
    "epochs = 15\n",
    "batch_size = 1000\n",
    "label_name = \"median_house_value\"\n",
    "\n",
    "# Establish the model's topography.\n",
    "my_model = create_model(learning_rate, my_feature_layer)\n",
    "\n",
    "# Train the model on the normalized training set.\n",
    "epochs, mse = train_model(my_model, train_df_norm, epochs, batch_size, label_name)\n",
    "plot_the_loss_curve(epochs, mse)\n",
    "\n",
    "test_features = {name:np.array(value) for name, value in test_df_norm.items()}\n",
    "test_label = np.array(test_features.pop(label_name)) # isolate the label\n",
    "print(\"\\n Evaluate the linear regression model against the test set:\")\n",
    "my_model.evaluate(x = test_features, y = test_label, batch_size=batch_size)"
   ]
  },
  {
   "cell_type": "markdown",
   "metadata": {
    "colab_type": "text",
    "id": "3014ezH3C7jT"
   },
   "source": [
    "## Define a deep neural net model\n",
    "\n",
    "The `create_model` function defines the topography of the deep neural net, specifying the following:\n",
    "\n",
    "* The number of [layers](https://developers.google.com/machine-learning/glossary/#layer) in the deep neural net.\n",
    "* The number of [nodes](https://developers.google.com/machine-learning/glossary/#node) in each layer.\n",
    "\n",
    "The `create_model` function also defines the [activation function](https://developers.google.com/machine-learning/glossary/#activation_function) of each layer."
   ]
  },
  {
   "cell_type": "code",
   "execution_count": 12,
   "metadata": {
    "cellView": "both",
    "colab": {},
    "colab_type": "code",
    "id": "pedD5GhlDC-y"
   },
   "outputs": [],
   "source": [
    "def create_model(my_learning_rate, my_feature_layer):\n",
    "  \"\"\"Create and compile a simple linear regression model.\"\"\"\n",
    "  # Most simple tf.keras models are sequential.\n",
    "  model = tf.keras.models.Sequential()\n",
    "\n",
    "  # Add the layer containing the feature columns to the model.\n",
    "  model.add(my_feature_layer)\n",
    "\n",
    "  # Describe the topography of the model by calling the tf.keras.layers.Dense\n",
    "  # method once for each layer. We've specified the following arguments:\n",
    "  #   * units specifies the number of nodes in this layer.\n",
    "  #   * activation specifies the activation function (Rectified Linear Unit).\n",
    "  #   * name is just a string that can be useful when debugging.\n",
    "\n",
    "  # Define the first hidden layer with 20 nodes.   \n",
    "  model.add(tf.keras.layers.Dense(units=20, \n",
    "                                  activation='relu', \n",
    "                                  name='Hidden1'))\n",
    "  \n",
    "  # Define the second hidden layer with 12 nodes. \n",
    "  model.add(tf.keras.layers.Dense(units=12, \n",
    "                                  activation='relu', \n",
    "                                  name='Hidden2'))\n",
    "  \n",
    "  # Define the output layer.\n",
    "  model.add(tf.keras.layers.Dense(units=1,  \n",
    "                                  name='Output'))                              \n",
    "  \n",
    "  model.compile(optimizer=tf.keras.optimizers.Adam(lr=my_learning_rate),\n",
    "                loss=\"mean_squared_error\",\n",
    "                metrics=[tf.keras.metrics.MeanSquaredError()])\n",
    "\n",
    "  return model"
   ]
  },
  {
   "cell_type": "markdown",
   "metadata": {
    "colab_type": "text",
    "id": "anH4A_yCcZx2"
   },
   "source": [
    "## Define a training function\n",
    "\n",
    "The `train_model` function trains the model from the input features and labels. The [tf.keras.Model.fit](https://www.tensorflow.org/api_docs/python/tf/keras/Sequential#fit) method performs the actual training. The `x` parameter of the `fit` method is very flexible, enabling you to pass feature data in a variety of ways. The following implementation passes a Python dictionary in which:\n",
    "\n",
    "* The *keys* are the names of each feature (for example, `longitude`, `latitude`, and so on).\n",
    "* The *value* of each key is a NumPy array containing the values of that feature. \n",
    "\n",
    "**Note:** Although you are passing *every* feature to `model.fit`, most of those values will be ignored. Only the features accessed by `my_feature_layer` will actually be used to train the model."
   ]
  },
  {
   "cell_type": "code",
   "execution_count": 13,
   "metadata": {
    "colab": {},
    "colab_type": "code",
    "id": "4jv_lJYTcrEF"
   },
   "outputs": [],
   "source": [
    "def train_model(model, dataset, epochs, label_name,\n",
    "                batch_size=None):\n",
    "  \"\"\"Train the model by feeding it data.\"\"\"\n",
    "\n",
    "  # Split the dataset into features and label.\n",
    "  features = {name:np.array(value) for name, value in dataset.items()}\n",
    "  label = np.array(features.pop(label_name))\n",
    "  history = model.fit(x=features, y=label, batch_size=batch_size,\n",
    "                      epochs=epochs, shuffle=True) \n",
    "\n",
    "  # The list of epochs is stored separately from the rest of history.\n",
    "  epochs = history.epoch\n",
    "  \n",
    "  # To track the progression of training, gather a snapshot\n",
    "  # of the model's mean squared error at each epoch. \n",
    "  hist = pd.DataFrame(history.history)\n",
    "  mse = hist[\"mean_squared_error\"]\n",
    "\n",
    "  return epochs, mse"
   ]
  },
  {
   "cell_type": "markdown",
   "metadata": {
    "colab_type": "text",
    "id": "D-IXYVfvM4gD"
   },
   "source": [
    "## Call the functions to build and train a deep neural net\n",
    "\n",
    "Okay, it is time to actually train the deep neural net.  If time permits, experiment with the three hyperparameters to see if you can reduce the loss\n",
    "against the test set.\n"
   ]
  },
  {
   "cell_type": "code",
   "execution_count": 14,
   "metadata": {
    "cellView": "both",
    "colab": {},
    "colab_type": "code",
    "id": "nj3v5EKQFY8s"
   },
   "outputs": [
    {
     "name": "stdout",
     "output_type": "stream",
     "text": [
      "Epoch 1/20\n",
      "WARNING:tensorflow:Layers in a Sequential model should only have a single input tensor, but we receive a <class 'dict'> input: {'longitude': <tf.Tensor 'ExpandDims_3:0' shape=(1000, 1) dtype=float32>, 'latitude': <tf.Tensor 'ExpandDims_2:0' shape=(1000, 1) dtype=float32>, 'housing_median_age': <tf.Tensor 'ExpandDims_1:0' shape=(1000, 1) dtype=float32>, 'total_rooms': <tf.Tensor 'ExpandDims_7:0' shape=(1000, 1) dtype=float32>, 'total_bedrooms': <tf.Tensor 'ExpandDims_6:0' shape=(1000, 1) dtype=float32>, 'population': <tf.Tensor 'ExpandDims_5:0' shape=(1000, 1) dtype=float32>, 'households': <tf.Tensor 'ExpandDims:0' shape=(1000, 1) dtype=float32>, 'median_income': <tf.Tensor 'ExpandDims_4:0' shape=(1000, 1) dtype=float32>}\n",
      "Consider rewriting this model with the Functional API.\n",
      "WARNING:tensorflow:Layers in a Sequential model should only have a single input tensor, but we receive a <class 'dict'> input: {'longitude': <tf.Tensor 'ExpandDims_3:0' shape=(1000, 1) dtype=float32>, 'latitude': <tf.Tensor 'ExpandDims_2:0' shape=(1000, 1) dtype=float32>, 'housing_median_age': <tf.Tensor 'ExpandDims_1:0' shape=(1000, 1) dtype=float32>, 'total_rooms': <tf.Tensor 'ExpandDims_7:0' shape=(1000, 1) dtype=float32>, 'total_bedrooms': <tf.Tensor 'ExpandDims_6:0' shape=(1000, 1) dtype=float32>, 'population': <tf.Tensor 'ExpandDims_5:0' shape=(1000, 1) dtype=float32>, 'households': <tf.Tensor 'ExpandDims:0' shape=(1000, 1) dtype=float32>, 'median_income': <tf.Tensor 'ExpandDims_4:0' shape=(1000, 1) dtype=float32>}\n",
      "Consider rewriting this model with the Functional API.\n",
      "17/17 [==============================] - 0s 1ms/step - loss: 0.5502 - mean_squared_error: 0.5502\n",
      "Epoch 2/20\n",
      "17/17 [==============================] - 0s 1ms/step - loss: 0.3665 - mean_squared_error: 0.3665\n",
      "Epoch 3/20\n",
      "17/17 [==============================] - 0s 1ms/step - loss: 0.3469 - mean_squared_error: 0.3469\n",
      "Epoch 4/20\n",
      "17/17 [==============================] - 0s 1ms/step - loss: 0.3400 - mean_squared_error: 0.3400\n",
      "Epoch 5/20\n",
      "17/17 [==============================] - 0s 1ms/step - loss: 0.3362 - mean_squared_error: 0.3362\n",
      "Epoch 6/20\n",
      "17/17 [==============================] - 0s 1ms/step - loss: 0.3341 - mean_squared_error: 0.3341\n",
      "Epoch 7/20\n",
      "17/17 [==============================] - 0s 1ms/step - loss: 0.3324 - mean_squared_error: 0.3324\n",
      "Epoch 8/20\n",
      "17/17 [==============================] - 0s 1ms/step - loss: 0.3298 - mean_squared_error: 0.3298\n",
      "Epoch 9/20\n",
      "17/17 [==============================] - 0s 1ms/step - loss: 0.3269 - mean_squared_error: 0.3269\n",
      "Epoch 10/20\n",
      "17/17 [==============================] - 0s 1ms/step - loss: 0.3264 - mean_squared_error: 0.3264\n",
      "Epoch 11/20\n",
      "17/17 [==============================] - 0s 1ms/step - loss: 0.3268 - mean_squared_error: 0.3268\n",
      "Epoch 12/20\n",
      "17/17 [==============================] - 0s 1ms/step - loss: 0.3244 - mean_squared_error: 0.3244\n",
      "Epoch 13/20\n",
      "17/17 [==============================] - 0s 1ms/step - loss: 0.3237 - mean_squared_error: 0.3237\n",
      "Epoch 14/20\n",
      "17/17 [==============================] - 0s 1ms/step - loss: 0.3228 - mean_squared_error: 0.3228\n",
      "Epoch 15/20\n",
      "17/17 [==============================] - 0s 1ms/step - loss: 0.3236 - mean_squared_error: 0.3236\n",
      "Epoch 16/20\n",
      "17/17 [==============================] - 0s 1ms/step - loss: 0.3229 - mean_squared_error: 0.3229\n",
      "Epoch 17/20\n",
      "17/17 [==============================] - 0s 1ms/step - loss: 0.3236 - mean_squared_error: 0.3236\n",
      "Epoch 18/20\n",
      "17/17 [==============================] - 0s 1ms/step - loss: 0.3238 - mean_squared_error: 0.3238\n",
      "Epoch 19/20\n",
      "17/17 [==============================] - 0s 1ms/step - loss: 0.3216 - mean_squared_error: 0.3216\n",
      "Epoch 20/20\n",
      "17/17 [==============================] - 0s 1ms/step - loss: 0.3209 - mean_squared_error: 0.3209\n"
     ]
    },
    {
     "data": {
      "image/png": "[encoded data removed]",
      "text/plain": [
       "<Figure size 432x288 with 1 Axes>"
      ]
     },
     "metadata": {
      "needs_background": "light"
     },
     "output_type": "display_data"
    },
    {
     "name": "stdout",
     "output_type": "stream",
     "text": [
      "\n",
      " Evaluate the new model against the test set:\n",
      "WARNING:tensorflow:Layers in a Sequential model should only have a single input tensor, but we receive a <class 'dict'> input: {'longitude': <tf.Tensor 'ExpandDims_3:0' shape=(1000, 1) dtype=float32>, 'latitude': <tf.Tensor 'ExpandDims_2:0' shape=(1000, 1) dtype=float32>, 'housing_median_age': <tf.Tensor 'ExpandDims_1:0' shape=(1000, 1) dtype=float32>, 'total_rooms': <tf.Tensor 'ExpandDims_7:0' shape=(1000, 1) dtype=float32>, 'total_bedrooms': <tf.Tensor 'ExpandDims_6:0' shape=(1000, 1) dtype=float32>, 'population': <tf.Tensor 'ExpandDims_5:0' shape=(1000, 1) dtype=float32>, 'households': <tf.Tensor 'ExpandDims:0' shape=(1000, 1) dtype=float32>, 'median_income': <tf.Tensor 'ExpandDims_4:0' shape=(1000, 1) dtype=float32>}\n",
      "Consider rewriting this model with the Functional API.\n",
      "3/3 [==============================] - 0s 1ms/step - loss: 0.3614 - mean_squared_error: 0.3614\n"
     ]
    },
    {
     "data": {
      "text/plain": [
       "[0.3614298105239868, 0.3614298105239868]"
      ]
     },
     "execution_count": 14,
     "metadata": {},
     "output_type": "execute_result"
    }
   ],
   "source": [
    "# The following variables are the hyperparameters.\n",
    "learning_rate = 0.01\n",
    "epochs = 20\n",
    "batch_size = 1000\n",
    "\n",
    "# Specify the label\n",
    "label_name = \"median_house_value\"\n",
    "\n",
    "# Establish the model's topography.\n",
    "my_model = create_model(learning_rate, my_feature_layer)\n",
    "\n",
    "# Train the model on the normalized training set. We're passing the entire\n",
    "# normalized training set, but the model will only use the features\n",
    "# defined by the feature_layer.\n",
    "epochs, mse = train_model(my_model, train_df_norm, epochs, \n",
    "                          label_name, batch_size)\n",
    "plot_the_loss_curve(epochs, mse)\n",
    "\n",
    "# After building a model against the training set, test that model\n",
    "# against the test set.\n",
    "test_features = {name:np.array(value) for name, value in test_df_norm.items()}\n",
    "test_label = np.array(test_features.pop(label_name)) # isolate the label\n",
    "print(\"\\n Evaluate the new model against the test set:\")\n",
    "my_model.evaluate(x = test_features, y = test_label, batch_size=batch_size)"
   ]
  },
  {
   "cell_type": "markdown",
   "metadata": {
    "colab_type": "text",
    "id": "wlPXK-SmmjQ2"
   },
   "source": [
    "## Task 1: Compare the two models\n",
    "\n",
    "How did the deep neural net perform against the baseline linear regression model?"
   ]
  },
  {
   "cell_type": "code",
   "execution_count": 0,
   "metadata": {
    "cellView": "form",
    "colab": {},
    "colab_type": "code",
    "id": "hI7ojsL7nnBE"
   },
   "outputs": [],
   "source": [
    "#@title Double-click to view a possible answer\n",
    "\n",
    "# Assuming that the linear model converged and\n",
    "# the deep neural net model also converged, please \n",
    "# compare the test set loss for each.\n",
    "# In our experiments, the loss of the deep neural \n",
    "# network model was consistently lower than \n",
    "# that of the linear regression model, which \n",
    "# suggests that the deep neural network model \n",
    "# will make better predictions than the \n",
    "# linear regression model."
   ]
  },
  {
   "cell_type": "markdown",
   "metadata": {
    "colab_type": "text",
    "id": "Y5IKmk7D49_n"
   },
   "source": [
    "## Task 2: Optimize the deep neural network's topography\n",
    "\n",
    "Experiment with the number of layers of the deep neural network and the number of nodes in each layer.  Aim to achieve both of the following goals:\n",
    "\n",
    "*  Lower the loss against the test set.\n",
    "*  Minimize the overall number of nodes in the deep neural net. \n",
    "\n",
    "The two goals may be in conflict."
   ]
  },
  {
   "cell_type": "code",
   "execution_count": 0,
   "metadata": {
    "cellView": "form",
    "colab": {},
    "colab_type": "code",
    "id": "wYG5qXpP5a9n"
   },
   "outputs": [],
   "source": [
    "#@title Double-click to view a possible answer\n",
    "\n",
    "# Many answers are possible.  We noticed the \n",
    "# following trends:\n",
    "#   * Two layers outperformed one layer, but \n",
    "#     three layers did not perform significantly \n",
    "#     better than two layers; two layers \n",
    "#     outperformed one layer.\n",
    "#     In other words, two layers seemed best. \n",
    "#   * Setting the topography as follows produced \n",
    "#     reasonably good results with relatively few \n",
    "#     nodes:\n",
    "#       * 10 nodes in the first layer.\n",
    "#       *  6 nodes in the second layer.\n",
    "#     As the number of nodes in each layer dropped\n",
    "#     below the preceding, test loss increased.  \n",
    "#     However, depending on your application, hardware\n",
    "#     constraints, and the relative pain inflicted \n",
    "#     by a less accurate model, a smaller network \n",
    "#     (for example, 6 nodes in the first layer and \n",
    "#     4 nodes in the second layer) might be \n",
    "#     acceptable."
   ]
  },
  {
   "cell_type": "markdown",
   "metadata": {
    "colab_type": "text",
    "id": "Pu7R_ZpDopIj"
   },
   "source": [
    "## Task 3: Regularize the deep neural network (if you have enough time)\n",
    "\n",
    "Notice that the model's loss against the test set is *much higher* than the loss against the training set.  In other words, the deep neural network is [overfitting](https://developers.google.com/machine-learning/glossary/#overfitting) to the data in the training set.  To reduce overfitting, regularize the model.  The course has suggested several different ways to regularize a model, including:\n",
    "\n",
    "  * [L1 regularization](https://developers.google.com/machine-learning/glossary/#L1_regularization)\n",
    "  * [L2 regularization](https://developers.google.com/machine-learning/glossary/#L2_regularization)\n",
    "  * [Dropout regularization](https://developers.google.com/machine-learning/glossary/#dropout_regularization)\n",
    "\n",
    "Your task is to experiment with one or more regularization mechanisms to bring the test loss closer to the training loss (while still keeping test loss relatively low).  \n",
    "\n",
    "**Note:** When you add a regularization function to a model, you might need to tweak other hyperparameters. \n",
    "\n",
    "### Implementing L1 or L2 regularization\n",
    "\n",
    "To use L1 or L2 regularization on a hidden layer, specify the `kernel_regularizer` argument to [tf.keras.layers.Dense](https://www.tensorflow.org/api_docs/python/tf/keras/layers/Dense). Assign one of the following methods to this argument:\n",
    "\n",
    "* `tf.keras.regularizers.l1` for L1 regularization\n",
    "* `tf.keras.regularizers.l2` for L2 regularization\n",
    "\n",
    "Each of the preceding methods takes an `l` parameter, which adjusts the [regularization rate](https://developers.google.com/machine-learning/glossary/#regularization_rate). Assign a decimal value between 0 and 1.0 to `l`; the higher the decimal, the greater the regularization. For example, the following applies L2 regularization at a strength of 0.05. \n",
    "\n",
    "```\n",
    "model.add(tf.keras.layers.Dense(units=20, \n",
    "                                activation='relu',\n",
    "                                kernel_regularizer=tf.keras.regularizers.l2(l=0.01),\n",
    "                                name='Hidden1'))\n",
    "```\n",
    "\n",
    "### Implementing Dropout regularization\n",
    "\n",
    "You implement dropout regularization as a separate layer in the topography. For example, the following code demonstrates how to add a dropout regularization layer between the first hidden layer and the second hidden layer:\n",
    "\n",
    "```\n",
    "model.add(tf.keras.layers.Dense( *define first hidden layer*)\n",
    " \n",
    "model.add(tf.keras.layers.Dropout(rate=0.25))\n",
    "\n",
    "model.add(tf.keras.layers.Dense( *define second hidden layer*)\n",
    "```\n",
    "\n",
    "The `rate` parameter to [tf.keras.layers.Dropout](https://www.tensorflow.org/api_docs/python/tf/keras/layers/Dropout) specifies the fraction of nodes that the model should drop out during training. \n"
   ]
  },
  {
   "cell_type": "code",
   "execution_count": 15,
   "metadata": {
    "cellView": "form",
    "colab": {},
    "colab_type": "code",
    "id": "tflt9TZEDARW"
   },
   "outputs": [
    {
     "name": "stdout",
     "output_type": "stream",
     "text": [
      "Epoch 1/140\n",
      "WARNING:tensorflow:Layers in a Sequential model should only have a single input tensor, but we receive a <class 'dict'> input: {'longitude': <tf.Tensor 'ExpandDims_3:0' shape=(1000, 1) dtype=float32>, 'latitude': <tf.Tensor 'ExpandDims_2:0' shape=(1000, 1) dtype=float32>, 'housing_median_age': <tf.Tensor 'ExpandDims_1:0' shape=(1000, 1) dtype=float32>, 'total_rooms': <tf.Tensor 'ExpandDims_7:0' shape=(1000, 1) dtype=float32>, 'total_bedrooms': <tf.Tensor 'ExpandDims_6:0' shape=(1000, 1) dtype=float32>, 'population': <tf.Tensor 'ExpandDims_5:0' shape=(1000, 1) dtype=float32>, 'households': <tf.Tensor 'ExpandDims:0' shape=(1000, 1) dtype=float32>, 'median_income': <tf.Tensor 'ExpandDims_4:0' shape=(1000, 1) dtype=float32>}\n",
      "Consider rewriting this model with the Functional API.\n",
      "WARNING:tensorflow:Layers in a Sequential model should only have a single input tensor, but we receive a <class 'dict'> input: {'longitude': <tf.Tensor 'ExpandDims_3:0' shape=(1000, 1) dtype=float32>, 'latitude': <tf.Tensor 'ExpandDims_2:0' shape=(1000, 1) dtype=float32>, 'housing_median_age': <tf.Tensor 'ExpandDims_1:0' shape=(1000, 1) dtype=float32>, 'total_rooms': <tf.Tensor 'ExpandDims_7:0' shape=(1000, 1) dtype=float32>, 'total_bedrooms': <tf.Tensor 'ExpandDims_6:0' shape=(1000, 1) dtype=float32>, 'population': <tf.Tensor 'ExpandDims_5:0' shape=(1000, 1) dtype=float32>, 'households': <tf.Tensor 'ExpandDims:0' shape=(1000, 1) dtype=float32>, 'median_income': <tf.Tensor 'ExpandDims_4:0' shape=(1000, 1) dtype=float32>}\n",
      "Consider rewriting this model with the Functional API.\n",
      "17/17 [==============================] - 0s 1ms/step - loss: 1.9449 - mean_squared_error: 0.7947\n",
      "Epoch 2/140\n",
      "17/17 [==============================] - 0s 1ms/step - loss: 0.8002 - mean_squared_error: 0.4544\n",
      "Epoch 3/140\n",
      "17/17 [==============================] - 0s 1ms/step - loss: 0.5592 - mean_squared_error: 0.3973\n",
      "Epoch 4/140\n",
      "17/17 [==============================] - 0s 1ms/step - loss: 0.4863 - mean_squared_error: 0.3805\n",
      "Epoch 5/140\n",
      "17/17 [==============================] - 0s 1ms/step - loss: 0.4585 - mean_squared_error: 0.3766\n",
      "Epoch 6/140\n",
      "17/17 [==============================] - 0s 1ms/step - loss: 0.4456 - mean_squared_error: 0.3737\n",
      "Epoch 7/140\n",
      "17/17 [==============================] - 0s 1ms/step - loss: 0.4408 - mean_squared_error: 0.3746\n",
      "Epoch 8/140\n",
      "17/17 [==============================] - 0s 1ms/step - loss: 0.4381 - mean_squared_error: 0.3740\n",
      "Epoch 9/140\n",
      "17/17 [==============================] - 0s 1ms/step - loss: 0.4308 - mean_squared_error: 0.3693\n",
      "Epoch 10/140\n",
      "17/17 [==============================] - 0s 1ms/step - loss: 0.4275 - mean_squared_error: 0.3672\n",
      "Epoch 11/140\n",
      "17/17 [==============================] - 0s 1ms/step - loss: 0.4273 - mean_squared_error: 0.3691\n",
      "Epoch 12/140\n",
      "17/17 [==============================] - 0s 2ms/step - loss: 0.4228 - mean_squared_error: 0.3660\n",
      "Epoch 13/140\n",
      "17/17 [==============================] - 0s 1ms/step - loss: 0.4204 - mean_squared_error: 0.3635\n",
      "Epoch 14/140\n",
      "17/17 [==============================] - 0s 1ms/step - loss: 0.4193 - mean_squared_error: 0.3651\n",
      "Epoch 15/140\n",
      "17/17 [==============================] - 0s 1ms/step - loss: 0.4185 - mean_squared_error: 0.3645\n",
      "Epoch 16/140\n",
      "17/17 [==============================] - 0s 1ms/step - loss: 0.4169 - mean_squared_error: 0.3650\n",
      "Epoch 17/140\n",
      "17/17 [==============================] - 0s 1ms/step - loss: 0.4147 - mean_squared_error: 0.3639\n",
      "Epoch 18/140\n",
      "17/17 [==============================] - 0s 1ms/step - loss: 0.4125 - mean_squared_error: 0.3620\n",
      "Epoch 19/140\n",
      "17/17 [==============================] - 0s 1ms/step - loss: 0.4113 - mean_squared_error: 0.3612\n",
      "Epoch 20/140\n",
      "17/17 [==============================] - 0s 1ms/step - loss: 0.4109 - mean_squared_error: 0.3622\n",
      "Epoch 21/140\n",
      "17/17 [==============================] - 0s 1ms/step - loss: 0.4103 - mean_squared_error: 0.3614\n",
      "Epoch 22/140\n",
      "17/17 [==============================] - 0s 1ms/step - loss: 0.4112 - mean_squared_error: 0.3637\n",
      "Epoch 23/140\n",
      "17/17 [==============================] - 0s 1ms/step - loss: 0.4097 - mean_squared_error: 0.3630\n",
      "Epoch 24/140\n",
      "17/17 [==============================] - 0s 1ms/step - loss: 0.4056 - mean_squared_error: 0.3590\n",
      "Epoch 25/140\n",
      "17/17 [==============================] - 0s 1ms/step - loss: 0.4052 - mean_squared_error: 0.3586\n",
      "Epoch 26/140\n",
      "17/17 [==============================] - 0s 1ms/step - loss: 0.4070 - mean_squared_error: 0.3616\n",
      "Epoch 27/140\n",
      "17/17 [==============================] - 0s 1ms/step - loss: 0.4083 - mean_squared_error: 0.3632\n",
      "Epoch 28/140\n",
      "17/17 [==============================] - 0s 1ms/step - loss: 0.4022 - mean_squared_error: 0.3575\n",
      "Epoch 29/140\n",
      "17/17 [==============================] - 0s 1ms/step - loss: 0.4022 - mean_squared_error: 0.3586\n",
      "Epoch 30/140\n",
      "17/17 [==============================] - 0s 1ms/step - loss: 0.4015 - mean_squared_error: 0.3576\n",
      "Epoch 31/140\n",
      "17/17 [==============================] - 0s 1ms/step - loss: 0.4006 - mean_squared_error: 0.3572\n",
      "Epoch 32/140\n",
      "17/17 [==============================] - 0s 1ms/step - loss: 0.4001 - mean_squared_error: 0.3573\n",
      "Epoch 33/140\n",
      "17/17 [==============================] - 0s 1ms/step - loss: 0.3997 - mean_squared_error: 0.3584\n",
      "Epoch 34/140\n",
      "17/17 [==============================] - 0s 1ms/step - loss: 0.4012 - mean_squared_error: 0.3590\n",
      "Epoch 35/140\n",
      "17/17 [==============================] - 0s 1ms/step - loss: 0.4018 - mean_squared_error: 0.3603\n",
      "Epoch 36/140\n",
      "17/17 [==============================] - 0s 1ms/step - loss: 0.4048 - mean_squared_error: 0.3634\n",
      "Epoch 37/140\n",
      "17/17 [==============================] - 0s 1ms/step - loss: 0.4008 - mean_squared_error: 0.3593\n",
      "Epoch 38/140\n",
      "17/17 [==============================] - 0s 1ms/step - loss: 0.3999 - mean_squared_error: 0.3589\n",
      "Epoch 39/140\n",
      "17/17 [==============================] - 0s 1ms/step - loss: 0.3977 - mean_squared_error: 0.3575\n",
      "Epoch 40/140\n",
      "17/17 [==============================] - 0s 1ms/step - loss: 0.4024 - mean_squared_error: 0.3618\n",
      "Epoch 41/140\n",
      "17/17 [==============================] - 0s 1ms/step - loss: 0.3971 - mean_squared_error: 0.3572\n",
      "Epoch 42/140\n",
      "17/17 [==============================] - 0s 1ms/step - loss: 0.3965 - mean_squared_error: 0.3571\n",
      "Epoch 43/140\n",
      "17/17 [==============================] - 0s 1ms/step - loss: 0.3948 - mean_squared_error: 0.3556\n",
      "Epoch 44/140\n",
      "17/17 [==============================] - 0s 1ms/step - loss: 0.3943 - mean_squared_error: 0.3552\n",
      "Epoch 45/140\n",
      "17/17 [==============================] - 0s 1ms/step - loss: 0.3949 - mean_squared_error: 0.3564\n",
      "Epoch 46/140\n",
      "17/17 [==============================] - 0s 1ms/step - loss: 0.3940 - mean_squared_error: 0.3555\n",
      "Epoch 47/140\n",
      "17/17 [==============================] - 0s 1ms/step - loss: 0.3931 - mean_squared_error: 0.3547\n",
      "Epoch 48/140\n",
      "17/17 [==============================] - 0s 1ms/step - loss: 0.3938 - mean_squared_error: 0.3564\n",
      "Epoch 49/140\n",
      "17/17 [==============================] - 0s 1ms/step - loss: 0.3913 - mean_squared_error: 0.3539\n",
      "Epoch 50/140\n",
      "17/17 [==============================] - 0s 1ms/step - loss: 0.3920 - mean_squared_error: 0.3541\n",
      "Epoch 51/140\n",
      "17/17 [==============================] - 0s 2ms/step - loss: 0.3920 - mean_squared_error: 0.3551\n",
      "Epoch 52/140\n",
      "17/17 [==============================] - 0s 1ms/step - loss: 0.3930 - mean_squared_error: 0.3558\n",
      "Epoch 53/140\n",
      "17/17 [==============================] - 0s 1ms/step - loss: 0.3911 - mean_squared_error: 0.3543\n",
      "Epoch 54/140\n",
      "17/17 [==============================] - 0s 1ms/step - loss: 0.3907 - mean_squared_error: 0.3546\n",
      "Epoch 55/140\n",
      "17/17 [==============================] - 0s 1ms/step - loss: 0.3895 - mean_squared_error: 0.3533\n",
      "Epoch 56/140\n",
      "17/17 [==============================] - 0s 1ms/step - loss: 0.3896 - mean_squared_error: 0.3530\n",
      "Epoch 57/140\n",
      "17/17 [==============================] - 0s 1ms/step - loss: 0.3892 - mean_squared_error: 0.3539\n",
      "Epoch 58/140\n",
      "17/17 [==============================] - 0s 2ms/step - loss: 0.3889 - mean_squared_error: 0.3530\n",
      "Epoch 59/140\n",
      "17/17 [==============================] - 0s 2ms/step - loss: 0.3882 - mean_squared_error: 0.3528\n",
      "Epoch 60/140\n",
      "17/17 [==============================] - 0s 1ms/step - loss: 0.3894 - mean_squared_error: 0.3539\n",
      "Epoch 61/140\n"
     ]
    },
    {
     "name": "stdout",
     "output_type": "stream",
     "text": [
      "17/17 [==============================] - 0s 1ms/step - loss: 0.3902 - mean_squared_error: 0.3552\n",
      "Epoch 62/140\n",
      "17/17 [==============================] - 0s 1ms/step - loss: 0.3899 - mean_squared_error: 0.3546\n",
      "Epoch 63/140\n",
      "17/17 [==============================] - 0s 1ms/step - loss: 0.3896 - mean_squared_error: 0.3544\n",
      "Epoch 64/140\n",
      "17/17 [==============================] - 0s 1ms/step - loss: 0.3892 - mean_squared_error: 0.3551\n",
      "Epoch 65/140\n",
      "17/17 [==============================] - 0s 1ms/step - loss: 0.3872 - mean_squared_error: 0.3525\n",
      "Epoch 66/140\n",
      "17/17 [==============================] - 0s 1ms/step - loss: 0.3872 - mean_squared_error: 0.3531\n",
      "Epoch 67/140\n",
      "17/17 [==============================] - 0s 1ms/step - loss: 0.3875 - mean_squared_error: 0.3542\n",
      "Epoch 68/140\n",
      "17/17 [==============================] - 0s 1ms/step - loss: 0.3855 - mean_squared_error: 0.3517\n",
      "Epoch 69/140\n",
      "17/17 [==============================] - 0s 1ms/step - loss: 0.3859 - mean_squared_error: 0.3525\n",
      "Epoch 70/140\n",
      "17/17 [==============================] - 0s 1ms/step - loss: 0.3880 - mean_squared_error: 0.3544\n",
      "Epoch 71/140\n",
      "17/17 [==============================] - 0s 1ms/step - loss: 0.3873 - mean_squared_error: 0.3542\n",
      "Epoch 72/140\n",
      "17/17 [==============================] - 0s 1ms/step - loss: 0.3853 - mean_squared_error: 0.3522\n",
      "Epoch 73/140\n",
      "17/17 [==============================] - 0s 1ms/step - loss: 0.3847 - mean_squared_error: 0.3523\n",
      "Epoch 74/140\n",
      "17/17 [==============================] - 0s 1ms/step - loss: 0.3848 - mean_squared_error: 0.3521\n",
      "Epoch 75/140\n",
      "17/17 [==============================] - 0s 1ms/step - loss: 0.3859 - mean_squared_error: 0.3538\n",
      "Epoch 76/140\n",
      "17/17 [==============================] - 0s 1ms/step - loss: 0.3842 - mean_squared_error: 0.3508\n",
      "Epoch 77/140\n",
      "17/17 [==============================] - 0s 1ms/step - loss: 0.3834 - mean_squared_error: 0.3522\n",
      "Epoch 78/140\n",
      "17/17 [==============================] - 0s 1ms/step - loss: 0.3850 - mean_squared_error: 0.3521\n",
      "Epoch 79/140\n",
      "17/17 [==============================] - 0s 1ms/step - loss: 0.3846 - mean_squared_error: 0.3530\n",
      "Epoch 80/140\n",
      "17/17 [==============================] - 0s 1ms/step - loss: 0.3844 - mean_squared_error: 0.3520\n",
      "Epoch 81/140\n",
      "17/17 [==============================] - 0s 1ms/step - loss: 0.3872 - mean_squared_error: 0.3552\n",
      "Epoch 82/140\n",
      "17/17 [==============================] - 0s 1ms/step - loss: 0.3860 - mean_squared_error: 0.3547\n",
      "Epoch 83/140\n",
      "17/17 [==============================] - 0s 1ms/step - loss: 0.3885 - mean_squared_error: 0.3564\n",
      "Epoch 84/140\n",
      "17/17 [==============================] - 0s 1ms/step - loss: 0.3904 - mean_squared_error: 0.3589\n",
      "Epoch 85/140\n",
      "17/17 [==============================] - 0s 1ms/step - loss: 0.3874 - mean_squared_error: 0.3547\n",
      "Epoch 86/140\n",
      "17/17 [==============================] - 0s 1ms/step - loss: 0.3831 - mean_squared_error: 0.3515\n",
      "Epoch 87/140\n",
      "17/17 [==============================] - 0s 1ms/step - loss: 0.3851 - mean_squared_error: 0.3548\n",
      "Epoch 88/140\n",
      "17/17 [==============================] - 0s 1ms/step - loss: 0.3835 - mean_squared_error: 0.3521\n",
      "Epoch 89/140\n",
      "17/17 [==============================] - 0s 1ms/step - loss: 0.3860 - mean_squared_error: 0.3549\n",
      "Epoch 90/140\n",
      "17/17 [==============================] - 0s 1ms/step - loss: 0.3839 - mean_squared_error: 0.3525\n",
      "Epoch 91/140\n",
      "17/17 [==============================] - 0s 1ms/step - loss: 0.3821 - mean_squared_error: 0.3515\n",
      "Epoch 92/140\n",
      "17/17 [==============================] - 0s 1ms/step - loss: 0.3814 - mean_squared_error: 0.3507\n",
      "Epoch 93/140\n",
      "17/17 [==============================] - 0s 1ms/step - loss: 0.3796 - mean_squared_error: 0.3492\n",
      "Epoch 94/140\n",
      "17/17 [==============================] - 0s 1ms/step - loss: 0.3807 - mean_squared_error: 0.3510\n",
      "Epoch 95/140\n",
      "17/17 [==============================] - 0s 1ms/step - loss: 0.3821 - mean_squared_error: 0.3515\n",
      "Epoch 96/140\n",
      "17/17 [==============================] - 0s 1ms/step - loss: 0.3825 - mean_squared_error: 0.3525\n",
      "Epoch 97/140\n",
      "17/17 [==============================] - 0s 1ms/step - loss: 0.3818 - mean_squared_error: 0.3518\n",
      "Epoch 98/140\n",
      "17/17 [==============================] - 0s 1ms/step - loss: 0.3832 - mean_squared_error: 0.3530\n",
      "Epoch 99/140\n",
      "17/17 [==============================] - 0s 1ms/step - loss: 0.3809 - mean_squared_error: 0.3513\n",
      "Epoch 100/140\n",
      "17/17 [==============================] - 0s 1ms/step - loss: 0.3825 - mean_squared_error: 0.3526\n",
      "Epoch 101/140\n",
      "17/17 [==============================] - 0s 1ms/step - loss: 0.3852 - mean_squared_error: 0.3562\n",
      "Epoch 102/140\n",
      "17/17 [==============================] - 0s 1ms/step - loss: 0.3854 - mean_squared_error: 0.3554\n",
      "Epoch 103/140\n",
      "17/17 [==============================] - 0s 1ms/step - loss: 0.3830 - mean_squared_error: 0.3533\n",
      "Epoch 104/140\n",
      "17/17 [==============================] - 0s 1ms/step - loss: 0.3809 - mean_squared_error: 0.3515\n",
      "Epoch 105/140\n",
      "17/17 [==============================] - 0s 1ms/step - loss: 0.3808 - mean_squared_error: 0.3514\n",
      "Epoch 106/140\n",
      "17/17 [==============================] - 0s 1ms/step - loss: 0.3796 - mean_squared_error: 0.3503\n",
      "Epoch 107/140\n",
      "17/17 [==============================] - 0s 1ms/step - loss: 0.3812 - mean_squared_error: 0.3523\n",
      "Epoch 108/140\n",
      "17/17 [==============================] - 0s 1ms/step - loss: 0.3791 - mean_squared_error: 0.3496\n",
      "Epoch 109/140\n",
      "17/17 [==============================] - 0s 1ms/step - loss: 0.3784 - mean_squared_error: 0.3500\n",
      "Epoch 110/140\n",
      "17/17 [==============================] - 0s 1ms/step - loss: 0.3782 - mean_squared_error: 0.3492\n",
      "Epoch 111/140\n",
      "17/17 [==============================] - 0s 1ms/step - loss: 0.3770 - mean_squared_error: 0.3485\n",
      "Epoch 112/140\n",
      "17/17 [==============================] - 0s 1ms/step - loss: 0.3824 - mean_squared_error: 0.3534\n",
      "Epoch 113/140\n",
      "17/17 [==============================] - 0s 1ms/step - loss: 0.3788 - mean_squared_error: 0.3504\n",
      "Epoch 114/140\n",
      "17/17 [==============================] - 0s 1ms/step - loss: 0.3793 - mean_squared_error: 0.3508\n",
      "Epoch 115/140\n",
      "17/17 [==============================] - 0s 1ms/step - loss: 0.3806 - mean_squared_error: 0.3522\n",
      "Epoch 116/140\n",
      "17/17 [==============================] - 0s 1ms/step - loss: 0.3844 - mean_squared_error: 0.3556\n",
      "Epoch 117/140\n",
      "17/17 [==============================] - 0s 1ms/step - loss: 0.3775 - mean_squared_error: 0.3485\n",
      "Epoch 118/140\n",
      "17/17 [==============================] - 0s 1ms/step - loss: 0.3769 - mean_squared_error: 0.3496\n",
      "Epoch 119/140\n",
      "17/17 [==============================] - 0s 1ms/step - loss: 0.3776 - mean_squared_error: 0.3492\n",
      "Epoch 120/140\n",
      "17/17 [==============================] - 0s 1ms/step - loss: 0.3758 - mean_squared_error: 0.3473\n",
      "Epoch 121/140\n",
      "17/17 [==============================] - 0s 1ms/step - loss: 0.3766 - mean_squared_error: 0.3478\n",
      "Epoch 122/140\n",
      "17/17 [==============================] - 0s 1ms/step - loss: 0.3752 - mean_squared_error: 0.3457\n",
      "Epoch 123/140\n",
      "17/17 [==============================] - 0s 1ms/step - loss: 0.3768 - mean_squared_error: 0.3471\n",
      "Epoch 124/140\n",
      "17/17 [==============================] - 0s 1ms/step - loss: 0.3744 - mean_squared_error: 0.3443\n",
      "Epoch 125/140\n",
      "17/17 [==============================] - 0s 1ms/step - loss: 0.3745 - mean_squared_error: 0.3448\n",
      "Epoch 126/140\n",
      "17/17 [==============================] - 0s 1ms/step - loss: 0.3746 - mean_squared_error: 0.3448\n",
      "Epoch 127/140\n",
      "17/17 [==============================] - 0s 1ms/step - loss: 0.3757 - mean_squared_error: 0.3462\n",
      "Epoch 128/140\n",
      "17/17 [==============================] - 0s 1ms/step - loss: 0.3737 - mean_squared_error: 0.3446\n",
      "Epoch 129/140\n",
      "17/17 [==============================] - 0s 1ms/step - loss: 0.3745 - mean_squared_error: 0.3455\n",
      "Epoch 130/140\n",
      "17/17 [==============================] - 0s 1ms/step - loss: 0.3735 - mean_squared_error: 0.3441\n",
      "Epoch 131/140\n",
      "17/17 [==============================] - 0s 1ms/step - loss: 0.3738 - mean_squared_error: 0.3439\n",
      "Epoch 132/140\n",
      "17/17 [==============================] - 0s 1ms/step - loss: 0.3744 - mean_squared_error: 0.3457\n",
      "Epoch 133/140\n",
      "17/17 [==============================] - 0s 1ms/step - loss: 0.3746 - mean_squared_error: 0.3458\n",
      "Epoch 134/140\n",
      "17/17 [==============================] - 0s 1ms/step - loss: 0.3737 - mean_squared_error: 0.3450\n",
      "Epoch 135/140\n"
     ]
    },
    {
     "name": "stdout",
     "output_type": "stream",
     "text": [
      "17/17 [==============================] - 0s 1ms/step - loss: 0.3748 - mean_squared_error: 0.3459\n",
      "Epoch 136/140\n",
      "17/17 [==============================] - 0s 1ms/step - loss: 0.3735 - mean_squared_error: 0.3452\n",
      "Epoch 137/140\n",
      "17/17 [==============================] - 0s 1ms/step - loss: 0.3733 - mean_squared_error: 0.3448\n",
      "Epoch 138/140\n",
      "17/17 [==============================] - 0s 1ms/step - loss: 0.3729 - mean_squared_error: 0.3442\n",
      "Epoch 139/140\n",
      "17/17 [==============================] - 0s 1ms/step - loss: 0.3732 - mean_squared_error: 0.3449\n",
      "Epoch 140/140\n",
      "17/17 [==============================] - 0s 1ms/step - loss: 0.3716 - mean_squared_error: 0.3431\n"
     ]
    },
    {
     "data": {
      "image/png": "[encoded data removed]",
      "text/plain": [
       "<Figure size 432x288 with 1 Axes>"
      ]
     },
     "metadata": {
      "needs_background": "light"
     },
     "output_type": "display_data"
    },
    {
     "name": "stdout",
     "output_type": "stream",
     "text": [
      "\n",
      " Evaluate the new model against the test set:\n",
      "WARNING:tensorflow:Layers in a Sequential model should only have a single input tensor, but we receive a <class 'dict'> input: {'longitude': <tf.Tensor 'ExpandDims_3:0' shape=(1000, 1) dtype=float32>, 'latitude': <tf.Tensor 'ExpandDims_2:0' shape=(1000, 1) dtype=float32>, 'housing_median_age': <tf.Tensor 'ExpandDims_1:0' shape=(1000, 1) dtype=float32>, 'total_rooms': <tf.Tensor 'ExpandDims_7:0' shape=(1000, 1) dtype=float32>, 'total_bedrooms': <tf.Tensor 'ExpandDims_6:0' shape=(1000, 1) dtype=float32>, 'population': <tf.Tensor 'ExpandDims_5:0' shape=(1000, 1) dtype=float32>, 'households': <tf.Tensor 'ExpandDims:0' shape=(1000, 1) dtype=float32>, 'median_income': <tf.Tensor 'ExpandDims_4:0' shape=(1000, 1) dtype=float32>}\n",
      "Consider rewriting this model with the Functional API.\n",
      "3/3 [==============================] - 0s 2ms/step - loss: 0.4052 - mean_squared_error: 0.3770\n"
     ]
    },
    {
     "data": {
      "text/plain": [
       "[0.40518832206726074, 0.37699759006500244]"
      ]
     },
     "execution_count": 15,
     "metadata": {},
     "output_type": "execute_result"
    }
   ],
   "source": [
    "#@title Double-click for a possible solution\n",
    "\n",
    "# The following \"solution\" uses L2 regularization to bring training loss\n",
    "# and test loss closer to each other. Many, many other solutions are possible.\n",
    "\n",
    "\n",
    "def create_model(my_learning_rate, my_feature_layer):\n",
    "  \"\"\"Create and compile a simple linear regression model.\"\"\"\n",
    "\n",
    "  # Discard any pre-existing version of the model.\n",
    "  model = None\n",
    "\n",
    "  # Most simple tf.keras models are sequential.\n",
    "  model = tf.keras.models.Sequential()\n",
    "\n",
    "  # Add the layer containing the feature columns to the model.\n",
    "  model.add(my_feature_layer)\n",
    "\n",
    "  # Describe the topography of the model. \n",
    "\n",
    "  # Implement L2 regularization in the first hidden layer.\n",
    "  model.add(tf.keras.layers.Dense(units=20, \n",
    "                                  activation='relu',\n",
    "                                  kernel_regularizer=tf.keras.regularizers.l2(0.04),\n",
    "                                  name='Hidden1'))\n",
    "  \n",
    "  # Implement L2 regularization in the second hidden layer.\n",
    "  model.add(tf.keras.layers.Dense(units=12, \n",
    "                                  activation='relu', \n",
    "                                  kernel_regularizer=tf.keras.regularizers.l2(0.04),\n",
    "                                  name='Hidden2'))\n",
    "\n",
    "  # Define the output layer.\n",
    "  model.add(tf.keras.layers.Dense(units=1,  \n",
    "                                  name='Output'))                              \n",
    "  \n",
    "  model.compile(optimizer=tf.keras.optimizers.Adam(lr=my_learning_rate),\n",
    "                loss=\"mean_squared_error\",\n",
    "                metrics=[tf.keras.metrics.MeanSquaredError()])\n",
    "\n",
    "  return model     \n",
    "\n",
    "# Call the new create_model function and the other (unchanged) functions.\n",
    "\n",
    "# The following variables are the hyperparameters.\n",
    "learning_rate = 0.007\n",
    "epochs = 140\n",
    "batch_size = 1000\n",
    "\n",
    "label_name = \"median_house_value\"\n",
    "\n",
    "# Establish the model's topography.\n",
    "my_model = create_model(learning_rate, my_feature_layer)\n",
    "\n",
    "# Train the model on the normalized training set.\n",
    "epochs, mse = train_model(my_model, train_df_norm, epochs, \n",
    "                          label_name, batch_size)\n",
    "plot_the_loss_curve(epochs, mse)\n",
    "\n",
    "test_features = {name:np.array(value) for name, value in test_df_norm.items()}\n",
    "test_label = np.array(test_features.pop(label_name)) # isolate the label\n",
    "print(\"\\n Evaluate the new model against the test set:\")\n",
    "my_model.evaluate(x = test_features, y = test_label, batch_size=batch_size) "
   ]
  }
 ],
 "metadata": {
  "colab": {
   "collapsed_sections": [],
   "name": "Intro to Neural Nets.ipynb",
   "private_outputs": true,
   "provenance": []
  },
  "kernelspec": {
   "display_name": "Python 3",
   "language": "python",
   "name": "python3"
  },
  "language_info": {
   "codemirror_mode": {
    "name": "ipython",
    "version": 3
   },
   "file_extension": ".py",
   "mimetype": "text/x-python",
   "name": "python",
   "nbconvert_exporter": "python",
   "pygments_lexer": "ipython3",
   "version": "3.8.5"
  }
 },
 "nbformat": 4,
 "nbformat_minor": 1
}