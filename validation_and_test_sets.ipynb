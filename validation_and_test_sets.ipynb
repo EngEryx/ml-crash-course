{
 "cells": [
  {
   "cell_type": "code",
   "execution_count": 0,
   "metadata": {
    "cellView": "form",
    "colab": {},
    "colab_type": "code",
    "id": "hMqWDc_m6rUC"
   },
   "outputs": [],
   "source": [
    "#@title Copyright 2020 Google LLC. Double-click here for license information.\n",
    "# Licensed under the Apache License, Version 2.0 (the \"License\");\n",
    "# you may not use this file except in compliance with the License.\n",
    "# You may obtain a copy of the License at\n",
    "#\n",
    "# https://www.apache.org/licenses/LICENSE-2.0\n",
    "#\n",
    "# Unless required by applicable law or agreed to in writing, software\n",
    "# distributed under the License is distributed on an \"AS IS\" BASIS,\n",
    "# WITHOUT WARRANTIES OR CONDITIONS OF ANY KIND, either express or implied.\n",
    "# See the License for the specific language governing permissions and\n",
    "# limitations under the License."
   ]
  },
  {
   "cell_type": "markdown",
   "metadata": {
    "colab_type": "text",
    "id": "4f3CKqFUqL2-"
   },
   "source": [
    "# Validation Sets and Test Sets\n",
    "\n",
    "The previous Colab exercises evaluated the trained model against the training set, which does not provide a strong signal about the quality of your model. In this Colab, you'll experiment with validation sets and test sets.\n",
    "\n",
    "\n",
    "\n",
    "\n"
   ]
  },
  {
   "cell_type": "markdown",
   "metadata": {
    "colab_type": "text",
    "id": "3spZH_kNkWWX"
   },
   "source": [
    "## Learning objectives\n",
    "\n",
    "After doing this Colab, you'll know how to do the following:\n",
    "\n",
    "  * Split a [training set](https://developers.google.com/machine-learning/glossary/#training_set) into a smaller training set and a [validation set](https://developers.google.com/machine-learning/glossary/#validation_set).\n",
    "  * Analyze deltas between training set and validation set results.\n",
    "  * Test the trained model with a [test set](https://developers.google.com/machine-learning/glossary/#test_set) to determine whether your trained model is [overfitting](https://developers.google.com/machine-learning/glossary/#overfitting).\n",
    "  * Detect and fix a common training problem."
   ]
  },
  {
   "cell_type": "markdown",
   "metadata": {
    "colab_type": "text",
    "id": "gV82DJO3kWpk"
   },
   "source": [
    "## The dataset\n",
    "\n",
    "As in the previous exercise, this exercise uses the [California Housing dataset](https://developers.google.com/machine-learning/crash-course/california-housing-data-description) to predict the `median_house_value` at the city block level.  Like many \"famous\" datasets, the California Housing Dataset actually consists of two separate datasets, each living in separate .csv files:\n",
    "\n",
    "* The training set is in `california_housing_train.csv`.\n",
    "* The test set is in `california_housing_test.csv`.\n",
    "\n",
    "You'll create the validation set by dividing the downloaded training set into two parts:\n",
    "\n",
    "* a smaller training set  \n",
    "* a validation set"
   ]
  },
  {
   "cell_type": "markdown",
   "metadata": {
    "colab_type": "text",
    "id": "u84mXopntPFZ"
   },
   "source": [
    "## Use the right version of TensorFlow\n",
    "\n",
    "The following hidden code cell ensures that the Colab will run on TensorFlow 2.X."
   ]
  },
  {
   "cell_type": "code",
   "execution_count": 0,
   "metadata": {
    "cellView": "form",
    "colab": {},
    "colab_type": "code",
    "id": "FBhNIdUatOU6"
   },
   "outputs": [],
   "source": [
    "#@title Run on TensorFlow 2.x\n",
    "%tensorflow_version 2.x"
   ]
  },
  {
   "cell_type": "markdown",
   "metadata": {
    "colab_type": "text",
    "id": "S8gm6BpqRRuh"
   },
   "source": [
    "## Import relevant modules\n",
    "\n",
    "As before, this first code cell imports the necessary modules and sets a few display options."
   ]
  },
  {
   "cell_type": "code",
   "execution_count": 1,
   "metadata": {
    "cellView": "form",
    "colab": {},
    "colab_type": "code",
    "id": "9D8GgUovHbG0"
   },
   "outputs": [],
   "source": [
    "#@title Import modules\n",
    "import numpy as np\n",
    "import pandas as pd\n",
    "import tensorflow as tf\n",
    "from matplotlib import pyplot as plt\n",
    "\n",
    "pd.options.display.max_rows = 10\n",
    "pd.options.display.float_format = \"{:.1f}\".format"
   ]
  },
  {
   "cell_type": "markdown",
   "metadata": {
    "colab_type": "text",
    "id": "xjvrrClQeAJu"
   },
   "source": [
    "## Load the datasets from the internet\n",
    "\n",
    "The following code cell loads the separate .csv files and creates the following two pandas DataFrames:\n",
    "\n",
    "* `train_df`, which contains the training set.\n",
    "* `test_df`, which contains the test set.\n",
    "\n"
   ]
  },
  {
   "cell_type": "code",
   "execution_count": 2,
   "metadata": {
    "colab": {},
    "colab_type": "code",
    "id": "zUnTc_wfd_o3"
   },
   "outputs": [],
   "source": [
    "train_df = pd.read_csv(\"https://download.mlcc.google.com/mledu-datasets/california_housing_train.csv\")\n",
    "test_df = pd.read_csv(\"https://download.mlcc.google.com/mledu-datasets/california_housing_test.csv\")"
   ]
  },
  {
   "cell_type": "markdown",
   "metadata": {
    "colab_type": "text",
    "id": "P_KBdj2M_yjM"
   },
   "source": [
    "## Scale the label values\n",
    "\n",
    "The following code cell scales the `median_house_value`. \n",
    "See the previous Colab exercise for details."
   ]
  },
  {
   "cell_type": "code",
   "execution_count": 3,
   "metadata": {
    "colab": {},
    "colab_type": "code",
    "id": "3hc7QQhaAFXD"
   },
   "outputs": [],
   "source": [
    "scale_factor = 1000.0\n",
    "\n",
    "# Scale the training set's label.\n",
    "train_df[\"median_house_value\"] /= scale_factor \n",
    "\n",
    "# Scale the test set's label\n",
    "test_df[\"median_house_value\"] /= scale_factor"
   ]
  },
  {
   "cell_type": "code",
   "execution_count": 4,
   "metadata": {},
   "outputs": [
    {
     "data": {
      "text/html": [
       "<div>\n",
       "<style scoped>\n",
       "    .dataframe tbody tr th:only-of-type {\n",
       "        vertical-align: middle;\n",
       "    }\n",
       "\n",
       "    .dataframe tbody tr th {\n",
       "        vertical-align: top;\n",
       "    }\n",
       "\n",
       "    .dataframe thead th {\n",
       "        text-align: right;\n",
       "    }\n",
       "</style>\n",
       "<table border=\"1\" class=\"dataframe\">\n",
       "  <thead>\n",
       "    <tr style=\"text-align: right;\">\n",
       "      <th></th>\n",
       "      <th>longitude</th>\n",
       "      <th>latitude</th>\n",
       "      <th>housing_median_age</th>\n",
       "      <th>total_rooms</th>\n",
       "      <th>total_bedrooms</th>\n",
       "      <th>population</th>\n",
       "      <th>households</th>\n",
       "      <th>median_income</th>\n",
       "      <th>median_house_value</th>\n",
       "    </tr>\n",
       "  </thead>\n",
       "  <tbody>\n",
       "    <tr>\n",
       "      <th>0</th>\n",
       "      <td>-114.3</td>\n",
       "      <td>34.2</td>\n",
       "      <td>15.0</td>\n",
       "      <td>5612.0</td>\n",
       "      <td>1283.0</td>\n",
       "      <td>1015.0</td>\n",
       "      <td>472.0</td>\n",
       "      <td>1.5</td>\n",
       "      <td>66.9</td>\n",
       "    </tr>\n",
       "    <tr>\n",
       "      <th>1</th>\n",
       "      <td>-114.5</td>\n",
       "      <td>34.4</td>\n",
       "      <td>19.0</td>\n",
       "      <td>7650.0</td>\n",
       "      <td>1901.0</td>\n",
       "      <td>1129.0</td>\n",
       "      <td>463.0</td>\n",
       "      <td>1.8</td>\n",
       "      <td>80.1</td>\n",
       "    </tr>\n",
       "    <tr>\n",
       "      <th>2</th>\n",
       "      <td>-114.6</td>\n",
       "      <td>33.7</td>\n",
       "      <td>17.0</td>\n",
       "      <td>720.0</td>\n",
       "      <td>174.0</td>\n",
       "      <td>333.0</td>\n",
       "      <td>117.0</td>\n",
       "      <td>1.7</td>\n",
       "      <td>85.7</td>\n",
       "    </tr>\n",
       "    <tr>\n",
       "      <th>3</th>\n",
       "      <td>-114.6</td>\n",
       "      <td>33.6</td>\n",
       "      <td>14.0</td>\n",
       "      <td>1501.0</td>\n",
       "      <td>337.0</td>\n",
       "      <td>515.0</td>\n",
       "      <td>226.0</td>\n",
       "      <td>3.2</td>\n",
       "      <td>73.4</td>\n",
       "    </tr>\n",
       "    <tr>\n",
       "      <th>4</th>\n",
       "      <td>-114.6</td>\n",
       "      <td>33.6</td>\n",
       "      <td>20.0</td>\n",
       "      <td>1454.0</td>\n",
       "      <td>326.0</td>\n",
       "      <td>624.0</td>\n",
       "      <td>262.0</td>\n",
       "      <td>1.9</td>\n",
       "      <td>65.5</td>\n",
       "    </tr>\n",
       "  </tbody>\n",
       "</table>\n",
       "</div>"
      ],
      "text/plain": [
       "   longitude  latitude  housing_median_age  total_rooms  total_bedrooms  \\\n",
       "0     -114.3      34.2                15.0       5612.0          1283.0   \n",
       "1     -114.5      34.4                19.0       7650.0          1901.0   \n",
       "2     -114.6      33.7                17.0        720.0           174.0   \n",
       "3     -114.6      33.6                14.0       1501.0           337.0   \n",
       "4     -114.6      33.6                20.0       1454.0           326.0   \n",
       "\n",
       "   population  households  median_income  median_house_value  \n",
       "0      1015.0       472.0            1.5                66.9  \n",
       "1      1129.0       463.0            1.8                80.1  \n",
       "2       333.0       117.0            1.7                85.7  \n",
       "3       515.0       226.0            3.2                73.4  \n",
       "4       624.0       262.0            1.9                65.5  "
      ]
     },
     "execution_count": 4,
     "metadata": {},
     "output_type": "execute_result"
    }
   ],
   "source": [
    "train_df.head()"
   ]
  },
  {
   "cell_type": "markdown",
   "metadata": {
    "colab_type": "text",
    "id": "FhessIIV8VPc"
   },
   "source": [
    "## Load the functions that build and train a model\n",
    "\n",
    "The following code cell defines two functions:\n",
    "\n",
    "  * `build_model`, which defines the model's topography.\n",
    "  * `train_model`, which will ultimately train the model, outputting not only the loss value for the training set but also the loss value for the validation set. \n",
    "\n",
    "Since you don't need to understand model building code right now, we've hidden this code cell. As always, you must run hidden code cells."
   ]
  },
  {
   "cell_type": "code",
   "execution_count": 5,
   "metadata": {
    "cellView": "form",
    "colab": {},
    "colab_type": "code",
    "id": "bvonhK857msj"
   },
   "outputs": [
    {
     "name": "stdout",
     "output_type": "stream",
     "text": [
      "Defined the build_model and train_model functions.\n"
     ]
    }
   ],
   "source": [
    "#@title Define the functions that build and train a model\n",
    "def build_model(my_learning_rate):\n",
    "  \"\"\"Create and compile a simple linear regression model.\"\"\"\n",
    "  # Most simple tf.keras models are sequential.\n",
    "  model = tf.keras.models.Sequential()\n",
    "\n",
    "  # Add one linear layer to the model to yield a simple linear regressor.\n",
    "  model.add(tf.keras.layers.Dense(units=1, input_shape=(1,)))\n",
    "\n",
    "  # Compile the model topography into code that TensorFlow can efficiently\n",
    "  # execute. Configure training to minimize the model's mean squared error. \n",
    "  model.compile(optimizer=tf.keras.optimizers.RMSprop(lr=my_learning_rate),\n",
    "                loss=\"mean_squared_error\",\n",
    "                metrics=[tf.keras.metrics.RootMeanSquaredError()])\n",
    "\n",
    "  return model               \n",
    "\n",
    "\n",
    "def train_model(model, df, feature, label, my_epochs, \n",
    "                my_batch_size=None, my_validation_split=0.1):\n",
    "  \"\"\"Feed a dataset into the model in order to train it.\"\"\"\n",
    "\n",
    "  history = model.fit(x=df[feature],\n",
    "                      y=df[label],\n",
    "                      batch_size=my_batch_size,\n",
    "                      epochs=my_epochs,\n",
    "                      validation_split=my_validation_split)\n",
    "\n",
    "  # Gather the model's trained weight and bias.\n",
    "  trained_weight = model.get_weights()[0]\n",
    "  trained_bias = model.get_weights()[1]\n",
    "\n",
    "  # The list of epochs is stored separately from the \n",
    "  # rest of history.\n",
    "  epochs = history.epoch\n",
    "  \n",
    "  # Isolate the root mean squared error for each epoch.\n",
    "  hist = pd.DataFrame(history.history)\n",
    "  rmse = hist[\"root_mean_squared_error\"]\n",
    "\n",
    "  return epochs, rmse, history.history   \n",
    "\n",
    "print(\"Defined the build_model and train_model functions.\")"
   ]
  },
  {
   "cell_type": "markdown",
   "metadata": {
    "colab_type": "text",
    "id": "8gRu4Ri0D8tH"
   },
   "source": [
    "## Define plotting functions\n",
    "\n",
    "The `plot_the_loss_curve` function plots loss vs. epochs for both the training set and the validation set."
   ]
  },
  {
   "cell_type": "code",
   "execution_count": 6,
   "metadata": {
    "cellView": "form",
    "colab": {},
    "colab_type": "code",
    "id": "QA7hsqPZDvVM"
   },
   "outputs": [
    {
     "name": "stdout",
     "output_type": "stream",
     "text": [
      "Defined the plot_the_loss_curve function.\n"
     ]
    }
   ],
   "source": [
    "#@title Define the plotting function\n",
    "\n",
    "def plot_the_loss_curve(epochs, mae_training, mae_validation):\n",
    "  \"\"\"Plot a curve of loss vs. epoch.\"\"\"\n",
    "\n",
    "  plt.figure()\n",
    "  plt.xlabel(\"Epoch\")\n",
    "  plt.ylabel(\"Root Mean Squared Error\")\n",
    "\n",
    "  plt.plot(epochs[1:], mae_training[1:], label=\"Training Loss\")\n",
    "  plt.plot(epochs[1:], mae_validation[1:], label=\"Validation Loss\")\n",
    "  plt.legend()\n",
    "  \n",
    "  # We're not going to plot the first epoch, since the loss on the first epoch\n",
    "  # is often substantially greater than the loss for other epochs.\n",
    "  merged_mae_lists = mae_training[1:] + mae_validation[1:]\n",
    "  highest_loss = max(merged_mae_lists)\n",
    "  lowest_loss = min(merged_mae_lists)\n",
    "  delta = highest_loss - lowest_loss\n",
    "  print(delta)\n",
    "\n",
    "  top_of_y_axis = highest_loss + (delta * 0.05)\n",
    "  bottom_of_y_axis = lowest_loss - (delta * 0.05)\n",
    "   \n",
    "  plt.ylim([bottom_of_y_axis, top_of_y_axis])\n",
    "  plt.show()  \n",
    "\n",
    "print(\"Defined the plot_the_loss_curve function.\")"
   ]
  },
  {
   "cell_type": "markdown",
   "metadata": {
    "colab_type": "text",
    "id": "jipBqEQXlsN8"
   },
   "source": [
    "## Task 1: Experiment with the validation split\n",
    "\n",
    "In the following code cell, you'll see a variable named `validation_split`, which we've initialized at 0.2.  The `validation_split` variable specifies the proportion of the original training set that will serve as the validation set. The original training set contains 17,000 examples. Therefore, a `validation_split` of 0.2 means that:\n",
    "\n",
    "* 17,000 * 0.2 ~= 3,400 examples will become the validation set.\n",
    "* 17,000 * 0.8 ~= 13,600 examples will become the new training set.\n",
    "\n",
    "The following code builds a model, trains it on the training set, and evaluates the built model on both:\n",
    "\n",
    "* The training set.\n",
    "* And the validation set.\n",
    "\n",
    "If the data in the training set is similar to the data in the validation set, then the two loss curves and the final loss values should be almost identical. However, the loss curves and final loss values are **not** almost identical. Hmm, that's odd.  \n",
    "\n",
    "Experiment with two or three different values of `validation_split`.  Do different values of `validation_split` fix the problem? \n"
   ]
  },
  {
   "cell_type": "code",
   "execution_count": 7,
   "metadata": {
    "colab": {},
    "colab_type": "code",
    "id": "knP23Taoa00a"
   },
   "outputs": [
    {
     "name": "stdout",
     "output_type": "stream",
     "text": [
      "Epoch 1/30\n",
      "136/136 [==============================] - 0s 1ms/step - loss: 40154.6953 - root_mean_squared_error: 200.3864 - val_loss: 48711.2969 - val_root_mean_squared_error: 220.7064\n",
      "Epoch 2/30\n",
      "136/136 [==============================] - 0s 638us/step - loss: 23260.1582 - root_mean_squared_error: 152.5128 - val_loss: 28621.1035 - val_root_mean_squared_error: 169.1777\n",
      "Epoch 3/30\n",
      "136/136 [==============================] - 0s 1ms/step - loss: 12339.7656 - root_mean_squared_error: 111.0845 - val_loss: 15479.3145 - val_root_mean_squared_error: 124.4159\n",
      "Epoch 4/30\n",
      "136/136 [==============================] - 0s 673us/step - loss: 7258.1177 - root_mean_squared_error: 85.1946 - val_loss: 9574.2422 - val_root_mean_squared_error: 97.8481\n",
      "Epoch 5/30\n",
      "136/136 [==============================] - 0s 661us/step - loss: 6515.5986 - root_mean_squared_error: 80.7193 - val_loss: 9371.4727 - val_root_mean_squared_error: 96.8064\n",
      "Epoch 6/30\n",
      "136/136 [==============================] - 0s 723us/step - loss: 6513.9653 - root_mean_squared_error: 80.7091 - val_loss: 9252.7256 - val_root_mean_squared_error: 96.1911\n",
      "Epoch 7/30\n",
      "136/136 [==============================] - 0s 689us/step - loss: 6513.8955 - root_mean_squared_error: 80.7087 - val_loss: 9331.7305 - val_root_mean_squared_error: 96.6009\n",
      "Epoch 8/30\n",
      "136/136 [==============================] - 0s 696us/step - loss: 6513.2178 - root_mean_squared_error: 80.7045 - val_loss: 9280.0332 - val_root_mean_squared_error: 96.3329\n",
      "Epoch 9/30\n",
      "136/136 [==============================] - 0s 706us/step - loss: 6513.0522 - root_mean_squared_error: 80.7035 - val_loss: 9363.3945 - val_root_mean_squared_error: 96.7646\n",
      "Epoch 10/30\n",
      "136/136 [==============================] - 0s 665us/step - loss: 6514.0078 - root_mean_squared_error: 80.7094 - val_loss: 9280.1729 - val_root_mean_squared_error: 96.3337\n",
      "Epoch 11/30\n",
      "136/136 [==============================] - 0s 657us/step - loss: 6512.8955 - root_mean_squared_error: 80.7025 - val_loss: 9214.5020 - val_root_mean_squared_error: 95.9922\n",
      "Epoch 12/30\n",
      "136/136 [==============================] - 0s 684us/step - loss: 6514.2734 - root_mean_squared_error: 80.7111 - val_loss: 9295.8516 - val_root_mean_squared_error: 96.4150\n",
      "Epoch 13/30\n",
      "136/136 [==============================] - 0s 672us/step - loss: 6513.5342 - root_mean_squared_error: 80.7065 - val_loss: 9228.4590 - val_root_mean_squared_error: 96.0649\n",
      "Epoch 14/30\n",
      "136/136 [==============================] - 0s 709us/step - loss: 6513.6030 - root_mean_squared_error: 80.7069 - val_loss: 9343.3877 - val_root_mean_squared_error: 96.6612\n",
      "Epoch 15/30\n",
      "136/136 [==============================] - 0s 664us/step - loss: 6511.9321 - root_mean_squared_error: 80.6965 - val_loss: 9190.9658 - val_root_mean_squared_error: 95.8695\n",
      "Epoch 16/30\n",
      "136/136 [==============================] - 0s 673us/step - loss: 6513.1514 - root_mean_squared_error: 80.7041 - val_loss: 9189.6709 - val_root_mean_squared_error: 95.8628\n",
      "Epoch 17/30\n",
      "136/136 [==============================] - 0s 706us/step - loss: 6514.4141 - root_mean_squared_error: 80.7119 - val_loss: 9295.2988 - val_root_mean_squared_error: 96.4121\n",
      "Epoch 18/30\n",
      "136/136 [==============================] - 0s 757us/step - loss: 6513.2134 - root_mean_squared_error: 80.7045 - val_loss: 9235.6592 - val_root_mean_squared_error: 96.1023\n",
      "Epoch 19/30\n",
      "136/136 [==============================] - 0s 692us/step - loss: 6512.8047 - root_mean_squared_error: 80.7020 - val_loss: 9325.8789 - val_root_mean_squared_error: 96.5706\n",
      "Epoch 20/30\n",
      "136/136 [==============================] - 0s 620us/step - loss: 6512.9629 - root_mean_squared_error: 80.7029 - val_loss: 9330.1514 - val_root_mean_squared_error: 96.5927\n",
      "Epoch 21/30\n",
      "136/136 [==============================] - 0s 660us/step - loss: 6513.2275 - root_mean_squared_error: 80.7046 - val_loss: 9270.0215 - val_root_mean_squared_error: 96.2810\n",
      "Epoch 22/30\n",
      "136/136 [==============================] - 0s 650us/step - loss: 6513.8540 - root_mean_squared_error: 80.7085 - val_loss: 9349.1553 - val_root_mean_squared_error: 96.6910\n",
      "Epoch 23/30\n",
      "136/136 [==============================] - 0s 681us/step - loss: 6513.7393 - root_mean_squared_error: 80.7077 - val_loss: 9348.4580 - val_root_mean_squared_error: 96.6874\n",
      "Epoch 24/30\n",
      "136/136 [==============================] - 0s 715us/step - loss: 6513.1006 - root_mean_squared_error: 80.7038 - val_loss: 9139.6738 - val_root_mean_squared_error: 95.6016\n",
      "Epoch 25/30\n",
      "136/136 [==============================] - 0s 668us/step - loss: 6513.5098 - root_mean_squared_error: 80.7063 - val_loss: 9319.4844 - val_root_mean_squared_error: 96.5375\n",
      "Epoch 26/30\n",
      "136/136 [==============================] - 0s 668us/step - loss: 6512.8828 - root_mean_squared_error: 80.7024 - val_loss: 9174.0762 - val_root_mean_squared_error: 95.7814\n",
      "Epoch 27/30\n",
      "136/136 [==============================] - 0s 623us/step - loss: 6511.6743 - root_mean_squared_error: 80.6949 - val_loss: 9334.4639 - val_root_mean_squared_error: 96.6150\n",
      "Epoch 28/30\n",
      "136/136 [==============================] - 0s 638us/step - loss: 6513.7563 - root_mean_squared_error: 80.7078 - val_loss: 9230.2373 - val_root_mean_squared_error: 96.0741\n",
      "Epoch 29/30\n",
      "136/136 [==============================] - 0s 624us/step - loss: 6513.4502 - root_mean_squared_error: 80.7059 - val_loss: 9363.9795 - val_root_mean_squared_error: 96.7677\n",
      "Epoch 30/30\n",
      "136/136 [==============================] - 0s 628us/step - loss: 6512.3306 - root_mean_squared_error: 80.6990 - val_loss: 9305.3037 - val_root_mean_squared_error: 96.4640\n",
      "88.4827880859375\n"
     ]
    },
    {
     "data": {
      "image/png": "[encoded data removed]",
      "text/plain": [
       "<Figure size 432x288 with 1 Axes>"
      ]
     },
     "metadata": {
      "needs_background": "light"
     },
     "output_type": "display_data"
    }
   ],
   "source": [
    "# The following variables are the hyperparameters.\n",
    "learning_rate = 0.08\n",
    "epochs = 30\n",
    "batch_size = 100\n",
    "\n",
    "# Split the original training set into a reduced training set and a\n",
    "# validation set. \n",
    "validation_split=0.2\n",
    "\n",
    "# Identify the feature and the label.\n",
    "my_feature=\"median_income\"  # the median income on a specific city block.\n",
    "my_label=\"median_house_value\" # the median value of a house on a specific city block.\n",
    "# That is, you're going to create a model that predicts house value based \n",
    "# solely on the neighborhood's median income.  \n",
    "\n",
    "# Discard any pre-existing version of the model.\n",
    "my_model = None\n",
    "\n",
    "# Invoke the functions to build and train the model.\n",
    "my_model = build_model(learning_rate)\n",
    "epochs, rmse, history = train_model(my_model, train_df, my_feature, \n",
    "                                    my_label, epochs, batch_size, \n",
    "                                    validation_split)\n",
    "\n",
    "plot_the_loss_curve(epochs, history[\"root_mean_squared_error\"], \n",
    "                    history[\"val_root_mean_squared_error\"])"
   ]
  },
  {
   "cell_type": "markdown",
   "metadata": {
    "colab_type": "text",
    "id": "TKa11JK4Pm3f"
   },
   "source": [
    "## Task 2: Determine **why** the loss curves differ\n",
    "\n",
    "No matter how you split the training set and the validation set, the loss curves differ significantly. Evidently, the data in the training set isn't similar enough to the data in the validation set. Counterintuitive? Yes, but this problem is actually pretty common in machine learning. \n",
    "\n",
    "Your task is to determine **why** the loss curves aren't highly similar. As with most issues in machine learning, the problem is rooted in the data itself. To solve this mystery of why the training set and validation set aren't almost identical, write a line or two of [pandas code](https://colab.research.google.com/drive/1gUeYFsYmoyqpQJWq7krrZZNUFvBPwrJf) in the following code cell.  Here are a couple of hints:\n",
    "\n",
    "  * The previous code cell split the original training set into:\n",
    "    * a reduced training set (the original training set - the validation set)\n",
    "    * the validation set \n",
    "  * By default, the pandas [`head`](https://pandas.pydata.org/pandas-docs/stable/reference/api/pandas.DataFrame.head.html) method outputs the *first* 5 rows of the DataFrame. To see more of the training set, specify the `n` argument to `head` and assign a large positive integer to `n`."
   ]
  },
  {
   "cell_type": "code",
   "execution_count": 0,
   "metadata": {
    "colab": {},
    "colab_type": "code",
    "id": "VJQcAZkwJt_p"
   },
   "outputs": [],
   "source": [
    "# Write some code in this code cell."
   ]
  },
  {
   "cell_type": "code",
   "execution_count": 8,
   "metadata": {
    "cellView": "form",
    "colab": {},
    "colab_type": "code",
    "id": "EnNvkFwwK8WY"
   },
   "outputs": [
    {
     "data": {
      "text/html": [
       "<div>\n",
       "<style scoped>\n",
       "    .dataframe tbody tr th:only-of-type {\n",
       "        vertical-align: middle;\n",
       "    }\n",
       "\n",
       "    .dataframe tbody tr th {\n",
       "        vertical-align: top;\n",
       "    }\n",
       "\n",
       "    .dataframe thead th {\n",
       "        text-align: right;\n",
       "    }\n",
       "</style>\n",
       "<table border=\"1\" class=\"dataframe\">\n",
       "  <thead>\n",
       "    <tr style=\"text-align: right;\">\n",
       "      <th></th>\n",
       "      <th>longitude</th>\n",
       "      <th>latitude</th>\n",
       "      <th>housing_median_age</th>\n",
       "      <th>total_rooms</th>\n",
       "      <th>total_bedrooms</th>\n",
       "      <th>population</th>\n",
       "      <th>households</th>\n",
       "      <th>median_income</th>\n",
       "      <th>median_house_value</th>\n",
       "    </tr>\n",
       "  </thead>\n",
       "  <tbody>\n",
       "    <tr>\n",
       "      <th>0</th>\n",
       "      <td>-114.3</td>\n",
       "      <td>34.2</td>\n",
       "      <td>15.0</td>\n",
       "      <td>5612.0</td>\n",
       "      <td>1283.0</td>\n",
       "      <td>1015.0</td>\n",
       "      <td>472.0</td>\n",
       "      <td>1.5</td>\n",
       "      <td>66.9</td>\n",
       "    </tr>\n",
       "    <tr>\n",
       "      <th>1</th>\n",
       "      <td>-114.5</td>\n",
       "      <td>34.4</td>\n",
       "      <td>19.0</td>\n",
       "      <td>7650.0</td>\n",
       "      <td>1901.0</td>\n",
       "      <td>1129.0</td>\n",
       "      <td>463.0</td>\n",
       "      <td>1.8</td>\n",
       "      <td>80.1</td>\n",
       "    </tr>\n",
       "    <tr>\n",
       "      <th>2</th>\n",
       "      <td>-114.6</td>\n",
       "      <td>33.7</td>\n",
       "      <td>17.0</td>\n",
       "      <td>720.0</td>\n",
       "      <td>174.0</td>\n",
       "      <td>333.0</td>\n",
       "      <td>117.0</td>\n",
       "      <td>1.7</td>\n",
       "      <td>85.7</td>\n",
       "    </tr>\n",
       "    <tr>\n",
       "      <th>3</th>\n",
       "      <td>-114.6</td>\n",
       "      <td>33.6</td>\n",
       "      <td>14.0</td>\n",
       "      <td>1501.0</td>\n",
       "      <td>337.0</td>\n",
       "      <td>515.0</td>\n",
       "      <td>226.0</td>\n",
       "      <td>3.2</td>\n",
       "      <td>73.4</td>\n",
       "    </tr>\n",
       "    <tr>\n",
       "      <th>4</th>\n",
       "      <td>-114.6</td>\n",
       "      <td>33.6</td>\n",
       "      <td>20.0</td>\n",
       "      <td>1454.0</td>\n",
       "      <td>326.0</td>\n",
       "      <td>624.0</td>\n",
       "      <td>262.0</td>\n",
       "      <td>1.9</td>\n",
       "      <td>65.5</td>\n",
       "    </tr>\n",
       "    <tr>\n",
       "      <th>...</th>\n",
       "      <td>...</td>\n",
       "      <td>...</td>\n",
       "      <td>...</td>\n",
       "      <td>...</td>\n",
       "      <td>...</td>\n",
       "      <td>...</td>\n",
       "      <td>...</td>\n",
       "      <td>...</td>\n",
       "      <td>...</td>\n",
       "    </tr>\n",
       "    <tr>\n",
       "      <th>995</th>\n",
       "      <td>-117.1</td>\n",
       "      <td>32.5</td>\n",
       "      <td>8.0</td>\n",
       "      <td>6533.0</td>\n",
       "      <td>1217.0</td>\n",
       "      <td>4797.0</td>\n",
       "      <td>1177.0</td>\n",
       "      <td>4.0</td>\n",
       "      <td>144.4</td>\n",
       "    </tr>\n",
       "    <tr>\n",
       "      <th>996</th>\n",
       "      <td>-117.1</td>\n",
       "      <td>34.6</td>\n",
       "      <td>6.0</td>\n",
       "      <td>5110.0</td>\n",
       "      <td>1044.0</td>\n",
       "      <td>1938.0</td>\n",
       "      <td>724.0</td>\n",
       "      <td>3.2</td>\n",
       "      <td>112.8</td>\n",
       "    </tr>\n",
       "    <tr>\n",
       "      <th>997</th>\n",
       "      <td>-117.1</td>\n",
       "      <td>34.2</td>\n",
       "      <td>22.0</td>\n",
       "      <td>4397.0</td>\n",
       "      <td>931.0</td>\n",
       "      <td>1145.0</td>\n",
       "      <td>445.0</td>\n",
       "      <td>4.5</td>\n",
       "      <td>108.4</td>\n",
       "    </tr>\n",
       "    <tr>\n",
       "      <th>998</th>\n",
       "      <td>-117.1</td>\n",
       "      <td>34.0</td>\n",
       "      <td>24.0</td>\n",
       "      <td>4144.0</td>\n",
       "      <td>826.0</td>\n",
       "      <td>2127.0</td>\n",
       "      <td>772.0</td>\n",
       "      <td>2.5</td>\n",
       "      <td>96.0</td>\n",
       "    </tr>\n",
       "    <tr>\n",
       "      <th>999</th>\n",
       "      <td>-117.1</td>\n",
       "      <td>33.6</td>\n",
       "      <td>6.0</td>\n",
       "      <td>1868.0</td>\n",
       "      <td>289.0</td>\n",
       "      <td>750.0</td>\n",
       "      <td>247.0</td>\n",
       "      <td>4.4</td>\n",
       "      <td>307.6</td>\n",
       "    </tr>\n",
       "  </tbody>\n",
       "</table>\n",
       "<p>1000 rows × 9 columns</p>\n",
       "</div>"
      ],
      "text/plain": [
       "     longitude  latitude  housing_median_age  total_rooms  total_bedrooms  \\\n",
       "0       -114.3      34.2                15.0       5612.0          1283.0   \n",
       "1       -114.5      34.4                19.0       7650.0          1901.0   \n",
       "2       -114.6      33.7                17.0        720.0           174.0   \n",
       "3       -114.6      33.6                14.0       1501.0           337.0   \n",
       "4       -114.6      33.6                20.0       1454.0           326.0   \n",
       "..         ...       ...                 ...          ...             ...   \n",
       "995     -117.1      32.5                 8.0       6533.0          1217.0   \n",
       "996     -117.1      34.6                 6.0       5110.0          1044.0   \n",
       "997     -117.1      34.2                22.0       4397.0           931.0   \n",
       "998     -117.1      34.0                24.0       4144.0           826.0   \n",
       "999     -117.1      33.6                 6.0       1868.0           289.0   \n",
       "\n",
       "     population  households  median_income  median_house_value  \n",
       "0        1015.0       472.0            1.5                66.9  \n",
       "1        1129.0       463.0            1.8                80.1  \n",
       "2         333.0       117.0            1.7                85.7  \n",
       "3         515.0       226.0            3.2                73.4  \n",
       "4         624.0       262.0            1.9                65.5  \n",
       "..          ...         ...            ...                 ...  \n",
       "995      4797.0      1177.0            4.0               144.4  \n",
       "996      1938.0       724.0            3.2               112.8  \n",
       "997      1145.0       445.0            4.5               108.4  \n",
       "998      2127.0       772.0            2.5                96.0  \n",
       "999       750.0       247.0            4.4               307.6  \n",
       "\n",
       "[1000 rows x 9 columns]"
      ]
     },
     "execution_count": 8,
     "metadata": {},
     "output_type": "execute_result"
    }
   ],
   "source": [
    "#@title Double-click for a possible solution to Task 2.\n",
    "\n",
    "# Examine examples 0 through 4 and examples 25 through 29\n",
    "# of the training set\n",
    "train_df.head(n=1000)\n",
    "\n",
    "# The original training set is sorted by longitude. \n",
    "# Apparently, longitude influences the relationship of\n",
    "# total_rooms to median_house_value."
   ]
  },
  {
   "cell_type": "markdown",
   "metadata": {
    "colab_type": "text",
    "id": "rw4xI1ZEckI8"
   },
   "source": [
    "## Task 3. Fix the problem\n",
    "\n",
    "To fix the problem, shuffle the examples in the training set before splitting the examples into a training set and validation set. To do so, take the following steps:\n",
    "\n",
    "1. Shuffle the data in the training set by adding the following line anywhere before you call `train_model` (in the code cell associated with Task 1):\n",
    "\n",
    "```\n",
    "  shuffled_train_df = train_df.reindex(np.random.permutation(train_df.index))\n",
    "```                                    \n",
    "\n",
    "2. Pass `shuffled_train_df` (instead of `train_df`) as the second argument to `train_model` (in the code call associated with Task 1) so that the call becomes as follows:\n",
    "\n",
    "```\n",
    "  epochs, rmse, history = train_model(my_model, shuffled_train_df, my_feature, \n",
    "                                      my_label, epochs, batch_size, \n",
    "                                      validation_split)\n",
    "```"
   ]
  },
  {
   "cell_type": "code",
   "execution_count": 9,
   "metadata": {
    "cellView": "form",
    "colab": {},
    "colab_type": "code",
    "id": "ncODhpv0h-LG"
   },
   "outputs": [
    {
     "name": "stdout",
     "output_type": "stream",
     "text": [
      "Epoch 1/70\n",
      "136/136 [==============================] - 0s 1ms/step - loss: 44908.3203 - root_mean_squared_error: 211.9158 - val_loss: 33840.6484 - val_root_mean_squared_error: 183.9583\n",
      "Epoch 2/70\n",
      "136/136 [==============================] - 0s 654us/step - loss: 26412.8516 - root_mean_squared_error: 162.5203 - val_loss: 18770.1328 - val_root_mean_squared_error: 137.0041\n",
      "Epoch 3/70\n",
      "136/136 [==============================] - 0s 584us/step - loss: 14227.9473 - root_mean_squared_error: 119.2810 - val_loss: 9803.0703 - val_root_mean_squared_error: 99.0105\n",
      "Epoch 4/70\n",
      "136/136 [==============================] - 0s 631us/step - loss: 8210.8125 - root_mean_squared_error: 90.6135 - val_loss: 6761.9224 - val_root_mean_squared_error: 82.2309\n",
      "Epoch 5/70\n",
      "136/136 [==============================] - 0s 641us/step - loss: 7098.9546 - root_mean_squared_error: 84.2553 - val_loss: 6703.5601 - val_root_mean_squared_error: 81.8753\n",
      "Epoch 6/70\n",
      "136/136 [==============================] - 0s 611us/step - loss: 7092.9019 - root_mean_squared_error: 84.2194 - val_loss: 6704.3428 - val_root_mean_squared_error: 81.8801\n",
      "Epoch 7/70\n",
      "136/136 [==============================] - 0s 643us/step - loss: 7092.6196 - root_mean_squared_error: 84.2177 - val_loss: 6704.9351 - val_root_mean_squared_error: 81.8837\n",
      "Epoch 8/70\n",
      "136/136 [==============================] - 0s 697us/step - loss: 7092.5483 - root_mean_squared_error: 84.2173 - val_loss: 6703.3311 - val_root_mean_squared_error: 81.8739\n",
      "Epoch 9/70\n",
      "136/136 [==============================] - 0s 634us/step - loss: 7090.8340 - root_mean_squared_error: 84.2071 - val_loss: 6709.5854 - val_root_mean_squared_error: 81.9121\n",
      "Epoch 10/70\n",
      "136/136 [==============================] - 0s 640us/step - loss: 7092.8398 - root_mean_squared_error: 84.2190 - val_loss: 6703.8467 - val_root_mean_squared_error: 81.8770\n",
      "Epoch 11/70\n",
      "136/136 [==============================] - 0s 731us/step - loss: 7091.4199 - root_mean_squared_error: 84.2106 - val_loss: 6703.7104 - val_root_mean_squared_error: 81.8762\n",
      "Epoch 12/70\n",
      "136/136 [==============================] - 0s 652us/step - loss: 7093.0146 - root_mean_squared_error: 84.2200 - val_loss: 6704.3247 - val_root_mean_squared_error: 81.8799\n",
      "Epoch 13/70\n",
      "136/136 [==============================] - 0s 641us/step - loss: 7092.2188 - root_mean_squared_error: 84.2153 - val_loss: 6703.7539 - val_root_mean_squared_error: 81.8765\n",
      "Epoch 14/70\n",
      "136/136 [==============================] - 0s 660us/step - loss: 7092.8286 - root_mean_squared_error: 84.2189 - val_loss: 6704.0664 - val_root_mean_squared_error: 81.8784\n",
      "Epoch 15/70\n",
      "136/136 [==============================] - 0s 642us/step - loss: 7090.8379 - root_mean_squared_error: 84.2071 - val_loss: 6704.4111 - val_root_mean_squared_error: 81.8805\n",
      "Epoch 16/70\n",
      "136/136 [==============================] - 0s 633us/step - loss: 7091.3545 - root_mean_squared_error: 84.2102 - val_loss: 6713.5205 - val_root_mean_squared_error: 81.9361\n",
      "Epoch 17/70\n",
      "136/136 [==============================] - 0s 672us/step - loss: 7092.3438 - root_mean_squared_error: 84.2161 - val_loss: 6704.6401 - val_root_mean_squared_error: 81.8819\n",
      "Epoch 18/70\n",
      "136/136 [==============================] - 0s 682us/step - loss: 7092.6641 - root_mean_squared_error: 84.2180 - val_loss: 6704.4692 - val_root_mean_squared_error: 81.8808\n",
      "Epoch 19/70\n",
      "136/136 [==============================] - 0s 664us/step - loss: 7092.4390 - root_mean_squared_error: 84.2166 - val_loss: 6704.4580 - val_root_mean_squared_error: 81.8808\n",
      "Epoch 20/70\n",
      "136/136 [==============================] - 0s 699us/step - loss: 7092.3335 - root_mean_squared_error: 84.2160 - val_loss: 6704.3906 - val_root_mean_squared_error: 81.8803\n",
      "Epoch 21/70\n",
      "136/136 [==============================] - 0s 647us/step - loss: 7091.8740 - root_mean_squared_error: 84.2133 - val_loss: 6705.2339 - val_root_mean_squared_error: 81.8855\n",
      "Epoch 22/70\n",
      "136/136 [==============================] - 0s 672us/step - loss: 7092.1558 - root_mean_squared_error: 84.2149 - val_loss: 6707.1494 - val_root_mean_squared_error: 81.8972\n",
      "Epoch 23/70\n",
      "136/136 [==============================] - 0s 693us/step - loss: 7092.8198 - root_mean_squared_error: 84.2189 - val_loss: 6705.5996 - val_root_mean_squared_error: 81.8877\n",
      "Epoch 24/70\n",
      "136/136 [==============================] - 0s 711us/step - loss: 7092.6235 - root_mean_squared_error: 84.2177 - val_loss: 6705.0288 - val_root_mean_squared_error: 81.8842\n",
      "Epoch 25/70\n",
      "136/136 [==============================] - 0s 701us/step - loss: 7092.0776 - root_mean_squared_error: 84.2145 - val_loss: 6705.2993 - val_root_mean_squared_error: 81.8859\n",
      "Epoch 26/70\n",
      "136/136 [==============================] - 0s 682us/step - loss: 7090.8496 - root_mean_squared_error: 84.2072 - val_loss: 6711.0557 - val_root_mean_squared_error: 81.9210\n",
      "Epoch 27/70\n",
      "136/136 [==============================] - 0s 671us/step - loss: 7092.0405 - root_mean_squared_error: 84.2143 - val_loss: 6704.7222 - val_root_mean_squared_error: 81.8824\n",
      "Epoch 28/70\n",
      "136/136 [==============================] - 0s 687us/step - loss: 7092.6216 - root_mean_squared_error: 84.2177 - val_loss: 6704.5757 - val_root_mean_squared_error: 81.8815\n",
      "Epoch 29/70\n",
      "136/136 [==============================] - 0s 637us/step - loss: 7092.7954 - root_mean_squared_error: 84.2187 - val_loss: 6705.5142 - val_root_mean_squared_error: 81.8872\n",
      "Epoch 30/70\n",
      "136/136 [==============================] - 0s 713us/step - loss: 7092.7202 - root_mean_squared_error: 84.2183 - val_loss: 6706.0889 - val_root_mean_squared_error: 81.8907\n",
      "Epoch 31/70\n",
      "136/136 [==============================] - 0s 704us/step - loss: 7092.5610 - root_mean_squared_error: 84.2173 - val_loss: 6704.8408 - val_root_mean_squared_error: 81.8831\n",
      "Epoch 32/70\n",
      "136/136 [==============================] - 0s 645us/step - loss: 7089.5469 - root_mean_squared_error: 84.1994 - val_loss: 6706.4629 - val_root_mean_squared_error: 81.8930\n",
      "Epoch 33/70\n",
      "136/136 [==============================] - 0s 675us/step - loss: 7092.5684 - root_mean_squared_error: 84.2174 - val_loss: 6707.4199 - val_root_mean_squared_error: 81.8988\n",
      "Epoch 34/70\n",
      "136/136 [==============================] - 0s 710us/step - loss: 7092.3682 - root_mean_squared_error: 84.2162 - val_loss: 6705.6138 - val_root_mean_squared_error: 81.8878\n",
      "Epoch 35/70\n",
      "136/136 [==============================] - 0s 704us/step - loss: 7092.5781 - root_mean_squared_error: 84.2174 - val_loss: 6705.1528 - val_root_mean_squared_error: 81.8850\n",
      "Epoch 36/70\n",
      "136/136 [==============================] - 0s 717us/step - loss: 7091.3740 - root_mean_squared_error: 84.2103 - val_loss: 6706.1069 - val_root_mean_squared_error: 81.8908\n",
      "Epoch 37/70\n",
      "136/136 [==============================] - 0s 660us/step - loss: 7092.2148 - root_mean_squared_error: 84.2153 - val_loss: 6707.5112 - val_root_mean_squared_error: 81.8994\n",
      "Epoch 38/70\n",
      "136/136 [==============================] - 0s 699us/step - loss: 7092.3149 - root_mean_squared_error: 84.2159 - val_loss: 6707.0488 - val_root_mean_squared_error: 81.8966\n",
      "Epoch 39/70\n",
      "136/136 [==============================] - 0s 678us/step - loss: 7092.7949 - root_mean_squared_error: 84.2187 - val_loss: 6706.2749 - val_root_mean_squared_error: 81.8918\n",
      "Epoch 40/70\n",
      "136/136 [==============================] - 0s 667us/step - loss: 7091.3486 - root_mean_squared_error: 84.2101 - val_loss: 6707.8081 - val_root_mean_squared_error: 81.9012\n",
      "Epoch 41/70\n",
      "136/136 [==============================] - 0s 701us/step - loss: 7093.3037 - root_mean_squared_error: 84.2218 - val_loss: 6705.2422 - val_root_mean_squared_error: 81.8855\n",
      "Epoch 42/70\n",
      "136/136 [==============================] - 0s 672us/step - loss: 7091.8760 - root_mean_squared_error: 84.2133 - val_loss: 6707.1182 - val_root_mean_squared_error: 81.8970\n",
      "Epoch 43/70\n",
      "136/136 [==============================] - 0s 652us/step - loss: 7091.5840 - root_mean_squared_error: 84.2115 - val_loss: 6704.6875 - val_root_mean_squared_error: 81.8822\n",
      "Epoch 44/70\n",
      "136/136 [==============================] - 0s 665us/step - loss: 7092.4189 - root_mean_squared_error: 84.2165 - val_loss: 6705.1436 - val_root_mean_squared_error: 81.8849\n",
      "Epoch 45/70\n",
      "136/136 [==============================] - 0s 650us/step - loss: 7091.9043 - root_mean_squared_error: 84.2134 - val_loss: 6707.3872 - val_root_mean_squared_error: 81.8986\n"
     ]
    },
    {
     "name": "stdout",
     "output_type": "stream",
     "text": [
      "Epoch 46/70\n",
      "136/136 [==============================] - 0s 728us/step - loss: 7092.9121 - root_mean_squared_error: 84.2194 - val_loss: 6704.8887 - val_root_mean_squared_error: 81.8834\n",
      "Epoch 47/70\n",
      "136/136 [==============================] - 0s 645us/step - loss: 7091.8799 - root_mean_squared_error: 84.2133 - val_loss: 6705.4443 - val_root_mean_squared_error: 81.8868\n",
      "Epoch 48/70\n",
      "136/136 [==============================] - 0s 640us/step - loss: 7091.8159 - root_mean_squared_error: 84.2129 - val_loss: 6705.1724 - val_root_mean_squared_error: 81.8851\n",
      "Epoch 49/70\n",
      "136/136 [==============================] - 0s 637us/step - loss: 7092.2412 - root_mean_squared_error: 84.2154 - val_loss: 6704.8345 - val_root_mean_squared_error: 81.8831\n",
      "Epoch 50/70\n",
      "136/136 [==============================] - 0s 638us/step - loss: 7092.1870 - root_mean_squared_error: 84.2151 - val_loss: 6705.4932 - val_root_mean_squared_error: 81.8871\n",
      "Epoch 51/70\n",
      "136/136 [==============================] - 0s 639us/step - loss: 7092.1860 - root_mean_squared_error: 84.2151 - val_loss: 6705.2637 - val_root_mean_squared_error: 81.8857\n",
      "Epoch 52/70\n",
      "136/136 [==============================] - 0s 631us/step - loss: 7092.3843 - root_mean_squared_error: 84.2163 - val_loss: 6704.8638 - val_root_mean_squared_error: 81.8832\n",
      "Epoch 53/70\n",
      "136/136 [==============================] - 0s 628us/step - loss: 7093.2173 - root_mean_squared_error: 84.2212 - val_loss: 6706.9116 - val_root_mean_squared_error: 81.8957\n",
      "Epoch 54/70\n",
      "136/136 [==============================] - 0s 627us/step - loss: 7091.3540 - root_mean_squared_error: 84.2102 - val_loss: 6712.9272 - val_root_mean_squared_error: 81.9325\n",
      "Epoch 55/70\n",
      "136/136 [==============================] - 0s 620us/step - loss: 7093.0625 - root_mean_squared_error: 84.2203 - val_loss: 6708.7051 - val_root_mean_squared_error: 81.9067\n",
      "Epoch 56/70\n",
      "136/136 [==============================] - 0s 653us/step - loss: 7092.2759 - root_mean_squared_error: 84.2157 - val_loss: 6706.0664 - val_root_mean_squared_error: 81.8906\n",
      "Epoch 57/70\n",
      "136/136 [==============================] - 0s 635us/step - loss: 7092.8154 - root_mean_squared_error: 84.2189 - val_loss: 6705.1885 - val_root_mean_squared_error: 81.8852\n",
      "Epoch 58/70\n",
      "136/136 [==============================] - 0s 635us/step - loss: 7091.7446 - root_mean_squared_error: 84.2125 - val_loss: 6706.5308 - val_root_mean_squared_error: 81.8934\n",
      "Epoch 59/70\n",
      "136/136 [==============================] - 0s 647us/step - loss: 7091.3735 - root_mean_squared_error: 84.2103 - val_loss: 6704.9590 - val_root_mean_squared_error: 81.8838\n",
      "Epoch 60/70\n",
      "136/136 [==============================] - 0s 647us/step - loss: 7092.3735 - root_mean_squared_error: 84.2162 - val_loss: 6706.1089 - val_root_mean_squared_error: 81.8908\n",
      "Epoch 61/70\n",
      "136/136 [==============================] - 0s 651us/step - loss: 7092.0181 - root_mean_squared_error: 84.2141 - val_loss: 6705.6860 - val_root_mean_squared_error: 81.8883\n",
      "Epoch 62/70\n",
      "136/136 [==============================] - 0s 639us/step - loss: 7092.3965 - root_mean_squared_error: 84.2164 - val_loss: 6705.3789 - val_root_mean_squared_error: 81.8864\n",
      "Epoch 63/70\n",
      "136/136 [==============================] - 0s 669us/step - loss: 7092.1924 - root_mean_squared_error: 84.2152 - val_loss: 6705.7393 - val_root_mean_squared_error: 81.8886\n",
      "Epoch 64/70\n",
      "136/136 [==============================] - 0s 640us/step - loss: 7093.4111 - root_mean_squared_error: 84.2224 - val_loss: 6705.5796 - val_root_mean_squared_error: 81.8876\n",
      "Epoch 65/70\n",
      "136/136 [==============================] - 0s 631us/step - loss: 7091.9648 - root_mean_squared_error: 84.2138 - val_loss: 6707.4990 - val_root_mean_squared_error: 81.8993\n",
      "Epoch 66/70\n",
      "136/136 [==============================] - 0s 642us/step - loss: 7091.2412 - root_mean_squared_error: 84.2095 - val_loss: 6704.8726 - val_root_mean_squared_error: 81.8833\n",
      "Epoch 67/70\n",
      "136/136 [==============================] - 0s 672us/step - loss: 7092.2695 - root_mean_squared_error: 84.2156 - val_loss: 6704.6978 - val_root_mean_squared_error: 81.8822\n",
      "Epoch 68/70\n",
      "136/136 [==============================] - 0s 675us/step - loss: 7093.3960 - root_mean_squared_error: 84.2223 - val_loss: 6705.5972 - val_root_mean_squared_error: 81.8877\n",
      "Epoch 69/70\n",
      "136/136 [==============================] - 0s 647us/step - loss: 7091.0234 - root_mean_squared_error: 84.2082 - val_loss: 6706.7402 - val_root_mean_squared_error: 81.8947\n",
      "Epoch 70/70\n",
      "136/136 [==============================] - 0s 616us/step - loss: 7092.2222 - root_mean_squared_error: 84.2153 - val_loss: 6704.7734 - val_root_mean_squared_error: 81.8827\n",
      "80.64643859863281\n"
     ]
    },
    {
     "data": {
      "image/png": "[encoded data removed]",
      "text/plain": [
       "<Figure size 432x288 with 1 Axes>"
      ]
     },
     "metadata": {
      "needs_background": "light"
     },
     "output_type": "display_data"
    }
   ],
   "source": [
    "#@title Double-click to view the complete implementation.\n",
    "\n",
    "# The following variables are the hyperparameters.\n",
    "learning_rate = 0.08\n",
    "epochs = 70\n",
    "batch_size = 100\n",
    "\n",
    "# Split the original training set into a reduced training set and a\n",
    "# validation set. \n",
    "validation_split=0.2\n",
    "\n",
    "# Identify the feature and the label.\n",
    "my_feature=\"median_income\"  # the median income on a specific city block.\n",
    "my_label=\"median_house_value\" # the median value of a house on a specific city block.\n",
    "# That is, you're going to create a model that predicts house value based \n",
    "# solely on the neighborhood's median income.  \n",
    "\n",
    "# Discard any pre-existing version of the model.\n",
    "my_model = None\n",
    "\n",
    "# Shuffle the examples.\n",
    "shuffled_train_df = train_df.reindex(np.random.permutation(train_df.index)) \n",
    "\n",
    "# Invoke the functions to build and train the model. Train on the shuffled\n",
    "# training set.\n",
    "my_model = build_model(learning_rate)\n",
    "epochs, rmse, history = train_model(my_model, shuffled_train_df, my_feature, \n",
    "                                    my_label, epochs, batch_size, \n",
    "                                    validation_split)\n",
    "\n",
    "plot_the_loss_curve(epochs, history[\"root_mean_squared_error\"], \n",
    "                    history[\"val_root_mean_squared_error\"])"
   ]
  },
  {
   "cell_type": "markdown",
   "metadata": {
    "colab_type": "text",
    "id": "tKN239_miW8C"
   },
   "source": [
    "Experiment with `validation_split` to answer the following questions:\n",
    "\n",
    "* With the training set shuffled, is the final loss for the training set closer to the final loss for the validation set?  \n",
    "* At what range of values of `validation_split` do the final loss values for the training set and validation set diverge meaningfully?  Why?"
   ]
  },
  {
   "cell_type": "code",
   "execution_count": 0,
   "metadata": {
    "cellView": "form",
    "colab": {},
    "colab_type": "code",
    "id": "-UAJ3Q86iz31"
   },
   "outputs": [],
   "source": [
    "#@title Double-click for the answers to the questions\n",
    "\n",
    "# Yes, after shuffling the original training set, \n",
    "# the final loss for the training set and the \n",
    "# validation set become much closer.\n",
    "\n",
    "# If validation_split < 0.15,\n",
    "# the final loss values for the training set and\n",
    "# validation set diverge meaningfully.  Apparently,\n",
    "# the validation set no longer contains enough examples. "
   ]
  },
  {
   "cell_type": "markdown",
   "metadata": {
    "colab_type": "text",
    "id": "1PP-O8TOZOeo"
   },
   "source": [
    "## Task 4: Use the Test Dataset to Evaluate Your Model's Performance\n",
    "\n",
    "The test set usually acts as the ultimate judge of a model's quality. The test set can serve as an impartial judge because its examples haven't been used in training the model. Run the following code cell to evaluate the model with the test set:"
   ]
  },
  {
   "cell_type": "code",
   "execution_count": 10,
   "metadata": {
    "colab": {},
    "colab_type": "code",
    "id": "nd_Sw2cygOip"
   },
   "outputs": [
    {
     "name": "stdout",
     "output_type": "stream",
     "text": [
      "30/30 [==============================] - 0s 502us/step - loss: 7008.3447 - root_mean_squared_error: 83.7159\n"
     ]
    }
   ],
   "source": [
    "x_test = test_df[my_feature]\n",
    "y_test = test_df[my_label]\n",
    "\n",
    "results = my_model.evaluate(x_test, y_test, batch_size=batch_size)"
   ]
  },
  {
   "cell_type": "markdown",
   "metadata": {
    "colab_type": "text",
    "id": "qoyQKvsjmV_A"
   },
   "source": [
    "Compare the root mean squared error of the model when evaluated on each of the three datasets:\n",
    "\n",
    "* training set: look for `root_mean_squared_error` in the final training epoch.\n",
    "* validation set: look for `val_root_mean_squared_error` in the final training epoch.\n",
    "* test set: run the preceding code cell and examine the `root_mean_squred_error`.\n",
    "\n",
    "Ideally, the root mean squared error of all three sets should be similar. Are they?"
   ]
  },
  {
   "cell_type": "code",
   "execution_count": 0,
   "metadata": {
    "cellView": "form",
    "colab": {},
    "colab_type": "code",
    "id": "FxXtp-aVdIgJ"
   },
   "outputs": [],
   "source": [
    "#@title Double-click for an answer\n",
    "\n",
    "# In our experiments, yes, the rmse values \n",
    "# were similar enough. "
   ]
  }
 ],
 "metadata": {
  "colab": {
   "collapsed_sections": [],
   "name": "Validation and Test Sets.ipynb",
   "private_outputs": true,
   "provenance": []
  },
  "kernelspec": {
   "display_name": "Python 3",
   "language": "python",
   "name": "python3"
  },
  "language_info": {
   "codemirror_mode": {
    "name": "ipython",
    "version": 3
   },
   "file_extension": ".py",
   "mimetype": "text/x-python",
   "name": "python",
   "nbconvert_exporter": "python",
   "pygments_lexer": "ipython3",
   "version": "3.8.5"
  }
 },
 "nbformat": 4,
 "nbformat_minor": 1
}
