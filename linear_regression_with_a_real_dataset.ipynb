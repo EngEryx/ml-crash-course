{
 "cells": [
  {
   "cell_type": "code",
   "execution_count": 0,
   "metadata": {
    "cellView": "form",
    "colab": {},
    "colab_type": "code",
    "id": "wDlWLbfkJtvu"
   },
   "outputs": [],
   "source": [
    "#@title Copyright 2020 Google LLC. Double-click here for license information.\n",
    "# Licensed under the Apache License, Version 2.0 (the \"License\");\n",
    "# you may not use this file except in compliance with the License.\n",
    "# You may obtain a copy of the License at\n",
    "#\n",
    "# https://www.apache.org/licenses/LICENSE-2.0\n",
    "#\n",
    "# Unless required by applicable law or agreed to in writing, software\n",
    "# distributed under the License is distributed on an \"AS IS\" BASIS,\n",
    "# WITHOUT WARRANTIES OR CONDITIONS OF ANY KIND, either express or implied.\n",
    "# See the License for the specific language governing permissions and\n",
    "# limitations under the License."
   ]
  },
  {
   "cell_type": "markdown",
   "metadata": {
    "colab_type": "text",
    "id": "TL5y5fY9Jy_x"
   },
   "source": [
    "# Linear Regression with a Real Dataset\n",
    "\n",
    "This Colab uses a real dataset to predict the prices of houses in California.   \n",
    "\n",
    "\n",
    "\n",
    "\n"
   ]
  },
  {
   "cell_type": "markdown",
   "metadata": {
    "colab_type": "text",
    "id": "h8wtceyJj2uX"
   },
   "source": [
    "## Learning Objectives:\n",
    "\n",
    "After doing this Colab, you'll know how to do the following:\n",
    "\n",
    "  * Read a .csv file into a [pandas](https://developers.google.com/machine-learning/glossary/#pandas) DataFrame.\n",
    "  * Examine a [dataset](https://developers.google.com/machine-learning/glossary/#data_set). \n",
    "  * Experiment with different [features](https://developers.google.com/machine-learning/glossary/#feature) in building a model.\n",
    "  * Tune the model's [hyperparameters](https://developers.google.com/machine-learning/glossary/#hyperparameter)."
   ]
  },
  {
   "cell_type": "markdown",
   "metadata": {
    "colab_type": "text",
    "id": "JJZEgJQSjyK4"
   },
   "source": [
    "## The Dataset\n",
    "  \n",
    "The [dataset for this exercise](https://developers.google.com/machine-learning/crash-course/california-housing-data-description) is based on 1990 census data from California. The dataset is old but still provides a great opportunity to learn about machine learning programming."
   ]
  },
  {
   "cell_type": "markdown",
   "metadata": {
    "colab_type": "text",
    "id": "tX_umRMMsa3z"
   },
   "source": [
    "## Use the right version of TensorFlow\n",
    "\n",
    "The following hidden code cell ensures that the Colab will run on TensorFlow 2.X."
   ]
  },
  {
   "cell_type": "code",
   "execution_count": 0,
   "metadata": {
    "cellView": "form",
    "colab": {},
    "colab_type": "code",
    "id": "lM75uNH-sTv2"
   },
   "outputs": [],
   "source": [
    "#@title Run on TensorFlow 2.x\n",
    "%tensorflow_version 2.x"
   ]
  },
  {
   "cell_type": "markdown",
   "metadata": {
    "colab_type": "text",
    "id": "xchnxAsaKKqO"
   },
   "source": [
    "## Import relevant modules\n",
    "\n",
    "The following hidden code cell imports the necessary code to run the code in the rest of this Colaboratory."
   ]
  },
  {
   "cell_type": "code",
   "execution_count": 1,
   "metadata": {
    "cellView": "form",
    "colab": {},
    "colab_type": "code",
    "id": "9n9_cTveKmse"
   },
   "outputs": [],
   "source": [
    "#@title Import relevant modules\n",
    "import pandas as pd\n",
    "import tensorflow as tf\n",
    "from matplotlib import pyplot  as plt\n",
    "\n",
    "# The following lines adjust the granularity of reporting. \n",
    "pd.options.display.max_rows = 10\n",
    "pd.options.display.float_format = \"{:.1f}\".format"
   ]
  },
  {
   "cell_type": "code",
   "execution_count": 7,
   "metadata": {},
   "outputs": [
    {
     "name": "stdout",
     "output_type": "stream",
     "text": [
      "2.3.0\n"
     ]
    }
   ],
   "source": [
    "print(tf.__version__)"
   ]
  },
  {
   "cell_type": "markdown",
   "metadata": {
    "colab_type": "text",
    "id": "X_TaJhU4KcuY"
   },
   "source": [
    "## The dataset\n",
    "\n",
    "Datasets are often stored on disk or at a URL in [.csv format](https://wikipedia.org/wiki/Comma-separated_values). \n",
    "\n",
    "A well-formed .csv file contains column names in the first row, followed by many rows of data.  A comma divides each value in each row. For example, here are the first five rows of the .csv file file holding the California Housing Dataset:\n",
    "\n",
    "```\n",
    "\"longitude\",\"latitude\",\"housing_median_age\",\"total_rooms\",\"total_bedrooms\",\"population\",\"households\",\"median_income\",\"median_house_value\"\n",
    "-114.310000,34.190000,15.000000,5612.000000,1283.000000,1015.000000,472.000000,1.493600,66900.000000\n",
    "-114.470000,34.400000,19.000000,7650.000000,1901.000000,1129.000000,463.000000,1.820000,80100.000000\n",
    "-114.560000,33.690000,17.000000,720.000000,174.000000,333.000000,117.000000,1.650900,85700.000000\n",
    "-114.570000,33.640000,14.000000,1501.000000,337.000000,515.000000,226.000000,3.191700,73400.000000\n",
    "```\n",
    "\n"
   ]
  },
  {
   "cell_type": "markdown",
   "metadata": {
    "colab_type": "text",
    "id": "sSFQkzNlj-l6"
   },
   "source": [
    "### Load the .csv file into a pandas DataFrame\n",
    "\n",
    "This Colab, like many machine learning programs, gathers the .csv file and stores the data in memory as a pandas Dataframe.  pandas is an open source Python library.  The primary datatype in pandas is a DataFrame.  You can imagine a pandas DataFrame as a spreadsheet in which each row is identified by a number and each column by a name. pandas is itself built on another open source Python library called NumPy. If you aren't familiar with these technologies, please view these two quick tutorials:\n",
    "\n",
    "*   [NumPy](https://colab.research.google.com/github/google/eng-edu/blob/master/ml/cc/exercises/numpy_ultraquick_tutorial.ipynb?utm_source=linearregressionreal-colab&utm_medium=colab&utm_campaign=colab-external&utm_content=numpy_tf2-colab&hl=en)\n",
    "*   [Pandas DataFrames](https://colab.research.google.com/github/google/eng-edu/blob/master/ml/cc/exercises/pandas_dataframe_ultraquick_tutorial.ipynb?utm_source=linearregressionreal-colab&utm_medium=colab&utm_campaign=colab-external&utm_content=pandas_tf2-colab&hl=en)\n",
    "\n",
    "The following code cell imports the .csv file into a pandas DataFrame and scales the values in the label (`median_house_value`):"
   ]
  },
  {
   "cell_type": "code",
   "execution_count": 8,
   "metadata": {
    "colab": {},
    "colab_type": "code",
    "id": "JZlvdpyYKx7V"
   },
   "outputs": [
    {
     "data": {
      "text/html": [
       "<div>\n",
       "<style scoped>\n",
       "    .dataframe tbody tr th:only-of-type {\n",
       "        vertical-align: middle;\n",
       "    }\n",
       "\n",
       "    .dataframe tbody tr th {\n",
       "        vertical-align: top;\n",
       "    }\n",
       "\n",
       "    .dataframe thead th {\n",
       "        text-align: right;\n",
       "    }\n",
       "</style>\n",
       "<table border=\"1\" class=\"dataframe\">\n",
       "  <thead>\n",
       "    <tr style=\"text-align: right;\">\n",
       "      <th></th>\n",
       "      <th>longitude</th>\n",
       "      <th>latitude</th>\n",
       "      <th>housing_median_age</th>\n",
       "      <th>total_rooms</th>\n",
       "      <th>total_bedrooms</th>\n",
       "      <th>population</th>\n",
       "      <th>households</th>\n",
       "      <th>median_income</th>\n",
       "      <th>median_house_value</th>\n",
       "    </tr>\n",
       "  </thead>\n",
       "  <tbody>\n",
       "    <tr>\n",
       "      <th>0</th>\n",
       "      <td>-114.3</td>\n",
       "      <td>34.2</td>\n",
       "      <td>15.0</td>\n",
       "      <td>5612.0</td>\n",
       "      <td>1283.0</td>\n",
       "      <td>1015.0</td>\n",
       "      <td>472.0</td>\n",
       "      <td>1.5</td>\n",
       "      <td>66.9</td>\n",
       "    </tr>\n",
       "    <tr>\n",
       "      <th>1</th>\n",
       "      <td>-114.5</td>\n",
       "      <td>34.4</td>\n",
       "      <td>19.0</td>\n",
       "      <td>7650.0</td>\n",
       "      <td>1901.0</td>\n",
       "      <td>1129.0</td>\n",
       "      <td>463.0</td>\n",
       "      <td>1.8</td>\n",
       "      <td>80.1</td>\n",
       "    </tr>\n",
       "    <tr>\n",
       "      <th>2</th>\n",
       "      <td>-114.6</td>\n",
       "      <td>33.7</td>\n",
       "      <td>17.0</td>\n",
       "      <td>720.0</td>\n",
       "      <td>174.0</td>\n",
       "      <td>333.0</td>\n",
       "      <td>117.0</td>\n",
       "      <td>1.7</td>\n",
       "      <td>85.7</td>\n",
       "    </tr>\n",
       "    <tr>\n",
       "      <th>3</th>\n",
       "      <td>-114.6</td>\n",
       "      <td>33.6</td>\n",
       "      <td>14.0</td>\n",
       "      <td>1501.0</td>\n",
       "      <td>337.0</td>\n",
       "      <td>515.0</td>\n",
       "      <td>226.0</td>\n",
       "      <td>3.2</td>\n",
       "      <td>73.4</td>\n",
       "    </tr>\n",
       "    <tr>\n",
       "      <th>4</th>\n",
       "      <td>-114.6</td>\n",
       "      <td>33.6</td>\n",
       "      <td>20.0</td>\n",
       "      <td>1454.0</td>\n",
       "      <td>326.0</td>\n",
       "      <td>624.0</td>\n",
       "      <td>262.0</td>\n",
       "      <td>1.9</td>\n",
       "      <td>65.5</td>\n",
       "    </tr>\n",
       "  </tbody>\n",
       "</table>\n",
       "</div>"
      ],
      "text/plain": [
       "   longitude  latitude  housing_median_age  total_rooms  total_bedrooms  \\\n",
       "0     -114.3      34.2                15.0       5612.0          1283.0   \n",
       "1     -114.5      34.4                19.0       7650.0          1901.0   \n",
       "2     -114.6      33.7                17.0        720.0           174.0   \n",
       "3     -114.6      33.6                14.0       1501.0           337.0   \n",
       "4     -114.6      33.6                20.0       1454.0           326.0   \n",
       "\n",
       "   population  households  median_income  median_house_value  \n",
       "0      1015.0       472.0            1.5                66.9  \n",
       "1      1129.0       463.0            1.8                80.1  \n",
       "2       333.0       117.0            1.7                85.7  \n",
       "3       515.0       226.0            3.2                73.4  \n",
       "4       624.0       262.0            1.9                65.5  "
      ]
     },
     "execution_count": 8,
     "metadata": {},
     "output_type": "execute_result"
    }
   ],
   "source": [
    "# Import the dataset.\n",
    "training_df = pd.read_csv(filepath_or_buffer=\"https://download.mlcc.google.com/mledu-datasets/california_housing_train.csv\")\n",
    "\n",
    "# Scale the label.\n",
    "training_df[\"median_house_value\"] /= 1000.0\n",
    "\n",
    "# Print the first rows of the pandas DataFrame.\n",
    "training_df.head()"
   ]
  },
  {
   "cell_type": "markdown",
   "metadata": {
    "colab_type": "text",
    "id": "5inxx49n4U9u"
   },
   "source": [
    "Scaling `median_house_value` puts the value of each house in units of thousands. Scaling will keep loss values and learning rates in a friendlier range.  \n",
    "\n",
    "Although scaling a label is usually *not* essential, scaling features in a multi-feature model usually *is* essential."
   ]
  },
  {
   "cell_type": "markdown",
   "metadata": {
    "colab_type": "text",
    "id": "yMysi6-3IAbu"
   },
   "source": [
    "## Examine the dataset\n",
    "\n",
    "A large part of most machine learning projects is getting to know your data. The pandas API provides a `describe` function that outputs the following statistics about every column in the DataFrame:\n",
    "\n",
    "* `count`, which is the number of rows in that column. Ideally, `count` contains the same value for every column. \n",
    "\n",
    "* `mean` and `std`, which contain the mean and standard deviation of the values in each column. \n",
    "\n",
    "* `min` and `max`, which contain the lowest and highest values in each column.\n",
    "\n",
    "* `25%`, `50%`, `75%`, which contain various [quantiles](https://developers.google.com/machine-learning/glossary/#quantile)."
   ]
  },
  {
   "cell_type": "code",
   "execution_count": 9,
   "metadata": {
    "colab": {},
    "colab_type": "code",
    "id": "rnUSYKw4LUuh"
   },
   "outputs": [
    {
     "data": {
      "text/html": [
       "<div>\n",
       "<style scoped>\n",
       "    .dataframe tbody tr th:only-of-type {\n",
       "        vertical-align: middle;\n",
       "    }\n",
       "\n",
       "    .dataframe tbody tr th {\n",
       "        vertical-align: top;\n",
       "    }\n",
       "\n",
       "    .dataframe thead th {\n",
       "        text-align: right;\n",
       "    }\n",
       "</style>\n",
       "<table border=\"1\" class=\"dataframe\">\n",
       "  <thead>\n",
       "    <tr style=\"text-align: right;\">\n",
       "      <th></th>\n",
       "      <th>longitude</th>\n",
       "      <th>latitude</th>\n",
       "      <th>housing_median_age</th>\n",
       "      <th>total_rooms</th>\n",
       "      <th>total_bedrooms</th>\n",
       "      <th>population</th>\n",
       "      <th>households</th>\n",
       "      <th>median_income</th>\n",
       "      <th>median_house_value</th>\n",
       "    </tr>\n",
       "  </thead>\n",
       "  <tbody>\n",
       "    <tr>\n",
       "      <th>count</th>\n",
       "      <td>17000.0</td>\n",
       "      <td>17000.0</td>\n",
       "      <td>17000.0</td>\n",
       "      <td>17000.0</td>\n",
       "      <td>17000.0</td>\n",
       "      <td>17000.0</td>\n",
       "      <td>17000.0</td>\n",
       "      <td>17000.0</td>\n",
       "      <td>17000.0</td>\n",
       "    </tr>\n",
       "    <tr>\n",
       "      <th>mean</th>\n",
       "      <td>-119.6</td>\n",
       "      <td>35.6</td>\n",
       "      <td>28.6</td>\n",
       "      <td>2643.7</td>\n",
       "      <td>539.4</td>\n",
       "      <td>1429.6</td>\n",
       "      <td>501.2</td>\n",
       "      <td>3.9</td>\n",
       "      <td>207.3</td>\n",
       "    </tr>\n",
       "    <tr>\n",
       "      <th>std</th>\n",
       "      <td>2.0</td>\n",
       "      <td>2.1</td>\n",
       "      <td>12.6</td>\n",
       "      <td>2179.9</td>\n",
       "      <td>421.5</td>\n",
       "      <td>1147.9</td>\n",
       "      <td>384.5</td>\n",
       "      <td>1.9</td>\n",
       "      <td>116.0</td>\n",
       "    </tr>\n",
       "    <tr>\n",
       "      <th>min</th>\n",
       "      <td>-124.3</td>\n",
       "      <td>32.5</td>\n",
       "      <td>1.0</td>\n",
       "      <td>2.0</td>\n",
       "      <td>1.0</td>\n",
       "      <td>3.0</td>\n",
       "      <td>1.0</td>\n",
       "      <td>0.5</td>\n",
       "      <td>15.0</td>\n",
       "    </tr>\n",
       "    <tr>\n",
       "      <th>25%</th>\n",
       "      <td>-121.8</td>\n",
       "      <td>33.9</td>\n",
       "      <td>18.0</td>\n",
       "      <td>1462.0</td>\n",
       "      <td>297.0</td>\n",
       "      <td>790.0</td>\n",
       "      <td>282.0</td>\n",
       "      <td>2.6</td>\n",
       "      <td>119.4</td>\n",
       "    </tr>\n",
       "    <tr>\n",
       "      <th>50%</th>\n",
       "      <td>-118.5</td>\n",
       "      <td>34.2</td>\n",
       "      <td>29.0</td>\n",
       "      <td>2127.0</td>\n",
       "      <td>434.0</td>\n",
       "      <td>1167.0</td>\n",
       "      <td>409.0</td>\n",
       "      <td>3.5</td>\n",
       "      <td>180.4</td>\n",
       "    </tr>\n",
       "    <tr>\n",
       "      <th>75%</th>\n",
       "      <td>-118.0</td>\n",
       "      <td>37.7</td>\n",
       "      <td>37.0</td>\n",
       "      <td>3151.2</td>\n",
       "      <td>648.2</td>\n",
       "      <td>1721.0</td>\n",
       "      <td>605.2</td>\n",
       "      <td>4.8</td>\n",
       "      <td>265.0</td>\n",
       "    </tr>\n",
       "    <tr>\n",
       "      <th>max</th>\n",
       "      <td>-114.3</td>\n",
       "      <td>42.0</td>\n",
       "      <td>52.0</td>\n",
       "      <td>37937.0</td>\n",
       "      <td>6445.0</td>\n",
       "      <td>35682.0</td>\n",
       "      <td>6082.0</td>\n",
       "      <td>15.0</td>\n",
       "      <td>500.0</td>\n",
       "    </tr>\n",
       "  </tbody>\n",
       "</table>\n",
       "</div>"
      ],
      "text/plain": [
       "       longitude  latitude  housing_median_age  total_rooms  total_bedrooms  \\\n",
       "count    17000.0   17000.0             17000.0      17000.0         17000.0   \n",
       "mean      -119.6      35.6                28.6       2643.7           539.4   \n",
       "std          2.0       2.1                12.6       2179.9           421.5   \n",
       "min       -124.3      32.5                 1.0          2.0             1.0   \n",
       "25%       -121.8      33.9                18.0       1462.0           297.0   \n",
       "50%       -118.5      34.2                29.0       2127.0           434.0   \n",
       "75%       -118.0      37.7                37.0       3151.2           648.2   \n",
       "max       -114.3      42.0                52.0      37937.0          6445.0   \n",
       "\n",
       "       population  households  median_income  median_house_value  \n",
       "count     17000.0     17000.0        17000.0             17000.0  \n",
       "mean       1429.6       501.2            3.9               207.3  \n",
       "std        1147.9       384.5            1.9               116.0  \n",
       "min           3.0         1.0            0.5                15.0  \n",
       "25%         790.0       282.0            2.6               119.4  \n",
       "50%        1167.0       409.0            3.5               180.4  \n",
       "75%        1721.0       605.2            4.8               265.0  \n",
       "max       35682.0      6082.0           15.0               500.0  "
      ]
     },
     "execution_count": 9,
     "metadata": {},
     "output_type": "execute_result"
    }
   ],
   "source": [
    "# Get statistics on the dataset.\n",
    "training_df.describe()\n"
   ]
  },
  {
   "cell_type": "markdown",
   "metadata": {
    "colab_type": "text",
    "id": "f9pcW_Yjtoo8"
   },
   "source": [
    "### Task 1: Identify anomalies in the dataset\n",
    "\n",
    "Do you see any anomalies (strange values) in the data? "
   ]
  },
  {
   "cell_type": "code",
   "execution_count": 0,
   "metadata": {
    "cellView": "form",
    "colab": {},
    "colab_type": "code",
    "id": "UoS7NWRXEs1H"
   },
   "outputs": [],
   "source": [
    "#@title Double-click to view a possible answer.\n",
    "\n",
    "# The maximum value (max) of several columns seems very\n",
    "# high compared to the other quantiles. For example,\n",
    "# example the total_rooms column. Given the quantile\n",
    "# values (25%, 50%, and 75%), you might expect the \n",
    "# max value of total_rooms to be approximately \n",
    "# 5,000 or possibly 10,000. However, the max value \n",
    "# is actually 37,937.\n",
    "\n",
    "# When you see anomalies in a column, become more careful\n",
    "# about using that column as a feature. That said,\n",
    "# anomalies in potential features sometimes mirror \n",
    "# anomalies in the label, which could make the column \n",
    "# be (or seem to be) a powerful feature.\n",
    "# Also, as you will see later in the course, you \n",
    "# might be able to represent (pre-process) raw data \n",
    "# in order to make columns into useful features."
   ]
  },
  {
   "cell_type": "markdown",
   "metadata": {
    "colab_type": "text",
    "id": "3014ezH3C7jT"
   },
   "source": [
    "## Define functions that build and train a model\n",
    "\n",
    "The following code defines two functions:\n",
    "\n",
    "  * `build_model(my_learning_rate)`, which builds a randomly-initialized model.\n",
    "  * `train_model(model, feature, label, epochs)`, which trains the model from the examples (feature and label) you pass. \n",
    "\n",
    "Since you don't need to understand model building code right now, we've hidden this code cell.  You may optionally double-click the following headline to see the code that builds and trains a model."
   ]
  },
  {
   "cell_type": "code",
   "execution_count": 11,
   "metadata": {
    "cellView": "form",
    "colab": {},
    "colab_type": "code",
    "id": "pedD5GhlDC-y"
   },
   "outputs": [
    {
     "name": "stdout",
     "output_type": "stream",
     "text": [
      "Defined the create_model and traing_model functions.\n"
     ]
    }
   ],
   "source": [
    "#@title Define the functions that build and train a model\n",
    "def build_model(my_learning_rate):\n",
    "  \"\"\"Create and compile a simple linear regression model.\"\"\"\n",
    "  # Most simple tf.keras models are sequential.\n",
    "  model = tf.keras.models.Sequential()\n",
    "\n",
    "  # Describe the topography of the model.\n",
    "  # The topography of a simple linear regression model\n",
    "  # is a single node in a single layer.\n",
    "  model.add(tf.keras.layers.Dense(units=1, \n",
    "                                  input_shape=(1,)))\n",
    "\n",
    "  # Compile the model topography into code that TensorFlow can efficiently\n",
    "  # execute. Configure training to minimize the model's mean squared error. \n",
    "  model.compile(optimizer=tf.keras.optimizers.RMSprop(lr=my_learning_rate),\n",
    "                loss=\"mean_squared_error\",\n",
    "                metrics=[tf.keras.metrics.RootMeanSquaredError()])\n",
    "\n",
    "  return model        \n",
    "\n",
    "\n",
    "def train_model(model, df, feature, label, epochs, batch_size):\n",
    "  \"\"\"Train the model by feeding it data.\"\"\"\n",
    "\n",
    "  # Feed the model the feature and the label.\n",
    "  # The model will train for the specified number of epochs. \n",
    "  history = model.fit(x=df[feature],\n",
    "                      y=df[label],\n",
    "                      batch_size=None,\n",
    "                      epochs=epochs)\n",
    "\n",
    "  # Gather the trained model's weight and bias.\n",
    "  trained_weight = model.get_weights()[0]\n",
    "  trained_bias = model.get_weights()[1]\n",
    "\n",
    "  # The list of epochs is stored separately from the rest of history.\n",
    "  epochs = history.epoch\n",
    "  \n",
    "  # Isolate the error for each epoch.\n",
    "  hist = pd.DataFrame(history.history)\n",
    "\n",
    "  # To track the progression of training, we're going to take a snapshot\n",
    "  # of the model's root mean squared error at each epoch. \n",
    "  rmse = hist[\"root_mean_squared_error\"]\n",
    "\n",
    "  return trained_weight, trained_bias, epochs, rmse\n",
    "\n",
    "print(\"Defined the create_model and traing_model functions.\")"
   ]
  },
  {
   "cell_type": "markdown",
   "metadata": {
    "colab_type": "text",
    "id": "Ak_TMAzGOIFq"
   },
   "source": [
    "## Define plotting functions\n",
    "\n",
    "The following [matplotlib](https://developers.google.com/machine-learning/glossary/#matplotlib) functions create the following plots:\n",
    "\n",
    "*  a scatter plot of the feature vs. the label, and a line showing the output of the trained model\n",
    "*  a loss curve\n",
    "\n",
    "You may optionally double-click the headline to see the matplotlib code, but note that writing matplotlib code is not an important part of learning ML programming."
   ]
  },
  {
   "cell_type": "code",
   "execution_count": 12,
   "metadata": {
    "cellView": "form",
    "colab": {},
    "colab_type": "code",
    "id": "QF0BFRXTOeR3"
   },
   "outputs": [
    {
     "name": "stdout",
     "output_type": "stream",
     "text": [
      "Defined the plot_the_model and plot_the_loss_curve functions.\n"
     ]
    }
   ],
   "source": [
    "#@title Define the plotting functions\n",
    "def plot_the_model(trained_weight, trained_bias, feature, label):\n",
    "  \"\"\"Plot the trained model against 200 random training examples.\"\"\"\n",
    "\n",
    "  # Label the axes.\n",
    "  plt.xlabel(feature)\n",
    "  plt.ylabel(label)\n",
    "\n",
    "  # Create a scatter plot from 200 random points of the dataset.\n",
    "  random_examples = training_df.sample(n=200)\n",
    "  plt.scatter(random_examples[feature], random_examples[label])\n",
    "\n",
    "  # Create a red line representing the model. The red line starts\n",
    "  # at coordinates (x0, y0) and ends at coordinates (x1, y1).\n",
    "  x0 = 0\n",
    "  y0 = trained_bias\n",
    "  x1 = 10000\n",
    "  y1 = trained_bias + (trained_weight * x1)\n",
    "  plt.plot([x0, x1], [y0, y1], c='r')\n",
    "\n",
    "  # Render the scatter plot and the red line.\n",
    "  plt.show()\n",
    "\n",
    "\n",
    "def plot_the_loss_curve(epochs, rmse):\n",
    "  \"\"\"Plot a curve of loss vs. epoch.\"\"\"\n",
    "\n",
    "  plt.figure()\n",
    "  plt.xlabel(\"Epoch\")\n",
    "  plt.ylabel(\"Root Mean Squared Error\")\n",
    "\n",
    "  plt.plot(epochs, rmse, label=\"Loss\")\n",
    "  plt.legend()\n",
    "  plt.ylim([rmse.min()*0.97, rmse.max()])\n",
    "  plt.show()  \n",
    "\n",
    "print(\"Defined the plot_the_model and plot_the_loss_curve functions.\")"
   ]
  },
  {
   "cell_type": "markdown",
   "metadata": {
    "colab_type": "text",
    "id": "D-IXYVfvM4gD"
   },
   "source": [
    "## Call the model functions\n",
    "\n",
    "An important part of machine learning is determining which [features](https://developers.google.com/machine-learning/glossary/#feature) correlate with the [label](https://developers.google.com/machine-learning/glossary/#label). For example, real-life home-value prediction models typically rely on hundreds of features and synthetic features. However, this model relies on only one feature. For now, you'll arbitrarily use `total_rooms` as that feature. \n"
   ]
  },
  {
   "cell_type": "code",
   "execution_count": 13,
   "metadata": {
    "cellView": "both",
    "colab": {},
    "colab_type": "code",
    "id": "nj3v5EKQFY8s"
   },
   "outputs": [
    {
     "name": "stdout",
     "output_type": "stream",
     "text": [
      "Epoch 1/30\n",
      "532/532 [==============================] - 0s 447us/step - loss: 573382.0625 - root_mean_squared_error: 757.2200\n",
      "Epoch 2/30\n",
      "532/532 [==============================] - 0s 518us/step - loss: 27995.4629 - root_mean_squared_error: 167.3185\n",
      "Epoch 3/30\n",
      "532/532 [==============================] - 0s 523us/step - loss: 27125.3184 - root_mean_squared_error: 164.6977\n",
      "Epoch 4/30\n",
      "532/532 [==============================] - 0s 618us/step - loss: 26223.5840 - root_mean_squared_error: 161.9370\n",
      "Epoch 5/30\n",
      "532/532 [==============================] - 0s 540us/step - loss: 25879.6562 - root_mean_squared_error: 160.8716\n",
      "Epoch 6/30\n",
      "532/532 [==============================] - 0s 487us/step - loss: 25043.3418 - root_mean_squared_error: 158.2509\n",
      "Epoch 7/30\n",
      "532/532 [==============================] - 0s 465us/step - loss: 24478.5762 - root_mean_squared_error: 156.4563\n",
      "Epoch 8/30\n",
      "532/532 [==============================] - 0s 438us/step - loss: 23794.0762 - root_mean_squared_error: 154.2533\n",
      "Epoch 9/30\n",
      "532/532 [==============================] - 0s 493us/step - loss: 23299.4531 - root_mean_squared_error: 152.6416\n",
      "Epoch 10/30\n",
      "532/532 [==============================] - 0s 460us/step - loss: 22775.4414 - root_mean_squared_error: 150.9153\n",
      "Epoch 11/30\n",
      "532/532 [==============================] - 0s 529us/step - loss: 22357.8809 - root_mean_squared_error: 149.5255\n",
      "Epoch 12/30\n",
      "532/532 [==============================] - 0s 511us/step - loss: 21682.8398 - root_mean_squared_error: 147.2509\n",
      "Epoch 13/30\n",
      "532/532 [==============================] - 0s 522us/step - loss: 20986.8789 - root_mean_squared_error: 144.8685\n",
      "Epoch 14/30\n",
      "532/532 [==============================] - 0s 514us/step - loss: 20600.1895 - root_mean_squared_error: 143.5277\n",
      "Epoch 15/30\n",
      "532/532 [==============================] - 0s 468us/step - loss: 20340.5918 - root_mean_squared_error: 142.6205\n",
      "Epoch 16/30\n",
      "532/532 [==============================] - 0s 437us/step - loss: 19881.7773 - root_mean_squared_error: 141.0028\n",
      "Epoch 17/30\n",
      "532/532 [==============================] - 0s 449us/step - loss: 19360.7051 - root_mean_squared_error: 139.1427\n",
      "Epoch 18/30\n",
      "532/532 [==============================] - 0s 467us/step - loss: 18898.6836 - root_mean_squared_error: 137.4725\n",
      "Epoch 19/30\n",
      "532/532 [==============================] - 0s 454us/step - loss: 18684.3574 - root_mean_squared_error: 136.6907\n",
      "Epoch 20/30\n",
      "532/532 [==============================] - 0s 521us/step - loss: 18244.4902 - root_mean_squared_error: 135.0722\n",
      "Epoch 21/30\n",
      "532/532 [==============================] - 0s 465us/step - loss: 17741.8613 - root_mean_squared_error: 133.1986\n",
      "Epoch 22/30\n",
      "532/532 [==============================] - 0s 488us/step - loss: 17510.5215 - root_mean_squared_error: 132.3273\n",
      "Epoch 23/30\n",
      "532/532 [==============================] - 0s 475us/step - loss: 17131.3125 - root_mean_squared_error: 130.8866\n",
      "Epoch 24/30\n",
      "532/532 [==============================] - 0s 503us/step - loss: 16938.0684 - root_mean_squared_error: 130.1463\n",
      "Epoch 25/30\n",
      "532/532 [==============================] - 0s 452us/step - loss: 16591.0801 - root_mean_squared_error: 128.8064\n",
      "Epoch 26/30\n",
      "532/532 [==============================] - 0s 490us/step - loss: 16440.6289 - root_mean_squared_error: 128.2210\n",
      "Epoch 27/30\n",
      "532/532 [==============================] - 0s 462us/step - loss: 16226.3721 - root_mean_squared_error: 127.3828\n",
      "Epoch 28/30\n",
      "532/532 [==============================] - 0s 441us/step - loss: 15985.5117 - root_mean_squared_error: 126.4338\n",
      "Epoch 29/30\n",
      "532/532 [==============================] - 0s 457us/step - loss: 15804.6982 - root_mean_squared_error: 125.7167\n",
      "Epoch 30/30\n",
      "532/532 [==============================] - 0s 487us/step - loss: 15520.6748 - root_mean_squared_error: 124.5820\n",
      "\n",
      "The learned weight for your model is 0.0236\n",
      "The learned bias for your model is 127.0846\n",
      "\n"
     ]
    },
    {
     "name": "stderr",
     "output_type": "stream",
     "text": [
      "/Users/eric/.conda/envs/mlbase/lib/python3.8/site-packages/numpy/core/_asarray.py:136: VisibleDeprecationWarning: Creating an ndarray from ragged nested sequences (which is a list-or-tuple of lists-or-tuples-or ndarrays with different lengths or shapes) is deprecated. If you meant to do this, you must specify 'dtype=object' when creating the ndarray\n",
      "  return array(a, dtype, copy=False, order=order, subok=True)\n"
     ]
    },
    {
     "data": {
      "image/png": "[encoded data removed]",
      "text/plain": [
       "<Figure size 432x288 with 1 Axes>"
      ]
     },
     "metadata": {
      "needs_background": "light"
     },
     "output_type": "display_data"
    },
    {
     "data": {
      "image/png": "[encoded data removed]",
      "text/plain": [
       "<Figure size 432x288 with 1 Axes>"
      ]
     },
     "metadata": {
      "needs_background": "light"
     },
     "output_type": "display_data"
    }
   ],
   "source": [
    "# The following variables are the hyperparameters.\n",
    "learning_rate = 0.01\n",
    "epochs = 30\n",
    "batch_size = 30\n",
    "\n",
    "# Specify the feature and the label.\n",
    "my_feature = \"total_rooms\"  # the total number of rooms on a specific city block.\n",
    "my_label=\"median_house_value\" # the median value of a house on a specific city block.\n",
    "# That is, you're going to create a model that predicts house value based \n",
    "# solely on total_rooms.  \n",
    "\n",
    "# Discard any pre-existing version of the model.\n",
    "my_model = None\n",
    "\n",
    "# Invoke the functions.\n",
    "my_model = build_model(learning_rate)\n",
    "weight, bias, epochs, rmse = train_model(my_model, training_df, \n",
    "                                         my_feature, my_label,\n",
    "                                         epochs, batch_size)\n",
    "\n",
    "print(\"\\nThe learned weight for your model is %.4f\" % weight)\n",
    "print(\"The learned bias for your model is %.4f\\n\" % bias )\n",
    "\n",
    "plot_the_model(weight, bias, my_feature, my_label)\n",
    "plot_the_loss_curve(epochs, rmse)"
   ]
  },
  {
   "cell_type": "markdown",
   "metadata": {
    "colab_type": "text",
    "id": "Btp8zUNbYOcd"
   },
   "source": [
    "A certain amount of randomness plays into training a model. Consequently, you'll get different results each time you train the model. That said, given the dataset and the hyperparameters, the trained model will generally do a poor job describing the feature's relation to the label."
   ]
  },
  {
   "cell_type": "markdown",
   "metadata": {
    "colab_type": "text",
    "id": "1xNqWWos_zyk"
   },
   "source": [
    "## Use the model to make predictions\n",
    "\n",
    "You can use the trained model to make predictions. In practice, [you should make predictions on examples that are not used in training](https://developers.google.com/machine-learning/crash-course/training-and-test-sets/splitting-data). However, for this exercise, you'll just work with a subset of the same training dataset. A later Colab exercise will explore ways to make predictions on examples not used in training.\n",
    "\n",
    "First, run the following code to define the house prediction function:"
   ]
  },
  {
   "cell_type": "code",
   "execution_count": 14,
   "metadata": {
    "colab": {},
    "colab_type": "code",
    "id": "nH63BmncAcab"
   },
   "outputs": [],
   "source": [
    "def predict_house_values(n, feature, label):\n",
    "  \"\"\"Predict house values based on a feature.\"\"\"\n",
    "\n",
    "  batch = training_df[feature][10000:10000 + n]\n",
    "  predicted_values = my_model.predict_on_batch(x=batch)\n",
    "\n",
    "  print(\"feature   label          predicted\")\n",
    "  print(\"  value   value          value\")\n",
    "  print(\"          in thousand$   in thousand$\")\n",
    "  print(\"--------------------------------------\")\n",
    "  for i in range(n):\n",
    "    print (\"%5.0f %6.0f %15.0f\" % (training_df[feature][i],\n",
    "                                   training_df[label][i],\n",
    "                                   predicted_values[i][0] ))"
   ]
  },
  {
   "cell_type": "markdown",
   "metadata": {
    "colab_type": "text",
    "id": "NbBNQujU5WjK"
   },
   "source": [
    "Now, invoke the house prediction function on 10 examples:"
   ]
  },
  {
   "cell_type": "code",
   "execution_count": 15,
   "metadata": {
    "colab": {},
    "colab_type": "code",
    "id": "Y_0DGBt0Kz_N"
   },
   "outputs": [
    {
     "name": "stdout",
     "output_type": "stream",
     "text": [
      "feature   label          predicted\n",
      "  value   value          value\n",
      "          in thousand$   in thousand$\n",
      "--------------------------------------\n",
      " 5612     67             173\n",
      " 7650     80             207\n",
      "  720     86             214\n",
      " 1501     73             179\n",
      " 1454     66             184\n",
      " 1387     74             260\n",
      " 2907     82             205\n",
      "  812     48             187\n",
      " 4789     58             159\n",
      " 1497     48             209\n"
     ]
    }
   ],
   "source": [
    "predict_house_values(10, my_feature, my_label)"
   ]
  },
  {
   "cell_type": "markdown",
   "metadata": {
    "colab_type": "text",
    "id": "-gGaqArcpqY3"
   },
   "source": [
    "### Task 2: Judge the predictive power of the model\n",
    "\n",
    "Look at the preceding table. How close is the predicted value to the label value?  In other words, does your model accurately predict house values?  "
   ]
  },
  {
   "cell_type": "code",
   "execution_count": 0,
   "metadata": {
    "cellView": "form",
    "colab": {},
    "colab_type": "code",
    "id": "yVpjhUFm9uID"
   },
   "outputs": [],
   "source": [
    "#@title Double-click to view the answer.\n",
    "\n",
    "# Most of the predicted values differ significantly\n",
    "# from the label value, so the trained model probably \n",
    "# doesn't have much predictive power. However, the\n",
    "# first 10 examples might not be representative of \n",
    "# the rest of the examples.  "
   ]
  },
  {
   "cell_type": "markdown",
   "metadata": {
    "colab_type": "text",
    "id": "wLoqis3IUPSd"
   },
   "source": [
    "## Task 3: Try a different feature\n",
    "\n",
    "The `total_rooms` feature had only a little predictive power. Would a different feature have greater predictive power?  Try using `population` as the feature instead of `total_rooms`. \n",
    "\n",
    "Note: When you change features, you might also need to change the hyperparameters."
   ]
  },
  {
   "cell_type": "code",
   "execution_count": 17,
   "metadata": {
    "colab": {},
    "colab_type": "code",
    "id": "H0ab6HD4ZO75"
   },
   "outputs": [
    {
     "name": "stdout",
     "output_type": "stream",
     "text": [
      "Epoch 1/100\n",
      "532/532 [==============================] - 0s 458us/step - loss: 15681.0479 - root_mean_squared_error: 125.2240\n",
      "Epoch 2/100\n",
      "532/532 [==============================] - 0s 433us/step - loss: 15416.5518 - root_mean_squared_error: 124.1634\n",
      "Epoch 3/100\n",
      "532/532 [==============================] - 0s 428us/step - loss: 15252.0957 - root_mean_squared_error: 123.4994\n",
      "Epoch 4/100\n",
      "532/532 [==============================] - 0s 457us/step - loss: 15089.3115 - root_mean_squared_error: 122.8386\n",
      "Epoch 5/100\n",
      "532/532 [==============================] - 0s 555us/step - loss: 14949.9629 - root_mean_squared_error: 122.2700\n",
      "Epoch 6/100\n",
      "532/532 [==============================] - 0s 510us/step - loss: 14733.6270 - root_mean_squared_error: 121.3821\n",
      "Epoch 7/100\n",
      "532/532 [==============================] - 0s 492us/step - loss: 14671.7168 - root_mean_squared_error: 121.1269\n",
      "Epoch 8/100\n",
      "532/532 [==============================] - 0s 533us/step - loss: 14513.7373 - root_mean_squared_error: 120.4730\n",
      "Epoch 9/100\n",
      "532/532 [==============================] - 0s 583us/step - loss: 14428.1836 - root_mean_squared_error: 120.1174\n",
      "Epoch 10/100\n",
      "532/532 [==============================] - 0s 503us/step - loss: 14285.4424 - root_mean_squared_error: 119.5217\n",
      "Epoch 11/100\n",
      "532/532 [==============================] - 0s 447us/step - loss: 14229.1016 - root_mean_squared_error: 119.2858\n",
      "Epoch 12/100\n",
      "532/532 [==============================] - 0s 496us/step - loss: 14100.9014 - root_mean_squared_error: 118.7472\n",
      "Epoch 13/100\n",
      "532/532 [==============================] - 0s 473us/step - loss: 14067.1885 - root_mean_squared_error: 118.6052\n",
      "Epoch 14/100\n",
      "532/532 [==============================] - 0s 436us/step - loss: 14063.4385 - root_mean_squared_error: 118.5894\n",
      "Epoch 15/100\n",
      "532/532 [==============================] - 0s 450us/step - loss: 13947.4199 - root_mean_squared_error: 118.0992\n",
      "Epoch 16/100\n",
      "532/532 [==============================] - 0s 443us/step - loss: 13911.0381 - root_mean_squared_error: 117.9451\n",
      "Epoch 17/100\n",
      "532/532 [==============================] - 0s 457us/step - loss: 13876.3916 - root_mean_squared_error: 117.7981\n",
      "Epoch 18/100\n",
      "532/532 [==============================] - 0s 448us/step - loss: 13842.9775 - root_mean_squared_error: 117.6562\n",
      "Epoch 19/100\n",
      "532/532 [==============================] - 0s 448us/step - loss: 13806.4873 - root_mean_squared_error: 117.5010\n",
      "Epoch 20/100\n",
      "532/532 [==============================] - 0s 527us/step - loss: 13794.6436 - root_mean_squared_error: 117.4506\n",
      "Epoch 21/100\n",
      "532/532 [==============================] - 0s 523us/step - loss: 13753.6367 - root_mean_squared_error: 117.2759\n",
      "Epoch 22/100\n",
      "532/532 [==============================] - 0s 505us/step - loss: 13771.0156 - root_mean_squared_error: 117.3500\n",
      "Epoch 23/100\n",
      "532/532 [==============================] - 0s 444us/step - loss: 13744.1992 - root_mean_squared_error: 117.2357\n",
      "Epoch 24/100\n",
      "532/532 [==============================] - 0s 430us/step - loss: 13752.9346 - root_mean_squared_error: 117.2729\n",
      "Epoch 25/100\n",
      "532/532 [==============================] - 0s 451us/step - loss: 13714.5234 - root_mean_squared_error: 117.1090\n",
      "Epoch 26/100\n",
      "532/532 [==============================] - 0s 439us/step - loss: 13692.5967 - root_mean_squared_error: 117.0154\n",
      "Epoch 27/100\n",
      "532/532 [==============================] - 0s 442us/step - loss: 13711.4912 - root_mean_squared_error: 117.0961\n",
      "Epoch 28/100\n",
      "532/532 [==============================] - 0s 433us/step - loss: 13690.4277 - root_mean_squared_error: 117.0061\n",
      "Epoch 29/100\n",
      "532/532 [==============================] - 0s 437us/step - loss: 13676.8506 - root_mean_squared_error: 116.9481\n",
      "Epoch 30/100\n",
      "532/532 [==============================] - 0s 465us/step - loss: 13690.0508 - root_mean_squared_error: 117.0045\n",
      "Epoch 31/100\n",
      "532/532 [==============================] - 0s 523us/step - loss: 13689.7480 - root_mean_squared_error: 117.0032\n",
      "Epoch 32/100\n",
      "532/532 [==============================] - 0s 502us/step - loss: 13632.4893 - root_mean_squared_error: 116.7583\n",
      "Epoch 33/100\n",
      "532/532 [==============================] - 0s 513us/step - loss: 13648.2461 - root_mean_squared_error: 116.8257\n",
      "Epoch 34/100\n",
      "532/532 [==============================] - 0s 449us/step - loss: 13640.0703 - root_mean_squared_error: 116.7907\n",
      "Epoch 35/100\n",
      "532/532 [==============================] - 0s 429us/step - loss: 13648.6924 - root_mean_squared_error: 116.8276\n",
      "Epoch 36/100\n",
      "532/532 [==============================] - 0s 447us/step - loss: 13624.3848 - root_mean_squared_error: 116.7235\n",
      "Epoch 37/100\n",
      "532/532 [==============================] - 0s 440us/step - loss: 13667.9883 - root_mean_squared_error: 116.9102\n",
      "Epoch 38/100\n",
      "532/532 [==============================] - 0s 481us/step - loss: 13650.8311 - root_mean_squared_error: 116.8368\n",
      "Epoch 39/100\n",
      "532/532 [==============================] - 0s 507us/step - loss: 13662.4580 - root_mean_squared_error: 116.8865\n",
      "Epoch 40/100\n",
      "532/532 [==============================] - 0s 522us/step - loss: 13670.3496 - root_mean_squared_error: 116.9203\n",
      "Epoch 41/100\n",
      "532/532 [==============================] - 0s 468us/step - loss: 13686.6846 - root_mean_squared_error: 116.9901\n",
      "Epoch 42/100\n",
      "532/532 [==============================] - 0s 434us/step - loss: 13642.5732 - root_mean_squared_error: 116.8014\n",
      "Epoch 43/100\n",
      "532/532 [==============================] - 0s 446us/step - loss: 13645.2510 - root_mean_squared_error: 116.8129\n",
      "Epoch 44/100\n",
      "532/532 [==============================] - 0s 523us/step - loss: 13679.0156 - root_mean_squared_error: 116.9573\n",
      "Epoch 45/100\n",
      "532/532 [==============================] - 0s 517us/step - loss: 13679.2676 - root_mean_squared_error: 116.9584\n",
      "Epoch 46/100\n",
      "532/532 [==============================] - 0s 488us/step - loss: 13676.7246 - root_mean_squared_error: 116.9475\n",
      "Epoch 47/100\n",
      "532/532 [==============================] - 0s 529us/step - loss: 13647.9336 - root_mean_squared_error: 116.8244\n",
      "Epoch 48/100\n",
      "532/532 [==============================] - 0s 520us/step - loss: 13651.3379 - root_mean_squared_error: 116.8389\n",
      "Epoch 49/100\n",
      "532/532 [==============================] - 0s 474us/step - loss: 13656.2852 - root_mean_squared_error: 116.8601\n",
      "Epoch 50/100\n",
      "532/532 [==============================] - 0s 441us/step - loss: 13639.4990 - root_mean_squared_error: 116.7883\n",
      "Epoch 51/100\n",
      "532/532 [==============================] - 0s 456us/step - loss: 13644.0762 - root_mean_squared_error: 116.8079\n",
      "Epoch 52/100\n",
      "532/532 [==============================] - 0s 457us/step - loss: 13707.4023 - root_mean_squared_error: 117.0786\n",
      "Epoch 53/100\n",
      "532/532 [==============================] - 0s 515us/step - loss: 13677.8721 - root_mean_squared_error: 116.9524\n",
      "Epoch 54/100\n",
      "532/532 [==============================] - 0s 504us/step - loss: 13674.0186 - root_mean_squared_error: 116.9360\n",
      "Epoch 55/100\n",
      "532/532 [==============================] - 0s 502us/step - loss: 13652.3291 - root_mean_squared_error: 116.8432\n",
      "Epoch 56/100\n",
      "532/532 [==============================] - 0s 504us/step - loss: 13657.7227 - root_mean_squared_error: 116.8663\n",
      "Epoch 57/100\n",
      "532/532 [==============================] - 0s 503us/step - loss: 13645.9746 - root_mean_squared_error: 116.8160\n",
      "Epoch 58/100\n",
      "532/532 [==============================] - 0s 548us/step - loss: 13658.2461 - root_mean_squared_error: 116.8685\n",
      "Epoch 59/100\n",
      "532/532 [==============================] - 0s 522us/step - loss: 13634.2305 - root_mean_squared_error: 116.7657\n",
      "Epoch 60/100\n",
      "532/532 [==============================] - 0s 515us/step - loss: 13668.4551 - root_mean_squared_error: 116.9122\n",
      "Epoch 61/100\n",
      "532/532 [==============================] - 0s 555us/step - loss: 13645.7383 - root_mean_squared_error: 116.8150\n",
      "Epoch 62/100\n",
      "532/532 [==============================] - 0s 520us/step - loss: 13656.7363 - root_mean_squared_error: 116.8620\n",
      "Epoch 63/100\n",
      "532/532 [==============================] - 0s 546us/step - loss: 13659.5059 - root_mean_squared_error: 116.8739\n",
      "Epoch 64/100\n",
      "532/532 [==============================] - 0s 523us/step - loss: 13662.2207 - root_mean_squared_error: 116.8855\n",
      "Epoch 65/100\n",
      "532/532 [==============================] - 0s 514us/step - loss: 13663.8398 - root_mean_squared_error: 116.8924\n",
      "Epoch 66/100\n"
     ]
    },
    {
     "name": "stdout",
     "output_type": "stream",
     "text": [
      "532/532 [==============================] - 0s 485us/step - loss: 13682.0166 - root_mean_squared_error: 116.9702\n",
      "Epoch 67/100\n",
      "532/532 [==============================] - 0s 454us/step - loss: 13655.2031 - root_mean_squared_error: 116.8555\n",
      "Epoch 68/100\n",
      "532/532 [==============================] - 0s 400us/step - loss: 13672.2979 - root_mean_squared_error: 116.9286\n",
      "Epoch 69/100\n",
      "532/532 [==============================] - 0s 408us/step - loss: 13649.3467 - root_mean_squared_error: 116.8304\n",
      "Epoch 70/100\n",
      "532/532 [==============================] - 0s 445us/step - loss: 13660.7949 - root_mean_squared_error: 116.8794\n",
      "Epoch 71/100\n",
      "532/532 [==============================] - 0s 466us/step - loss: 13661.4414 - root_mean_squared_error: 116.8822\n",
      "Epoch 72/100\n",
      "532/532 [==============================] - 0s 483us/step - loss: 13639.0732 - root_mean_squared_error: 116.7864\n",
      "Epoch 73/100\n",
      "532/532 [==============================] - 0s 447us/step - loss: 13642.5322 - root_mean_squared_error: 116.8013\n",
      "Epoch 74/100\n",
      "532/532 [==============================] - 0s 473us/step - loss: 13668.3584 - root_mean_squared_error: 116.9118\n",
      "Epoch 75/100\n",
      "532/532 [==============================] - 0s 484us/step - loss: 13649.8506 - root_mean_squared_error: 116.8326\n",
      "Epoch 76/100\n",
      "532/532 [==============================] - 0s 475us/step - loss: 13677.5000 - root_mean_squared_error: 116.9508\n",
      "Epoch 77/100\n",
      "532/532 [==============================] - 0s 461us/step - loss: 13659.9092 - root_mean_squared_error: 116.8756\n",
      "Epoch 78/100\n",
      "532/532 [==============================] - 0s 421us/step - loss: 13644.0303 - root_mean_squared_error: 116.8077\n",
      "Epoch 79/100\n",
      "532/532 [==============================] - 0s 406us/step - loss: 13664.8613 - root_mean_squared_error: 116.8968\n",
      "Epoch 80/100\n",
      "532/532 [==============================] - 0s 467us/step - loss: 13655.7686 - root_mean_squared_error: 116.8579\n",
      "Epoch 81/100\n",
      "532/532 [==============================] - 0s 466us/step - loss: 13659.9912 - root_mean_squared_error: 116.8760\n",
      "Epoch 82/100\n",
      "532/532 [==============================] - 0s 463us/step - loss: 13637.6660 - root_mean_squared_error: 116.7804\n",
      "Epoch 83/100\n",
      "532/532 [==============================] - 0s 508us/step - loss: 13672.9629 - root_mean_squared_error: 116.9314\n",
      "Epoch 84/100\n",
      "532/532 [==============================] - 0s 478us/step - loss: 13662.7354 - root_mean_squared_error: 116.8877\n",
      "Epoch 85/100\n",
      "532/532 [==============================] - 0s 425us/step - loss: 13657.8691 - root_mean_squared_error: 116.8669\n",
      "Epoch 86/100\n",
      "532/532 [==============================] - 0s 523us/step - loss: 13660.1543 - root_mean_squared_error: 116.8767\n",
      "Epoch 87/100\n",
      "532/532 [==============================] - 0s 480us/step - loss: 13659.8281 - root_mean_squared_error: 116.8753\n",
      "Epoch 88/100\n",
      "532/532 [==============================] - 0s 443us/step - loss: 13646.5068 - root_mean_squared_error: 116.8183\n",
      "Epoch 89/100\n",
      "532/532 [==============================] - 0s 452us/step - loss: 13658.8398 - root_mean_squared_error: 116.8710\n",
      "Epoch 90/100\n",
      "532/532 [==============================] - 0s 516us/step - loss: 13623.1504 - root_mean_squared_error: 116.7183\n",
      "Epoch 91/100\n",
      "532/532 [==============================] - 0s 452us/step - loss: 13652.8066 - root_mean_squared_error: 116.8452\n",
      "Epoch 92/100\n",
      "532/532 [==============================] - 0s 515us/step - loss: 13642.9980 - root_mean_squared_error: 116.8032\n",
      "Epoch 93/100\n",
      "532/532 [==============================] - 0s 476us/step - loss: 13658.4043 - root_mean_squared_error: 116.8692\n",
      "Epoch 94/100\n",
      "532/532 [==============================] - 0s 482us/step - loss: 13643.6533 - root_mean_squared_error: 116.8061\n",
      "Epoch 95/100\n",
      "532/532 [==============================] - 0s 488us/step - loss: 13634.4609 - root_mean_squared_error: 116.7667\n",
      "Epoch 96/100\n",
      "532/532 [==============================] - 0s 525us/step - loss: 13627.9531 - root_mean_squared_error: 116.7388\n",
      "Epoch 97/100\n",
      "532/532 [==============================] - 0s 461us/step - loss: 13644.1348 - root_mean_squared_error: 116.8081\n",
      "Epoch 98/100\n",
      "532/532 [==============================] - 0s 531us/step - loss: 13663.9648 - root_mean_squared_error: 116.8930\n",
      "Epoch 99/100\n",
      "532/532 [==============================] - 0s 508us/step - loss: 13652.0830 - root_mean_squared_error: 116.8421\n",
      "Epoch 100/100\n",
      "532/532 [==============================] - 0s 499us/step - loss: 13691.2588 - root_mean_squared_error: 117.0097\n"
     ]
    },
    {
     "name": "stderr",
     "output_type": "stream",
     "text": [
      "/Users/eric/.conda/envs/mlbase/lib/python3.8/site-packages/numpy/core/_asarray.py:136: VisibleDeprecationWarning: Creating an ndarray from ragged nested sequences (which is a list-or-tuple of lists-or-tuples-or ndarrays with different lengths or shapes) is deprecated. If you meant to do this, you must specify 'dtype=object' when creating the ndarray\n",
      "  return array(a, dtype, copy=False, order=order, subok=True)\n"
     ]
    },
    {
     "data": {
      "image/png": "[encoded data removed]",
      "text/plain": [
       "<Figure size 432x288 with 1 Axes>"
      ]
     },
     "metadata": {
      "needs_background": "light"
     },
     "output_type": "display_data"
    },
    {
     "data": {
      "image/png": "[encoded data removed]",
      "text/plain": [
       "<Figure size 432x288 with 1 Axes>"
      ]
     },
     "metadata": {
      "needs_background": "light"
     },
     "output_type": "display_data"
    },
    {
     "name": "stdout",
     "output_type": "stream",
     "text": [
      "feature   label          predicted\n",
      "  value   value          value\n",
      "          in thousand$   in thousand$\n",
      "--------------------------------------\n",
      " 1015     67             231\n",
      " 1129     80             240\n",
      "  333     86             244\n",
      "  515     73             227\n",
      "  624     66             236\n",
      "  671     74             246\n",
      " 1841     82             236\n",
      "  375     48             227\n",
      " 3134     58             216\n",
      "  787     48             236\n",
      " 2434     86             229\n",
      " 1182     62             216\n",
      "  580     49             242\n",
      " 1346     70             239\n",
      "  949     45             231\n"
     ]
    }
   ],
   "source": [
    "my_feature = \"population\"   # Replace the ? with population or possibly\n",
    "                   # a different column name.\n",
    "\n",
    "# Experiment with the hyperparameters.\n",
    "learning_rate = 2\n",
    "epochs = 100\n",
    "batch_size = 120\n",
    "\n",
    "# Don't change anything below this line.\n",
    "model = build_model(learning_rate)\n",
    "weight, bias, epochs, rmse = train_model(my_model, training_df, \n",
    "                                         my_feature, my_label,\n",
    "                                         epochs, batch_size)\n",
    "plot_the_model(weight, bias, my_feature, my_label)\n",
    "plot_the_loss_curve(epochs, rmse)\n",
    "\n",
    "predict_house_values(15, my_feature, my_label)"
   ]
  },
  {
   "cell_type": "code",
   "execution_count": 18,
   "metadata": {
    "cellView": "form",
    "colab": {},
    "colab_type": "code",
    "id": "107mDkW7U6mg"
   },
   "outputs": [
    {
     "name": "stdout",
     "output_type": "stream",
     "text": [
      "Epoch 1/18\n",
      "532/532 [==============================] - 0s 437us/step - loss: 84431.2266 - root_mean_squared_error: 290.5705\n",
      "Epoch 2/18\n",
      "532/532 [==============================] - 0s 439us/step - loss: 30093.2656 - root_mean_squared_error: 173.4741\n",
      "Epoch 3/18\n",
      "532/532 [==============================] - 0s 490us/step - loss: 27750.9141 - root_mean_squared_error: 166.5861\n",
      "Epoch 4/18\n",
      "532/532 [==============================] - 0s 543us/step - loss: 24870.2598 - root_mean_squared_error: 157.7031\n",
      "Epoch 5/18\n",
      "532/532 [==============================] - 0s 484us/step - loss: 22328.3887 - root_mean_squared_error: 149.4269\n",
      "Epoch 6/18\n",
      "532/532 [==============================] - 0s 541us/step - loss: 20813.8223 - root_mean_squared_error: 144.2700\n",
      "Epoch 7/18\n",
      "532/532 [==============================] - 0s 491us/step - loss: 19617.7305 - root_mean_squared_error: 140.0633\n",
      "Epoch 8/18\n",
      "532/532 [==============================] - 0s 542us/step - loss: 18593.5801 - root_mean_squared_error: 136.3583\n",
      "Epoch 9/18\n",
      "532/532 [==============================] - 0s 515us/step - loss: 17547.2363 - root_mean_squared_error: 132.4660\n",
      "Epoch 10/18\n",
      "532/532 [==============================] - 0s 500us/step - loss: 17005.0605 - root_mean_squared_error: 130.4035\n",
      "Epoch 11/18\n",
      "532/532 [==============================] - 0s 462us/step - loss: 16679.2598 - root_mean_squared_error: 129.1482\n",
      "Epoch 12/18\n",
      "532/532 [==============================] - 0s 445us/step - loss: 16161.0000 - root_mean_squared_error: 127.1259\n",
      "Epoch 13/18\n",
      "532/532 [==============================] - 0s 458us/step - loss: 16129.2344 - root_mean_squared_error: 127.0009\n",
      "Epoch 14/18\n",
      "532/532 [==============================] - 0s 448us/step - loss: 16143.9326 - root_mean_squared_error: 127.0588\n",
      "Epoch 15/18\n",
      "532/532 [==============================] - 0s 439us/step - loss: 16100.6006 - root_mean_squared_error: 126.8881\n",
      "Epoch 16/18\n",
      "532/532 [==============================] - 0s 444us/step - loss: 15930.5430 - root_mean_squared_error: 126.2163\n",
      "Epoch 17/18\n",
      "532/532 [==============================] - 0s 442us/step - loss: 15830.0723 - root_mean_squared_error: 125.8176\n",
      "Epoch 18/18\n",
      "532/532 [==============================] - 0s 442us/step - loss: 16046.3701 - root_mean_squared_error: 126.6743\n"
     ]
    },
    {
     "name": "stderr",
     "output_type": "stream",
     "text": [
      "/Users/eric/.conda/envs/mlbase/lib/python3.8/site-packages/numpy/core/_asarray.py:136: VisibleDeprecationWarning: Creating an ndarray from ragged nested sequences (which is a list-or-tuple of lists-or-tuples-or ndarrays with different lengths or shapes) is deprecated. If you meant to do this, you must specify 'dtype=object' when creating the ndarray\n",
      "  return array(a, dtype, copy=False, order=order, subok=True)\n"
     ]
    },
    {
     "data": {
      "image/png": "[encoded data removed]",
      "text/plain": [
       "<Figure size 432x288 with 1 Axes>"
      ]
     },
     "metadata": {
      "needs_background": "light"
     },
     "output_type": "display_data"
    },
    {
     "data": {
      "image/png": "[encoded data removed]",
      "text/plain": [
       "<Figure size 432x288 with 1 Axes>"
      ]
     },
     "metadata": {
      "needs_background": "light"
     },
     "output_type": "display_data"
    },
    {
     "name": "stdout",
     "output_type": "stream",
     "text": [
      "feature   label          predicted\n",
      "  value   value          value\n",
      "          in thousand$   in thousand$\n",
      "--------------------------------------\n",
      " 1015     67             218\n",
      " 1129     80             224\n",
      "  333     86             228\n",
      "  515     73             215\n",
      "  624     66             222\n",
      "  671     74             229\n",
      " 1841     82             221\n",
      "  375     48             216\n",
      " 3134     58             208\n",
      "  787     48             221\n"
     ]
    }
   ],
   "source": [
    "#@title Double-click to view a possible solution.\n",
    "\n",
    "my_feature = \"population\" # Pick a feature other than \"total_rooms\"\n",
    "\n",
    "# Possibly, experiment with the hyperparameters.\n",
    "learning_rate = 0.05\n",
    "epochs = 18\n",
    "batch_size = 3\n",
    "\n",
    "# Don't change anything below.\n",
    "my_model = build_model(learning_rate)\n",
    "weight, bias, epochs, rmse = train_model(my_model, training_df, \n",
    "                                         my_feature, my_label,\n",
    "                                         epochs, batch_size)\n",
    "\n",
    "plot_the_model(weight, bias, my_feature, my_label)\n",
    "plot_the_loss_curve(epochs, rmse)\n",
    "\n",
    "predict_house_values(10, my_feature, my_label)"
   ]
  },
  {
   "cell_type": "markdown",
   "metadata": {
    "colab_type": "text",
    "id": "Nd_rHJ59AUtk"
   },
   "source": [
    "Did `population` produce better predictions than `total_rooms`?"
   ]
  },
  {
   "cell_type": "code",
   "execution_count": 0,
   "metadata": {
    "cellView": "form",
    "colab": {},
    "colab_type": "code",
    "id": "F0tPEtzcC-vK"
   },
   "outputs": [],
   "source": [
    "#@title Double-click to view the answer.\n",
    "\n",
    "# Training is not entirely deterministic, but population \n",
    "# typically converges at a slightly higher RMSE than \n",
    "# total_rooms.  So, population appears to be about \n",
    "# the same or slightly worse at making predictions \n",
    "# than total_rooms."
   ]
  },
  {
   "cell_type": "markdown",
   "metadata": {
    "colab_type": "text",
    "id": "C8uYpyGacsIg"
   },
   "source": [
    "## Task 4: Define a synthetic feature\n",
    "\n",
    "You have determined that `total_rooms` and `population` were not useful features.  That is, neither the total number of rooms in a neighborhood nor the neighborhood's population successfully predicted the median house price of that neighborhood. Perhaps though, the *ratio* of `total_rooms` to `population` might have some predictive power. That is, perhaps block density relates to median house value.\n",
    "\n",
    "To explore this hypothesis, do the following: \n",
    "\n",
    "1. Create a [synthetic feature](https://developers.google.com/machine-learning/glossary/#synthetic_feature) that's a ratio of `total_rooms` to `population`. (If you are new to pandas DataFrames, please study the [Pandas DataFrame Ultraquick Tutorial](https://colab.research.google.com/github/google/eng-edu/blob/master/ml/cc/exercises/pandas_dataframe_ultraquick_tutorial.ipynb?utm_source=linearregressionreal-colab&utm_medium=colab&utm_campaign=colab-external&utm_content=pandas_tf2-colab&hl=en).)\n",
    "2. Tune the three hyperparameters.\n",
    "3. Determine whether this synthetic feature produces \n",
    "   a lower loss value than any of the single features you \n",
    "   tried earlier in this exercise."
   ]
  },
  {
   "cell_type": "code",
   "execution_count": 20,
   "metadata": {
    "colab": {},
    "colab_type": "code",
    "id": "4Kx2xHSgdcpg"
   },
   "outputs": [
    {
     "name": "stdout",
     "output_type": "stream",
     "text": [
      "Epoch 1/20\n",
      "532/532 [==============================] - 0s 447us/step - loss: 41594.9062 - root_mean_squared_error: 203.9483\n",
      "Epoch 2/20\n",
      "532/532 [==============================] - 0s 474us/step - loss: 22725.4648 - root_mean_squared_error: 150.7497\n",
      "Epoch 3/20\n",
      "532/532 [==============================] - 0s 513us/step - loss: 16048.5850 - root_mean_squared_error: 126.6830\n",
      "Epoch 4/20\n",
      "532/532 [==============================] - 0s 514us/step - loss: 14965.6299 - root_mean_squared_error: 122.3341\n",
      "Epoch 5/20\n",
      "532/532 [==============================] - 0s 510us/step - loss: 14865.8174 - root_mean_squared_error: 121.9255\n",
      "Epoch 6/20\n",
      "532/532 [==============================] - 0s 449us/step - loss: 14710.0781 - root_mean_squared_error: 121.2851\n",
      "Epoch 7/20\n",
      "532/532 [==============================] - 0s 443us/step - loss: 14545.0361 - root_mean_squared_error: 120.6028\n",
      "Epoch 8/20\n",
      "532/532 [==============================] - 0s 457us/step - loss: 14412.8174 - root_mean_squared_error: 120.0534\n",
      "Epoch 9/20\n",
      "532/532 [==============================] - 0s 449us/step - loss: 14333.7549 - root_mean_squared_error: 119.7237\n",
      "Epoch 10/20\n",
      "532/532 [==============================] - 0s 438us/step - loss: 14203.5576 - root_mean_squared_error: 119.1787\n",
      "Epoch 11/20\n",
      "532/532 [==============================] - 0s 431us/step - loss: 14106.0645 - root_mean_squared_error: 118.7690\n",
      "Epoch 12/20\n",
      "532/532 [==============================] - 0s 501us/step - loss: 13988.3340 - root_mean_squared_error: 118.2723\n",
      "Epoch 13/20\n",
      "532/532 [==============================] - 0s 437us/step - loss: 13960.0400 - root_mean_squared_error: 118.1526\n",
      "Epoch 14/20\n",
      "532/532 [==============================] - 0s 437us/step - loss: 13879.0771 - root_mean_squared_error: 117.8095\n",
      "Epoch 15/20\n",
      "532/532 [==============================] - 0s 467us/step - loss: 13821.3105 - root_mean_squared_error: 117.5641\n",
      "Epoch 16/20\n",
      "532/532 [==============================] - 0s 489us/step - loss: 13751.3262 - root_mean_squared_error: 117.2661\n",
      "Epoch 17/20\n",
      "532/532 [==============================] - 0s 538us/step - loss: 13712.7852 - root_mean_squared_error: 117.1016\n",
      "Epoch 18/20\n",
      "532/532 [==============================] - 0s 532us/step - loss: 13642.0000 - root_mean_squared_error: 116.7990\n",
      "Epoch 19/20\n",
      "532/532 [==============================] - 0s 499us/step - loss: 13581.0869 - root_mean_squared_error: 116.5379\n",
      "Epoch 20/20\n",
      "532/532 [==============================] - 0s 449us/step - loss: 13589.4980 - root_mean_squared_error: 116.5740\n"
     ]
    },
    {
     "data": {
      "image/png": "[encoded data removed]",
      "text/plain": [
       "<Figure size 432x288 with 1 Axes>"
      ]
     },
     "metadata": {
      "needs_background": "light"
     },
     "output_type": "display_data"
    },
    {
     "name": "stdout",
     "output_type": "stream",
     "text": [
      "feature   label          predicted\n",
      "  value   value          value\n",
      "          in thousand$   in thousand$\n",
      "--------------------------------------\n",
      "    6     67             187\n",
      "    7     80             199\n",
      "    2     86             193\n",
      "    3     73             211\n",
      "    2     66             184\n",
      "    2     74             226\n",
      "    2     82             210\n",
      "    2     48             224\n",
      "    2     58             294\n",
      "    2     48             214\n",
      "    2     86             225\n",
      "    2     62             236\n",
      "    2     49             226\n",
      "    2     70             220\n",
      "    2     45             210\n"
     ]
    }
   ],
   "source": [
    "# Define a synthetic feature named rooms_per_person\n",
    "training_df[\"rooms_per_person\"] = training_df[\"total_rooms\"] / training_df[\"population\"] # write your code here.\n",
    "\n",
    "# Don't change the next two lines.\n",
    "my_feature = \"rooms_per_person\"\n",
    "my_label=\"median_house_value\" \n",
    "\n",
    "# Assign values to these three hyperparameters.\n",
    "learning_rate = 0.05\n",
    "epochs = 20\n",
    "batch_size =  120\n",
    "\n",
    "# Don't change anything below this line.\n",
    "my_model = build_model(learning_rate)\n",
    "weight, bias, epochs, rmse = train_model(my_model, training_df,\n",
    "                                         my_feature, my_label,\n",
    "                                         epochs, batch_size)\n",
    "\n",
    "plot_the_loss_curve(epochs, rmse)\n",
    "predict_house_values(15, my_feature, my_label)"
   ]
  },
  {
   "cell_type": "code",
   "execution_count": 21,
   "metadata": {
    "cellView": "form",
    "colab": {},
    "colab_type": "code",
    "id": "xRfxp_3yofe3"
   },
   "outputs": [
    {
     "name": "stdout",
     "output_type": "stream",
     "text": [
      "Epoch 1/24\n",
      "532/532 [==============================] - 0s 443us/step - loss: 39866.6484 - root_mean_squared_error: 199.6663\n",
      "Epoch 2/24\n",
      "532/532 [==============================] - 0s 442us/step - loss: 20154.5352 - root_mean_squared_error: 141.9667\n",
      "Epoch 3/24\n",
      "532/532 [==============================] - 0s 486us/step - loss: 15257.4932 - root_mean_squared_error: 123.5212\n",
      "Epoch 4/24\n",
      "532/532 [==============================] - 0s 464us/step - loss: 14826.5957 - root_mean_squared_error: 121.7645\n",
      "Epoch 5/24\n",
      "532/532 [==============================] - 0s 449us/step - loss: 14670.9824 - root_mean_squared_error: 121.1238\n",
      "Epoch 6/24\n",
      "532/532 [==============================] - 0s 453us/step - loss: 14518.5537 - root_mean_squared_error: 120.4930\n",
      "Epoch 7/24\n",
      "532/532 [==============================] - 0s 453us/step - loss: 14382.5566 - root_mean_squared_error: 119.9273\n",
      "Epoch 8/24\n",
      "532/532 [==============================] - 0s 519us/step - loss: 14223.9189 - root_mean_squared_error: 119.2641\n",
      "Epoch 9/24\n",
      "532/532 [==============================] - 0s 486us/step - loss: 14124.5186 - root_mean_squared_error: 118.8466\n",
      "Epoch 10/24\n",
      "532/532 [==============================] - 0s 449us/step - loss: 14062.2354 - root_mean_squared_error: 118.5843\n",
      "Epoch 11/24\n",
      "532/532 [==============================] - 0s 435us/step - loss: 13966.8779 - root_mean_squared_error: 118.1815\n",
      "Epoch 12/24\n",
      "532/532 [==============================] - 0s 441us/step - loss: 13870.3818 - root_mean_squared_error: 117.7726\n",
      "Epoch 13/24\n",
      "532/532 [==============================] - 0s 466us/step - loss: 13792.3105 - root_mean_squared_error: 117.4407\n",
      "Epoch 14/24\n",
      "532/532 [==============================] - 0s 514us/step - loss: 13725.6592 - root_mean_squared_error: 117.1566\n",
      "Epoch 15/24\n",
      "532/532 [==============================] - 0s 505us/step - loss: 13628.6855 - root_mean_squared_error: 116.7420\n",
      "Epoch 16/24\n",
      "532/532 [==============================] - 0s 498us/step - loss: 13555.5400 - root_mean_squared_error: 116.4283\n",
      "Epoch 17/24\n",
      "532/532 [==============================] - 0s 469us/step - loss: 13532.0078 - root_mean_squared_error: 116.3272\n",
      "Epoch 18/24\n",
      "532/532 [==============================] - 0s 434us/step - loss: 13511.2139 - root_mean_squared_error: 116.2377\n",
      "Epoch 19/24\n",
      "532/532 [==============================] - 0s 471us/step - loss: 13469.3789 - root_mean_squared_error: 116.0577\n",
      "Epoch 20/24\n",
      "532/532 [==============================] - 0s 495us/step - loss: 13410.8242 - root_mean_squared_error: 115.8051\n",
      "Epoch 21/24\n",
      "532/532 [==============================] - 0s 474us/step - loss: 13392.7656 - root_mean_squared_error: 115.7271\n",
      "Epoch 22/24\n",
      "532/532 [==============================] - 0s 439us/step - loss: 13362.7510 - root_mean_squared_error: 115.5974\n",
      "Epoch 23/24\n",
      "532/532 [==============================] - 0s 439us/step - loss: 13342.2852 - root_mean_squared_error: 115.5088\n",
      "Epoch 24/24\n",
      "532/532 [==============================] - 0s 449us/step - loss: 13320.0225 - root_mean_squared_error: 115.4124\n"
     ]
    },
    {
     "data": {
      "image/png": "[encoded data removed]",
      "text/plain": [
       "<Figure size 432x288 with 1 Axes>"
      ]
     },
     "metadata": {
      "needs_background": "light"
     },
     "output_type": "display_data"
    },
    {
     "name": "stdout",
     "output_type": "stream",
     "text": [
      "WARNING:tensorflow:5 out of the last 6 calls to <function Model.make_predict_function.<locals>.predict_function at 0x7fb254e29280> triggered tf.function retracing. Tracing is expensive and the excessive number of tracings could be due to (1) creating @tf.function repeatedly in a loop, (2) passing tensors with different shapes, (3) passing Python objects instead of tensors. For (1), please define your @tf.function outside of the loop. For (2), @tf.function has experimental_relax_shapes=True option that relaxes argument shapes that can avoid unnecessary retracing. For (3), please refer to https://www.tensorflow.org/tutorials/customization/performance#python_or_tensor_args and https://www.tensorflow.org/api_docs/python/tf/function for  more details.\n",
      "feature   label          predicted\n",
      "  value   value          value\n",
      "          in thousand$   in thousand$\n",
      "--------------------------------------\n",
      "    6     67             190\n",
      "    7     80             201\n",
      "    2     86             196\n",
      "    3     73             212\n",
      "    2     66             187\n",
      "    2     74             225\n",
      "    2     82             211\n",
      "    2     48             223\n",
      "    2     58             287\n",
      "    2     48             214\n",
      "    2     86             224\n",
      "    2     62             234\n",
      "    2     49             225\n",
      "    2     70             219\n",
      "    2     45             211\n"
     ]
    }
   ],
   "source": [
    "#@title Double-click to view a possible solution to Task 4.\n",
    "\n",
    "# Define a synthetic feature\n",
    "training_df[\"rooms_per_person\"] = training_df[\"total_rooms\"] / training_df[\"population\"]\n",
    "my_feature = \"rooms_per_person\"\n",
    "my_label=\"median_house_value\" \n",
    "\n",
    "# Tune the hyperparameters.\n",
    "learning_rate = 0.06\n",
    "epochs = 24\n",
    "batch_size = 30\n",
    "\n",
    "# Don't change anything below this line.\n",
    "my_model = build_model(learning_rate)\n",
    "weight, bias, epochs, mae = train_model(my_model, training_df,\n",
    "                                        my_feature, my_label,\n",
    "                                        epochs, batch_size)\n",
    "\n",
    "plot_the_loss_curve(epochs, mae)\n",
    "predict_house_values(15, my_feature, my_label)\n"
   ]
  },
  {
   "cell_type": "markdown",
   "metadata": {
    "colab_type": "text",
    "id": "HBiDWursB1Wi"
   },
   "source": [
    "Based on the loss values, this synthetic feature produces a better model than the individual features you tried in Task 2 and Task 3. However, the model still isn't creating great predictions.\n"
   ]
  },
  {
   "cell_type": "markdown",
   "metadata": {
    "colab_type": "text",
    "id": "XEG_9oU9O54u"
   },
   "source": [
    "## Task 5. Find feature(s) whose raw values correlate with the label\n",
    "\n",
    "So far, we've relied on trial-and-error to identify possible features for the model.  Let's rely on statistics instead.\n",
    "\n",
    "A **correlation matrix** indicates how each attribute's raw values relate to the other attributes' raw values. Correlation values have the following meanings:\n",
    "\n",
    "  * `1.0`: perfect positive correlation; that is, when one attribute rises, the other attribute rises.\n",
    "  * `-1.0`: perfect negative correlation; that is, when one attribute rises, the other attribute falls. \n",
    "  * `0.0`: no correlation; the two column's [are not linearly related](https://en.wikipedia.org/wiki/Correlation_and_dependence#/media/File:Correlation_examples2.svg).\n",
    "\n",
    "In general, the higher the absolute value of a correlation value, the greater its predictive power. For example, a correlation value of -0.8 implies far more predictive power than a correlation of -0.2.\n",
    "\n",
    "The following code cell generates the correlation matrix for attributes of the California Housing Dataset:"
   ]
  },
  {
   "cell_type": "code",
   "execution_count": 22,
   "metadata": {
    "colab": {},
    "colab_type": "code",
    "id": "zFGKL45LO8Tt"
   },
   "outputs": [
    {
     "data": {
      "text/html": [
       "<div>\n",
       "<style scoped>\n",
       "    .dataframe tbody tr th:only-of-type {\n",
       "        vertical-align: middle;\n",
       "    }\n",
       "\n",
       "    .dataframe tbody tr th {\n",
       "        vertical-align: top;\n",
       "    }\n",
       "\n",
       "    .dataframe thead th {\n",
       "        text-align: right;\n",
       "    }\n",
       "</style>\n",
       "<table border=\"1\" class=\"dataframe\">\n",
       "  <thead>\n",
       "    <tr style=\"text-align: right;\">\n",
       "      <th></th>\n",
       "      <th>longitude</th>\n",
       "      <th>latitude</th>\n",
       "      <th>housing_median_age</th>\n",
       "      <th>total_rooms</th>\n",
       "      <th>total_bedrooms</th>\n",
       "      <th>population</th>\n",
       "      <th>households</th>\n",
       "      <th>median_income</th>\n",
       "      <th>median_house_value</th>\n",
       "      <th>rooms_per_person</th>\n",
       "    </tr>\n",
       "  </thead>\n",
       "  <tbody>\n",
       "    <tr>\n",
       "      <th>longitude</th>\n",
       "      <td>1.0</td>\n",
       "      <td>-0.9</td>\n",
       "      <td>-0.1</td>\n",
       "      <td>0.0</td>\n",
       "      <td>0.1</td>\n",
       "      <td>0.1</td>\n",
       "      <td>0.1</td>\n",
       "      <td>-0.0</td>\n",
       "      <td>-0.0</td>\n",
       "      <td>-0.1</td>\n",
       "    </tr>\n",
       "    <tr>\n",
       "      <th>latitude</th>\n",
       "      <td>-0.9</td>\n",
       "      <td>1.0</td>\n",
       "      <td>0.0</td>\n",
       "      <td>-0.0</td>\n",
       "      <td>-0.1</td>\n",
       "      <td>-0.1</td>\n",
       "      <td>-0.1</td>\n",
       "      <td>-0.1</td>\n",
       "      <td>-0.1</td>\n",
       "      <td>0.1</td>\n",
       "    </tr>\n",
       "    <tr>\n",
       "      <th>housing_median_age</th>\n",
       "      <td>-0.1</td>\n",
       "      <td>0.0</td>\n",
       "      <td>1.0</td>\n",
       "      <td>-0.4</td>\n",
       "      <td>-0.3</td>\n",
       "      <td>-0.3</td>\n",
       "      <td>-0.3</td>\n",
       "      <td>-0.1</td>\n",
       "      <td>0.1</td>\n",
       "      <td>-0.1</td>\n",
       "    </tr>\n",
       "    <tr>\n",
       "      <th>total_rooms</th>\n",
       "      <td>0.0</td>\n",
       "      <td>-0.0</td>\n",
       "      <td>-0.4</td>\n",
       "      <td>1.0</td>\n",
       "      <td>0.9</td>\n",
       "      <td>0.9</td>\n",
       "      <td>0.9</td>\n",
       "      <td>0.2</td>\n",
       "      <td>0.1</td>\n",
       "      <td>0.1</td>\n",
       "    </tr>\n",
       "    <tr>\n",
       "      <th>total_bedrooms</th>\n",
       "      <td>0.1</td>\n",
       "      <td>-0.1</td>\n",
       "      <td>-0.3</td>\n",
       "      <td>0.9</td>\n",
       "      <td>1.0</td>\n",
       "      <td>0.9</td>\n",
       "      <td>1.0</td>\n",
       "      <td>-0.0</td>\n",
       "      <td>0.0</td>\n",
       "      <td>0.0</td>\n",
       "    </tr>\n",
       "    <tr>\n",
       "      <th>population</th>\n",
       "      <td>0.1</td>\n",
       "      <td>-0.1</td>\n",
       "      <td>-0.3</td>\n",
       "      <td>0.9</td>\n",
       "      <td>0.9</td>\n",
       "      <td>1.0</td>\n",
       "      <td>0.9</td>\n",
       "      <td>-0.0</td>\n",
       "      <td>-0.0</td>\n",
       "      <td>-0.1</td>\n",
       "    </tr>\n",
       "    <tr>\n",
       "      <th>households</th>\n",
       "      <td>0.1</td>\n",
       "      <td>-0.1</td>\n",
       "      <td>-0.3</td>\n",
       "      <td>0.9</td>\n",
       "      <td>1.0</td>\n",
       "      <td>0.9</td>\n",
       "      <td>1.0</td>\n",
       "      <td>0.0</td>\n",
       "      <td>0.1</td>\n",
       "      <td>-0.0</td>\n",
       "    </tr>\n",
       "    <tr>\n",
       "      <th>median_income</th>\n",
       "      <td>-0.0</td>\n",
       "      <td>-0.1</td>\n",
       "      <td>-0.1</td>\n",
       "      <td>0.2</td>\n",
       "      <td>-0.0</td>\n",
       "      <td>-0.0</td>\n",
       "      <td>0.0</td>\n",
       "      <td>1.0</td>\n",
       "      <td>0.7</td>\n",
       "      <td>0.2</td>\n",
       "    </tr>\n",
       "    <tr>\n",
       "      <th>median_house_value</th>\n",
       "      <td>-0.0</td>\n",
       "      <td>-0.1</td>\n",
       "      <td>0.1</td>\n",
       "      <td>0.1</td>\n",
       "      <td>0.0</td>\n",
       "      <td>-0.0</td>\n",
       "      <td>0.1</td>\n",
       "      <td>0.7</td>\n",
       "      <td>1.0</td>\n",
       "      <td>0.2</td>\n",
       "    </tr>\n",
       "    <tr>\n",
       "      <th>rooms_per_person</th>\n",
       "      <td>-0.1</td>\n",
       "      <td>0.1</td>\n",
       "      <td>-0.1</td>\n",
       "      <td>0.1</td>\n",
       "      <td>0.0</td>\n",
       "      <td>-0.1</td>\n",
       "      <td>-0.0</td>\n",
       "      <td>0.2</td>\n",
       "      <td>0.2</td>\n",
       "      <td>1.0</td>\n",
       "    </tr>\n",
       "  </tbody>\n",
       "</table>\n",
       "</div>"
      ],
      "text/plain": [
       "                    longitude  latitude  housing_median_age  total_rooms  \\\n",
       "longitude                 1.0      -0.9                -0.1          0.0   \n",
       "latitude                 -0.9       1.0                 0.0         -0.0   \n",
       "housing_median_age       -0.1       0.0                 1.0         -0.4   \n",
       "total_rooms               0.0      -0.0                -0.4          1.0   \n",
       "total_bedrooms            0.1      -0.1                -0.3          0.9   \n",
       "population                0.1      -0.1                -0.3          0.9   \n",
       "households                0.1      -0.1                -0.3          0.9   \n",
       "median_income            -0.0      -0.1                -0.1          0.2   \n",
       "median_house_value       -0.0      -0.1                 0.1          0.1   \n",
       "rooms_per_person         -0.1       0.1                -0.1          0.1   \n",
       "\n",
       "                    total_bedrooms  population  households  median_income  \\\n",
       "longitude                      0.1         0.1         0.1           -0.0   \n",
       "latitude                      -0.1        -0.1        -0.1           -0.1   \n",
       "housing_median_age            -0.3        -0.3        -0.3           -0.1   \n",
       "total_rooms                    0.9         0.9         0.9            0.2   \n",
       "total_bedrooms                 1.0         0.9         1.0           -0.0   \n",
       "population                     0.9         1.0         0.9           -0.0   \n",
       "households                     1.0         0.9         1.0            0.0   \n",
       "median_income                 -0.0        -0.0         0.0            1.0   \n",
       "median_house_value             0.0        -0.0         0.1            0.7   \n",
       "rooms_per_person               0.0        -0.1        -0.0            0.2   \n",
       "\n",
       "                    median_house_value  rooms_per_person  \n",
       "longitude                         -0.0              -0.1  \n",
       "latitude                          -0.1               0.1  \n",
       "housing_median_age                 0.1              -0.1  \n",
       "total_rooms                        0.1               0.1  \n",
       "total_bedrooms                     0.0               0.0  \n",
       "population                        -0.0              -0.1  \n",
       "households                         0.1              -0.0  \n",
       "median_income                      0.7               0.2  \n",
       "median_house_value                 1.0               0.2  \n",
       "rooms_per_person                   0.2               1.0  "
      ]
     },
     "execution_count": 22,
     "metadata": {},
     "output_type": "execute_result"
    }
   ],
   "source": [
    "# Generate a correlation matrix.\n",
    "training_df.corr()"
   ]
  },
  {
   "cell_type": "markdown",
   "metadata": {
    "colab_type": "text",
    "id": "hp0r3NAVPEdt"
   },
   "source": [
    "The correlation matrix shows nine potential features (including a synthetic\n",
    "feature) and one label (`median_house_value`).  A strong negative correlation or strong positive correlation with the label suggests a potentially good feature.  \n",
    "\n",
    "**Your Task:** Determine which of the nine potential features appears to be the best candidate for a feature?"
   ]
  },
  {
   "cell_type": "code",
   "execution_count": 0,
   "metadata": {
    "cellView": "form",
    "colab": {},
    "colab_type": "code",
    "id": "RomQTd1OPVd0"
   },
   "outputs": [],
   "source": [
    "#@title Double-click here for the solution to Task 5\n",
    "\n",
    "# The `median_income` correlates 0.7 with the label \n",
    "# (median_house_value), so median_income` might be a \n",
    "# good feature. The other seven potential features\n",
    "# all have a correlation relatively close to 0. \n",
    "\n",
    "# If time permits, try median_income as the feature\n",
    "# and see whether the model improves."
   ]
  },
  {
   "cell_type": "markdown",
   "metadata": {
    "colab_type": "text",
    "id": "8RqvEbaVSlRt"
   },
   "source": [
    "Correlation matrices don't tell the entire story. In later exercises, you'll find additional ways to unlock predictive power from potential features.\n",
    "\n",
    "**Note:** Using `median_income` as a feature may raise some ethical and fairness\n",
    "issues. Towards the end of the course, we'll explore ethical and fairness issues."
   ]
  }
 ],
 "metadata": {
  "colab": {
   "collapsed_sections": [],
   "name": "Linear Regression with a Real Dataset.ipynb",
   "private_outputs": true,
   "provenance": []
  },
  "kernelspec": {
   "display_name": "Python 3",
   "language": "python",
   "name": "python3"
  },
  "language_info": {
   "codemirror_mode": {
    "name": "ipython",
    "version": 3
   },
   "file_extension": ".py",
   "mimetype": "text/x-python",
   "name": "python",
   "nbconvert_exporter": "python",
   "pygments_lexer": "ipython3",
   "version": "3.8.5"
  }
 },
 "nbformat": 4,
 "nbformat_minor": 1
}
